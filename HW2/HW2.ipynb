{
 "cells": [
  {
   "cell_type": "markdown",
   "metadata": {},
   "source": [
    "## STATS 306 WI 2020, HW 2, _?? points_\n",
    "\n",
    "Assigned: 01/30/2020\n",
    "\n",
    "Due: 01/13/2020"
   ]
  },
  {
   "cell_type": "code",
   "execution_count": 1,
   "metadata": {},
   "outputs": [
    {
     "name": "stderr",
     "output_type": "stream",
     "text": [
      "── \u001b[1mAttaching packages\u001b[22m ─────────────────────────────────────── tidyverse 1.3.0 ──\n",
      "\n",
      "\u001b[32m✔\u001b[39m \u001b[34mggplot2\u001b[39m 3.2.1     \u001b[32m✔\u001b[39m \u001b[34mpurrr  \u001b[39m 0.3.3\n",
      "\u001b[32m✔\u001b[39m \u001b[34mtibble \u001b[39m 2.1.3     \u001b[32m✔\u001b[39m \u001b[34mdplyr  \u001b[39m 0.8.3\n",
      "\u001b[32m✔\u001b[39m \u001b[34mtidyr  \u001b[39m 1.0.0     \u001b[32m✔\u001b[39m \u001b[34mstringr\u001b[39m 1.4.0\n",
      "\u001b[32m✔\u001b[39m \u001b[34mreadr  \u001b[39m 1.3.1     \u001b[32m✔\u001b[39m \u001b[34mforcats\u001b[39m 0.4.0\n",
      "\n",
      "── \u001b[1mConflicts\u001b[22m ────────────────────────────────────────── tidyverse_conflicts() ──\n",
      "\u001b[31m✖\u001b[39m \u001b[34mdplyr\u001b[39m::\u001b[32mfilter()\u001b[39m masks \u001b[34mstats\u001b[39m::filter()\n",
      "\u001b[31m✖\u001b[39m \u001b[34mdplyr\u001b[39m::\u001b[32mlag()\u001b[39m    masks \u001b[34mstats\u001b[39m::lag()\n",
      "\n"
     ]
    }
   ],
   "source": [
    "library(tidyverse)"
   ]
  },
  {
   "cell_type": "markdown",
   "metadata": {},
   "source": [
    "### Problem 1, _6 points_"
   ]
  },
  {
   "cell_type": "markdown",
   "metadata": {},
   "source": [
    "**(1)** Statistical transformations produce new **computed variables**. What are the two computed variables for `stat_count()` _2 points_"
   ]
  },
  {
   "cell_type": "markdown",
   "metadata": {},
   "source": []
  },
  {
   "cell_type": "markdown",
   "metadata": {},
   "source": [
    "**(2)** Two of the **computed variables** for the `stat_smooth()` transformation are the predicted value and the standard error. What are the **names** of these computed variables? _2 points_"
   ]
  },
  {
   "cell_type": "markdown",
   "metadata": {},
   "source": []
  },
  {
   "cell_type": "markdown",
   "metadata": {},
   "source": [
    "**(3)** In one of the previous lectures, we once used the `geom_hex()` geometry that draws hexagonal bins. What is the name of the **statistical transformation** that it uses? _1 point_ "
   ]
  },
  {
   "cell_type": "markdown",
   "metadata": {},
   "source": []
  },
  {
   "cell_type": "markdown",
   "metadata": {},
   "source": [
    "**(4)** What is the name of the ggplot geometry that is just a shorthand for `geom point()` with the argument `position = \"jitter\"`? _1 point_"
   ]
  },
  {
   "cell_type": "markdown",
   "metadata": {},
   "source": []
  },
  {
   "cell_type": "markdown",
   "metadata": {},
   "source": [
    "### Problem 2, _7 points_"
   ]
  },
  {
   "cell_type": "markdown",
   "metadata": {},
   "source": [
    "**(1)** Using R's colon operator, write the command to create a vector containing the 10 integers 1, 2, ..., 10 and assign that vector to a variable `my_vec`. _2 points_"
   ]
  },
  {
   "cell_type": "code",
   "execution_count": null,
   "metadata": {},
   "outputs": [],
   "source": []
  },
  {
   "cell_type": "markdown",
   "metadata": {},
   "source": [
    "**(2)** The `sqrt` function computes the square root of each element of a vector. Use it to compute the square roots of each element of `my_vec`. _1 point_"
   ]
  },
  {
   "cell_type": "code",
   "execution_count": null,
   "metadata": {},
   "outputs": [],
   "source": []
  },
  {
   "cell_type": "markdown",
   "metadata": {},
   "source": [
    "**(3)** I lied to you about **Coxcomb charts** in the lecture. For example, I told you that you can create them by creating a bar chart first and then switching to polar coordinates as follows:\n",
    "\n",
    "```\n",
    "ggplot(data = diamonds) +\n",
    "    geom_bar(mapping = aes(x = cut, fill = cut), width = 1) +\n",
    "    labs(x=NULL) +\n",
    "    theme(axis.title.y=element_blank(),axis.text.y=element_blank(),axis.ticks.y=element_blank()) +\n",
    "    coord_polar()\n",
    "```\n",
    "\n",
    "The result of the command above is the following plot:\n",
    "![incorrect coxcomb chart](./plot1.png)\n",
    "\n",
    "But there is a problem! For bars of equal width, making their heights proportional to counts makes the area proportional to counts too. This is *not true* for sectors of a circle that have the same angle. The area of a sector with a fixed angle is proportional to the *square* of the radius. Fix the command above so that it generates a proper Coxcomb chart, i.e., one where the different colored sectors have areas proportional to the counts. Your solution should only change one line, namely the line containing `geom_bar()`. _4 points_\n",
    "\n",
    "Your final result should look like this:\n",
    "![correct coxcomb chart](./plot2.png)"
   ]
  },
  {
   "cell_type": "code",
   "execution_count": null,
   "metadata": {},
   "outputs": [],
   "source": []
  },
  {
   "cell_type": "markdown",
   "metadata": {},
   "source": [
    "### Problem 3, _6 points_"
   ]
  },
  {
   "cell_type": "markdown",
   "metadata": {},
   "source": [
    "**(1)** Write the code to generate the following plot using the `mpg` data set. _3 points_\n",
    "\n",
    "![title](Rplot1.jpeg)"
   ]
  },
  {
   "cell_type": "code",
   "execution_count": null,
   "metadata": {},
   "outputs": [],
   "source": []
  },
  {
   "cell_type": "markdown",
   "metadata": {},
   "source": [
    "**(2)** Write the code to generate the following plot using the `mpg` data set. _3 points_\n",
    "\n",
    "![title](Rplot2.jpeg)"
   ]
  },
  {
   "cell_type": "code",
   "execution_count": null,
   "metadata": {},
   "outputs": [],
   "source": []
  },
  {
   "cell_type": "markdown",
   "metadata": {},
   "source": [
    "### Problem 4, _4 points_"
   ]
  },
  {
   "cell_type": "markdown",
   "metadata": {},
   "source": [
    "**(1)** Alice wanted to create a scatter plot using the `mpg` data sets with `displ` on the x-axis and `hwy` on the y-axis. However, she wanted the points to be in blue color. She wrote the following code.\n",
    "\n",
    "```\n",
    "ggplot(data = mpg) + \n",
    "  geom_point(mapping = aes(x = displ, y = hwy, color = \"blue\"))\n",
    "```\n",
    "\n",
    "This however doesn't quite achieve what Alice was trying to do. Can you help her? Write the correct code below. _2 points_"
   ]
  },
  {
   "cell_type": "code",
   "execution_count": null,
   "metadata": {},
   "outputs": [],
   "source": []
  },
  {
   "cell_type": "markdown",
   "metadata": {},
   "source": [
    "**(2)** Write the code to generate the following plot using the `mpg` data set. _2 points_\n",
    "\n",
    "![title](Rplot3.jpeg)"
   ]
  },
  {
   "cell_type": "code",
   "execution_count": null,
   "metadata": {},
   "outputs": [],
   "source": []
  },
  {
   "cell_type": "markdown",
   "metadata": {},
   "source": [
    "### Problem 5, _5 points_"
   ]
  },
  {
   "cell_type": "markdown",
   "metadata": {},
   "source": [
    "**(1)** What does the `se` argument to `geom_smooth()` do? _1 point_"
   ]
  },
  {
   "cell_type": "markdown",
   "metadata": {},
   "source": []
  },
  {
   "cell_type": "markdown",
   "metadata": {},
   "source": [
    "**(2)** Write the code to generate the following plot using the `mpg` data set. _4 points_\n",
    "\n",
    "![title](Rplot4.jpeg)"
   ]
  },
  {
   "cell_type": "code",
   "execution_count": null,
   "metadata": {},
   "outputs": [],
   "source": []
  }
 ],
 "metadata": {
  "kernelspec": {
   "display_name": "R",
   "language": "R",
   "name": "ir"
  },
  "language_info": {
   "codemirror_mode": "r",
   "file_extension": ".r",
   "mimetype": "text/x-r-source",
   "name": "R",
   "pygments_lexer": "r",
   "version": "3.6.2"
  }
 },
 "nbformat": 4,
 "nbformat_minor": 2
}
