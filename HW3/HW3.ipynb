{
 "cells": [
  {
   "cell_type": "markdown",
   "metadata": {},
   "source": [
    "## STATS 306 WI 2020, HW 3, _25 points_\n",
    "\n",
    "Assigned: 03/06/2020\n",
    "\n",
    "Due: 03/20/2020"
   ]
  },
  {
   "cell_type": "code",
   "execution_count": 1,
   "metadata": {},
   "outputs": [
    {
     "name": "stderr",
     "output_type": "stream",
     "text": [
      "── \u001b[1mAttaching packages\u001b[22m ─────────────────────────────────────── tidyverse 1.3.0 ──\n",
      "\n",
      "\u001b[32m✔\u001b[39m \u001b[34mggplot2\u001b[39m 3.2.1     \u001b[32m✔\u001b[39m \u001b[34mpurrr  \u001b[39m 0.3.3\n",
      "\u001b[32m✔\u001b[39m \u001b[34mtibble \u001b[39m 2.1.3     \u001b[32m✔\u001b[39m \u001b[34mdplyr  \u001b[39m 0.8.3\n",
      "\u001b[32m✔\u001b[39m \u001b[34mtidyr  \u001b[39m 1.0.0     \u001b[32m✔\u001b[39m \u001b[34mstringr\u001b[39m 1.4.0\n",
      "\u001b[32m✔\u001b[39m \u001b[34mreadr  \u001b[39m 1.3.1     \u001b[32m✔\u001b[39m \u001b[34mforcats\u001b[39m 0.4.0\n",
      "\n",
      "── \u001b[1mConflicts\u001b[22m ────────────────────────────────────────── tidyverse_conflicts() ──\n",
      "\u001b[31m✖\u001b[39m \u001b[34mdplyr\u001b[39m::\u001b[32mfilter()\u001b[39m masks \u001b[34mstats\u001b[39m::filter()\n",
      "\u001b[31m✖\u001b[39m \u001b[34mdplyr\u001b[39m::\u001b[32mlag()\u001b[39m    masks \u001b[34mstats\u001b[39m::lag()\n",
      "\n"
     ]
    }
   ],
   "source": [
    "library(tidyverse)\n",
    "library(nycflights13)"
   ]
  },
  {
   "cell_type": "markdown",
   "metadata": {},
   "source": [
    "### Problem 1, _7 points_"
   ]
  },
  {
   "cell_type": "markdown",
   "metadata": {},
   "source": [
    "**(1)** Alice wants to compute the mean departure delay (`dep_delay`) of flights grouped by destination airport (`dest`). She types:\n",
    "\n",
    "```\n",
    "flights %>%\n",
    "    group_by(dest) %>%\n",
    "    summarize(delay = mean(dep_delay))\n",
    "```\n",
    "\n",
    "But most of the values in the `delay` column of the computed tibble are `NA`. Explain, as briefly as possible, what is going on?, _1 point_"
   ]
  },
  {
   "cell_type": "markdown",
   "metadata": {},
   "source": []
  },
  {
   "cell_type": "markdown",
   "metadata": {},
   "source": [
    "**(2)** Modify Alice's code so that the code doesn't return a tibble with mostly `NA` for the `delay` column. _2 points_"
   ]
  },
  {
   "cell_type": "code",
   "execution_count": null,
   "metadata": {},
   "outputs": [],
   "source": []
  },
  {
   "cell_type": "markdown",
   "metadata": {},
   "source": [
    "**(3)** Building on your code from above, add a column named `count` in the summarized tibble that has the count of the number of flights flying to each destination airport. Then sort the rows in increasing order of `delay`. Use a single command involving pipes to accomplish both tasks. _2 points_ "
   ]
  },
  {
   "cell_type": "code",
   "execution_count": null,
   "metadata": {},
   "outputs": [],
   "source": []
  },
  {
   "cell_type": "markdown",
   "metadata": {},
   "source": [
    "**(4)** Which airport has the least average delay? How many flights is this conclusion drawn from? Is it a reliable conclusion? _2 points_"
   ]
  },
  {
   "cell_type": "markdown",
   "metadata": {},
   "source": []
  },
  {
   "cell_type": "markdown",
   "metadata": {},
   "source": [
    "### Problem 2, _7 points_"
   ]
  },
  {
   "cell_type": "markdown",
   "metadata": {},
   "source": [
    "**(1)** Write the command to create a histogram showing the distribution of `air_time` using the `flights` tibble. Use a binwidth of 20 minutes. _2 points_"
   ]
  },
  {
   "cell_type": "code",
   "execution_count": null,
   "metadata": {},
   "outputs": [],
   "source": []
  },
  {
   "cell_type": "markdown",
   "metadata": {},
   "source": [
    "**(2)** Do you see any outliers at around 10 hours. Use a filter command to return only the outliers. Which airport are all these outlier flights flying to? _2 points_"
   ]
  },
  {
   "cell_type": "code",
   "execution_count": null,
   "metadata": {},
   "outputs": [],
   "source": []
  },
  {
   "cell_type": "markdown",
   "metadata": {},
   "source": [
    "**(3)** I lied to you about **Coxcomb charts** in the lecture. For example, I told you that you can create them by creating a bar chart first and then switching to polar coordinates as follows:\n",
    "\n",
    "```\n",
    "ggplot(data = diamonds) +\n",
    "    geom_bar(mapping = aes(x = cut, fill = cut), width = 1) +\n",
    "    labs(x=NULL) +\n",
    "    theme(axis.title.y=element_blank(),axis.text.y=element_blank(),axis.ticks.y=element_blank()) +\n",
    "    coord_polar()\n",
    "```\n",
    "\n",
    "The result of the command above is the following plot:\n",
    "![incorrect coxcomb chart](https://github.com/ambujtewari/stats306-winter2020/raw/master/HW2/plot1.png)\n",
    "\n",
    "But there is a problem! For bars of equal width, making their heights proportional to counts makes the area proportional to counts too. This is *not true* for sectors of a circle that have the same angle. The area of a sector with a fixed angle is proportional to the *square* of the radius. Fix the command above so that it generates a proper Coxcomb chart, i.e., one where the different colored sectors have areas proportional to the counts. Your solution should only change one line, namely the line containing `geom_bar()`. _4 points_\n",
    "\n",
    "Your final result should look like this:\n",
    "![correct coxcomb chart](https://github.com/ambujtewari/stats306-winter2020/raw/master/HW2/plot2.png)"
   ]
  },
  {
   "cell_type": "code",
   "execution_count": null,
   "metadata": {},
   "outputs": [],
   "source": []
  },
  {
   "cell_type": "markdown",
   "metadata": {},
   "source": [
    "### Problem 3, _4 points_"
   ]
  },
  {
   "cell_type": "markdown",
   "metadata": {},
   "source": [
    "**(1)** Alice wants to find all rows in the `flights` data frame (part of the `nycflights13` package) that have the `arr_time` variable missing. She types the command `filter(flights, arr_time == NA)` and sees that she retrieved zero rows! In the first markdown cell below, explain why and then in the following code cell write the correct command for Alice. _2 points_"
   ]
  },
  {
   "cell_type": "markdown",
   "metadata": {},
   "source": []
  },
  {
   "cell_type": "code",
   "execution_count": null,
   "metadata": {},
   "outputs": [],
   "source": []
  },
  {
   "cell_type": "markdown",
   "metadata": {},
   "source": [
    "**(2)** Name four variables in the tibble `flights` whose *type* is character vector, or string. _2 points_"
   ]
  },
  {
   "cell_type": "markdown",
   "metadata": {},
   "source": []
  },
  {
   "cell_type": "markdown",
   "metadata": {},
   "source": [
    "### Problem 4, _3 points_"
   ]
  },
  {
   "cell_type": "markdown",
   "metadata": {},
   "source": [
    "**(1)** What is the name of the package that defines the commands `filter()`, `arrange()` and `select()`. _1 point_"
   ]
  },
  {
   "cell_type": "markdown",
   "metadata": {},
   "source": []
  },
  {
   "cell_type": "markdown",
   "metadata": {},
   "source": [
    "**(2)** Write the command to return those flights from the `flights` tibble that flew to Houston (airport codes **IAH** or **HOU**). _2 points_"
   ]
  },
  {
   "cell_type": "code",
   "execution_count": null,
   "metadata": {},
   "outputs": [],
   "source": []
  },
  {
   "cell_type": "markdown",
   "metadata": {},
   "source": [
    "### Problem 5, _5 points_"
   ]
  },
  {
   "cell_type": "markdown",
   "metadata": {},
   "source": [
    "**(1)** We want to add two new variables to the `mpg` tibble. These should be called `cty_metric` and `hwy_metric` and should represent the city and highway fuel efficiency but reported in kilometers per liter instead of miles per gallon. The conversion from mpg to kmpl is done by dividing the mpg value by `2.352`. Write the command below to accomplish this. _2 points_"
   ]
  },
  {
   "cell_type": "code",
   "execution_count": null,
   "metadata": {},
   "outputs": [],
   "source": []
  },
  {
   "cell_type": "markdown",
   "metadata": {},
   "source": [
    "**(2)** Using the `mpg` tibble we want to create another tibble that just has three variables `manufacturer`, `mean_hwy` and `mean_cty`. The last two variables should be the mean highway and city mileage for all cars manufactured by the given manufacturer. Write the command to create such a tibble below. _3 points_\n",
    "\n",
    "Your tibble should look like this:\n",
    "```\n",
    "# A tibble: 15 x 3\n",
    "   manufacturer mean_hwy mean_cty\n",
    "   <chr>           <dbl>    <dbl>\n",
    " 1 audi             26.4     17.6\n",
    " 2 chevrolet        21.9     15  \n",
    " 3 dodge            17.9     13.1\n",
    " 4 ford             19.4     14  \n",
    " 5 honda            32.6     24.4\n",
    " 6 hyundai          26.9     18.6\n",
    " 7 jeep             17.6     13.5\n",
    " 8 land rover       16.5     11.5\n",
    " 9 lincoln          17       11.3\n",
    "10 mercury          18       13.2\n",
    "11 nissan           24.6     18.1\n",
    "12 pontiac          26.4     17  \n",
    "13 subaru           25.6     19.3\n",
    "14 toyota           24.9     18.5\n",
    "15 volkswagen       29.2     20.9\n",
    "```"
   ]
  },
  {
   "cell_type": "code",
   "execution_count": null,
   "metadata": {},
   "outputs": [],
   "source": []
  }
 ],
 "metadata": {
  "kernelspec": {
   "display_name": "R",
   "language": "R",
   "name": "ir"
  },
  "language_info": {
   "codemirror_mode": "r",
   "file_extension": ".r",
   "mimetype": "text/x-r-source",
   "name": "R",
   "pygments_lexer": "r",
   "version": "3.6.2"
  }
 },
 "nbformat": 4,
 "nbformat_minor": 2
}
