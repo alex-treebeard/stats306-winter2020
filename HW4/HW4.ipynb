{
 "cells": [
  {
   "cell_type": "markdown",
   "metadata": {},
   "source": [
    "## STATS 306 WI 2020, HW 4, _25 points_\n",
    "\n",
    "Assigned: 03/23/2020\n",
    "\n",
    "Due: 04/06/2020 at 11:59 pm (no credit for late submissions)"
   ]
  },
  {
   "cell_type": "code",
   "execution_count": 1,
   "metadata": {},
   "outputs": [
    {
     "name": "stderr",
     "output_type": "stream",
     "text": [
      "── \u001b[1mAttaching packages\u001b[22m ─────────────────────────────────────── tidyverse 1.3.0 ──\n",
      "\n",
      "\u001b[32m✔\u001b[39m \u001b[34mggplot2\u001b[39m 3.2.1     \u001b[32m✔\u001b[39m \u001b[34mpurrr  \u001b[39m 0.3.3\n",
      "\u001b[32m✔\u001b[39m \u001b[34mtibble \u001b[39m 2.1.3     \u001b[32m✔\u001b[39m \u001b[34mdplyr  \u001b[39m 0.8.3\n",
      "\u001b[32m✔\u001b[39m \u001b[34mtidyr  \u001b[39m 1.0.0     \u001b[32m✔\u001b[39m \u001b[34mstringr\u001b[39m 1.4.0\n",
      "\u001b[32m✔\u001b[39m \u001b[34mreadr  \u001b[39m 1.3.1     \u001b[32m✔\u001b[39m \u001b[34mforcats\u001b[39m 0.4.0\n",
      "\n",
      "── \u001b[1mConflicts\u001b[22m ────────────────────────────────────────── tidyverse_conflicts() ──\n",
      "\u001b[31m✖\u001b[39m \u001b[34mdplyr\u001b[39m::\u001b[32mfilter()\u001b[39m masks \u001b[34mstats\u001b[39m::filter()\n",
      "\u001b[31m✖\u001b[39m \u001b[34mdplyr\u001b[39m::\u001b[32mlag()\u001b[39m    masks \u001b[34mstats\u001b[39m::lag()\n",
      "\n"
     ]
    }
   ],
   "source": [
    "library(tidyverse)\n",
    "library(nycflights13)"
   ]
  },
  {
   "cell_type": "markdown",
   "metadata": {},
   "source": [
    "### Problem 1, _5 points_"
   ]
  },
  {
   "cell_type": "markdown",
   "metadata": {},
   "source": [
    "There are no right or wrong answers for this problem. I am just including it to make HW 4 a bit less stressful as we all continue to learn how to deal with the COVID-19 pandemic."
   ]
  },
  {
   "cell_type": "markdown",
   "metadata": {},
   "source": [
    "**(1)** List 5 things that made you smile last week! _1 point_"
   ]
  },
  {
   "cell_type": "markdown",
   "metadata": {},
   "source": [
    "- sth that made you smile\n",
    "- sth that made you smile\n",
    "- sth that made you smile\n",
    "- sth that made you smile\n",
    "- sth that made you smile"
   ]
  },
  {
   "cell_type": "markdown",
   "metadata": {},
   "source": [
    "**(2)** List 4 adjectives that describe your last week! _1 point_"
   ]
  },
  {
   "cell_type": "markdown",
   "metadata": {},
   "source": [
    "- adj that describes your last week\n",
    "- adj that describes your last week\n",
    "- adj that describes your last week\n",
    "- adj that describes your last week"
   ]
  },
  {
   "cell_type": "markdown",
   "metadata": {},
   "source": [
    "**(3)** List 3 things you are looking forward to in the next week! _1 point_ "
   ]
  },
  {
   "cell_type": "markdown",
   "metadata": {},
   "source": [
    "- sth you look forward to\n",
    "- sth you look forward to\n",
    "- sth you look forward to"
   ]
  },
  {
   "cell_type": "markdown",
   "metadata": {},
   "source": [
    "**(4)** List 2 things you learnt last week! _1 point_"
   ]
  },
  {
   "cell_type": "markdown",
   "metadata": {},
   "source": [
    "- sth you learnt\n",
    "- sth you learnt"
   ]
  },
  {
   "cell_type": "markdown",
   "metadata": {},
   "source": [
    "**(5)** List 1 goal you have for next week! _1 point_"
   ]
  },
  {
   "cell_type": "markdown",
   "metadata": {},
   "source": []
  },
  {
   "cell_type": "markdown",
   "metadata": {},
   "source": [
    "### Problem 2, _5 points_\n",
    "\n",
    "In the code output below, don't worry about the greater than sign before `writeLines()`. That's just the R prompt that does not show up in jupyter. I included it below so that it is easy to figure out indentation levels across different lines."
   ]
  },
  {
   "cell_type": "markdown",
   "metadata": {},
   "source": [
    " **(1)** Create a string and assign to the variable `beckett` such that `writeLines(beckett)` displays the following: _1 point_\n",
    " \n",
    "```\n",
    "> writeLines(beckett)\n",
    "Ever tried. Ever failed. No matter.\n",
    "Try Again. Fail again. Fail better.\n",
    "-- Samuel Beckett\n",
    " ```"
   ]
  },
  {
   "cell_type": "code",
   "execution_count": null,
   "metadata": {},
   "outputs": [],
   "source": []
  },
  {
   "cell_type": "markdown",
   "metadata": {},
   "source": [
    "**(2)** Create a string and assign to the variable `covid19` such that `writeLines(covid19)` displays the following. Note that the whitespace before the numbers 1, 2, 3, etc. is supposed to be a tab character. _1 point_\n",
    "\n",
    "```\n",
    "> writeLines(covid19)\n",
    "DO THE FIVE\n",
    "Help stop coronavirus\n",
    "\n",
    "\t1. HANDS Wash them often\n",
    "\t2. ELBOW Cough into it\n",
    "\t3. FACE Don't touch it.\n",
    "\t4. SPACE Keep safe distance\n",
    "\t5. HOME Stay if you can\n",
    "```"
   ]
  },
  {
   "cell_type": "code",
   "execution_count": null,
   "metadata": {},
   "outputs": [],
   "source": []
  },
  {
   "cell_type": "markdown",
   "metadata": {},
   "source": [
    "**(3)** Create a string and assign to the variable `drseuss` such that `writeLines(drseuss)` displays the following: _1 point_\n",
    "\n",
    "```\n",
    "> writeLines(drseuss)\n",
    "The more you READ,\n",
    " the more you know,\n",
    "  the more you LEARN,\n",
    "   the more places\n",
    "    you'll GO!\n",
    "-Dr. Seuss\n",
    "```"
   ]
  },
  {
   "cell_type": "code",
   "execution_count": null,
   "metadata": {},
   "outputs": [],
   "source": []
  },
  {
   "cell_type": "markdown",
   "metadata": {},
   "source": [
    "**(4)** Create a string and assign to the variable `its_all_greek_to_me` such that `writeLines(its_all_greek_to_me)` displays the following: _1 point_\n",
    "\n",
    "```\n",
    "> writeLines(its_all_greek_to_me)\n",
    "The first three small greek letters are:\n",
    "α, β, and γ.\n",
    "The first three capital greek letters are:\n",
    "Α, Β, and Γ.\n",
    "```\n",
    "\n",
    "_Hint:_ You can consult [the wikipedia page](https://en.wikipedia.org/wiki/List_of_Unicode_characters) containing a list of unicode characters."
   ]
  },
  {
   "cell_type": "code",
   "execution_count": null,
   "metadata": {},
   "outputs": [],
   "source": []
  },
  {
   "cell_type": "markdown",
   "metadata": {},
   "source": [
    "**(5)**  Create a string and assign to the variable `escapes` such that `writeLines(escapes)` displays the following: _1 point_\n",
    "\n",
    "```\n",
    "> writeLines(escapes)\n",
    "The most common are \"\\n\", newline, and \"\\t\", tab.\n",
    "```"
   ]
  },
  {
   "cell_type": "code",
   "execution_count": null,
   "metadata": {},
   "outputs": [],
   "source": []
  },
  {
   "cell_type": "markdown",
   "metadata": {},
   "source": [
    "### Problem 3, _5 points_"
   ]
  },
  {
   "cell_type": "markdown",
   "metadata": {},
   "source": [
    "**(1)** Here's code that creates an annoying tibble:"
   ]
  },
  {
   "cell_type": "code",
   "execution_count": 2,
   "metadata": {},
   "outputs": [],
   "source": [
    "annoying <- tibble(\n",
    "  `1` = 1:10,\n",
    "  `2` = `1` * 2 + rnorm(length(`1`))\n",
    ")"
   ]
  },
  {
   "cell_type": "markdown",
   "metadata": {},
   "source": [
    "It's annoying because it uses **non-syntactic** names for its two variables.\n",
    "\n",
    "Write the command to extract the variable called `1`. _1 point_"
   ]
  },
  {
   "cell_type": "code",
   "execution_count": null,
   "metadata": {},
   "outputs": [],
   "source": []
  },
  {
   "cell_type": "markdown",
   "metadata": {},
   "source": [
    "**(2)** Write the code to create a scatter plot with `1` on the x-axis and `2` on the y-axis. _2 points_"
   ]
  },
  {
   "cell_type": "code",
   "execution_count": null,
   "metadata": {},
   "outputs": [],
   "source": []
  },
  {
   "cell_type": "markdown",
   "metadata": {},
   "source": [
    "**(3)** Write the code to create a new column called `3` which is `2` divided by `1`. _1 point_"
   ]
  },
  {
   "cell_type": "code",
   "execution_count": null,
   "metadata": {},
   "outputs": [],
   "source": []
  },
  {
   "cell_type": "markdown",
   "metadata": {},
   "source": [
    "**(4)** Write the code to rename the columns to `one`, `two` and `three`. _1 point_"
   ]
  },
  {
   "cell_type": "code",
   "execution_count": null,
   "metadata": {},
   "outputs": [],
   "source": []
  },
  {
   "cell_type": "markdown",
   "metadata": {},
   "source": [
    "### Problem 4, _5 points_"
   ]
  },
  {
   "cell_type": "markdown",
   "metadata": {},
   "source": [
    "**(1)** Use the `tribble` command to create a tibble called `salaries` that would print as follows: _2 points_\n",
    "\n",
    "```\n",
    "# A tibble: 3 x 3\n",
    "  name    `2018` `2019`\n",
    "  <chr>    <dbl>  <dbl>\n",
    "1 Alice    60000  80000\n",
    "2 Bob      55000  60000\n",
    "3 Charlie  65000  70000\n",
    "```"
   ]
  },
  {
   "cell_type": "code",
   "execution_count": null,
   "metadata": {},
   "outputs": [],
   "source": []
  },
  {
   "cell_type": "markdown",
   "metadata": {},
   "source": [
    "**(2)** Write a command using the `pivot_longer()` function to convert `salaries` to `salaries_tidy` that would print as follows: _1 point_\n",
    "\n",
    "```\n",
    "# A tibble: 6 x 3\n",
    "  name    year  salary\n",
    "  <chr>   <chr>  <dbl>\n",
    "1 Alice   2018   60000\n",
    "2 Alice   2019   80000\n",
    "3 Bob     2018   55000\n",
    "4 Bob     2019   60000\n",
    "5 Charlie 2018   65000\n",
    "6 Charlie 2019   70000\n",
    "```"
   ]
  },
  {
   "cell_type": "code",
   "execution_count": null,
   "metadata": {},
   "outputs": [],
   "source": []
  },
  {
   "cell_type": "markdown",
   "metadata": {},
   "source": [
    "Write a command using the `pivot_longer()` function to convert `salaries` to `salaries_tidy2` that would print as follows: _2 points_\n",
    "\n",
    "```\n",
    "# A tibble: 6 x 3\n",
    "  name    year  salary\n",
    "  <chr>   <chr>  <int>\n",
    "1 Alice   2018   60000\n",
    "2 Alice   2019   80000\n",
    "3 Bob     2018   55000\n",
    "4 Bob     2019   60000\n",
    "5 Charlie 2018   65000\n",
    "6 Charlie 2019   70000\n",
    "```\n",
    "\n",
    "_Hint_: Observe the _types_ of the columns carefully."
   ]
  },
  {
   "cell_type": "code",
   "execution_count": null,
   "metadata": {},
   "outputs": [],
   "source": []
  }
 ],
 "metadata": {
  "kernelspec": {
   "display_name": "R",
   "language": "R",
   "name": "ir"
  },
  "language_info": {
   "codemirror_mode": "r",
   "file_extension": ".r",
   "mimetype": "text/x-r-source",
   "name": "R",
   "pygments_lexer": "r",
   "version": "3.6.2"
  }
 },
 "nbformat": 4,
 "nbformat_minor": 2
}
