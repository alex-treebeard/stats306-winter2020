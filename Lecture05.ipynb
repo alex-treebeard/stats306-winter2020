{
 "cells": [
  {
   "cell_type": "markdown",
   "metadata": {},
   "source": [
    "In this notebook, we will cover:\n",
    "\n",
    "* [Adding New Variables](#Adding-New-Variables)\n",
    "\n",
    "Let us load up the `tidyverse` and `nycflights13` packages."
   ]
  },
  {
   "cell_type": "code",
   "execution_count": 1,
   "metadata": {},
   "outputs": [
    {
     "name": "stderr",
     "output_type": "stream",
     "text": [
      "── \u001b[1mAttaching packages\u001b[22m ─────────────────────────────────────── tidyverse 1.3.0 ──\n",
      "\n",
      "\u001b[32m✔\u001b[39m \u001b[34mggplot2\u001b[39m 3.2.1     \u001b[32m✔\u001b[39m \u001b[34mpurrr  \u001b[39m 0.3.3\n",
      "\u001b[32m✔\u001b[39m \u001b[34mtibble \u001b[39m 2.1.3     \u001b[32m✔\u001b[39m \u001b[34mdplyr  \u001b[39m 0.8.3\n",
      "\u001b[32m✔\u001b[39m \u001b[34mtidyr  \u001b[39m 1.0.0     \u001b[32m✔\u001b[39m \u001b[34mstringr\u001b[39m 1.4.0\n",
      "\u001b[32m✔\u001b[39m \u001b[34mreadr  \u001b[39m 1.3.1     \u001b[32m✔\u001b[39m \u001b[34mforcats\u001b[39m 0.4.0\n",
      "\n",
      "── \u001b[1mConflicts\u001b[22m ────────────────────────────────────────── tidyverse_conflicts() ──\n",
      "\u001b[31m✖\u001b[39m \u001b[34mdplyr\u001b[39m::\u001b[32mfilter()\u001b[39m masks \u001b[34mstats\u001b[39m::filter()\n",
      "\u001b[31m✖\u001b[39m \u001b[34mdplyr\u001b[39m::\u001b[32mlag()\u001b[39m    masks \u001b[34mstats\u001b[39m::lag()\n",
      "\n"
     ]
    }
   ],
   "source": [
    "library(tidyverse)\n",
    "library(nycflights13)"
   ]
  },
  {
   "cell_type": "markdown",
   "metadata": {},
   "source": [
    "# Adding New Variables"
   ]
  },
  {
   "cell_type": "markdown",
   "metadata": {},
   "source": [
    "Let us zoom in on a few variables of interest."
   ]
  },
  {
   "cell_type": "code",
   "execution_count": 2,
   "metadata": {},
   "outputs": [
    {
     "data": {
      "text/html": [
       "<table>\n",
       "<caption>A tibble: 6 × 8</caption>\n",
       "<thead>\n",
       "\t<tr><th scope=col>year</th><th scope=col>month</th><th scope=col>day</th><th scope=col>dep_time</th><th scope=col>arr_time</th><th scope=col>air_time</th><th scope=col>origin</th><th scope=col>dest</th></tr>\n",
       "\t<tr><th scope=col>&lt;int&gt;</th><th scope=col>&lt;int&gt;</th><th scope=col>&lt;int&gt;</th><th scope=col>&lt;int&gt;</th><th scope=col>&lt;int&gt;</th><th scope=col>&lt;dbl&gt;</th><th scope=col>&lt;chr&gt;</th><th scope=col>&lt;chr&gt;</th></tr>\n",
       "</thead>\n",
       "<tbody>\n",
       "\t<tr><td>2013</td><td>1</td><td>1</td><td>517</td><td> 830</td><td>227</td><td>EWR</td><td>IAH</td></tr>\n",
       "\t<tr><td>2013</td><td>1</td><td>1</td><td>533</td><td> 850</td><td>227</td><td>LGA</td><td>IAH</td></tr>\n",
       "\t<tr><td>2013</td><td>1</td><td>1</td><td>542</td><td> 923</td><td>160</td><td>JFK</td><td>MIA</td></tr>\n",
       "\t<tr><td>2013</td><td>1</td><td>1</td><td>544</td><td>1004</td><td>183</td><td>JFK</td><td>BQN</td></tr>\n",
       "\t<tr><td>2013</td><td>1</td><td>1</td><td>554</td><td> 812</td><td>116</td><td>LGA</td><td>ATL</td></tr>\n",
       "\t<tr><td>2013</td><td>1</td><td>1</td><td>554</td><td> 740</td><td>150</td><td>EWR</td><td>ORD</td></tr>\n",
       "</tbody>\n",
       "</table>\n"
      ],
      "text/latex": [
       "A tibble: 6 × 8\n",
       "\\begin{tabular}{llllllll}\n",
       " year & month & day & dep\\_time & arr\\_time & air\\_time & origin & dest\\\\\n",
       " <int> & <int> & <int> & <int> & <int> & <dbl> & <chr> & <chr>\\\\\n",
       "\\hline\n",
       "\t 2013 & 1 & 1 & 517 &  830 & 227 & EWR & IAH\\\\\n",
       "\t 2013 & 1 & 1 & 533 &  850 & 227 & LGA & IAH\\\\\n",
       "\t 2013 & 1 & 1 & 542 &  923 & 160 & JFK & MIA\\\\\n",
       "\t 2013 & 1 & 1 & 544 & 1004 & 183 & JFK & BQN\\\\\n",
       "\t 2013 & 1 & 1 & 554 &  812 & 116 & LGA & ATL\\\\\n",
       "\t 2013 & 1 & 1 & 554 &  740 & 150 & EWR & ORD\\\\\n",
       "\\end{tabular}\n"
      ],
      "text/markdown": [
       "\n",
       "A tibble: 6 × 8\n",
       "\n",
       "| year &lt;int&gt; | month &lt;int&gt; | day &lt;int&gt; | dep_time &lt;int&gt; | arr_time &lt;int&gt; | air_time &lt;dbl&gt; | origin &lt;chr&gt; | dest &lt;chr&gt; |\n",
       "|---|---|---|---|---|---|---|---|\n",
       "| 2013 | 1 | 1 | 517 |  830 | 227 | EWR | IAH |\n",
       "| 2013 | 1 | 1 | 533 |  850 | 227 | LGA | IAH |\n",
       "| 2013 | 1 | 1 | 542 |  923 | 160 | JFK | MIA |\n",
       "| 2013 | 1 | 1 | 544 | 1004 | 183 | JFK | BQN |\n",
       "| 2013 | 1 | 1 | 554 |  812 | 116 | LGA | ATL |\n",
       "| 2013 | 1 | 1 | 554 |  740 | 150 | EWR | ORD |\n",
       "\n"
      ],
      "text/plain": [
       "  year month day dep_time arr_time air_time origin dest\n",
       "1 2013 1     1   517       830     227      EWR    IAH \n",
       "2 2013 1     1   533       850     227      LGA    IAH \n",
       "3 2013 1     1   542       923     160      JFK    MIA \n",
       "4 2013 1     1   544      1004     183      JFK    BQN \n",
       "5 2013 1     1   554       812     116      LGA    ATL \n",
       "6 2013 1     1   554       740     150      EWR    ORD "
      ]
     },
     "metadata": {},
     "output_type": "display_data"
    }
   ],
   "source": [
    "my_flights <- select(flights, year:day, dep_time, arr_time, air_time, origin, dest)\n",
    "head(my_flights)"
   ]
  },
  {
   "cell_type": "markdown",
   "metadata": {},
   "source": [
    "Additional variable can be added using the `mutate()` function. We already have an `air_time` variable. Let us compute the total time for the flight by subtracting the time of departure `dep_time` from time of arrival `arr_time`.\n",
    "\n",
    "We notice something odd though. When we subtract 5h 17m from 8h 30m we should get 3h 13m, i.e. 193 minutes. But instead we get 313 minutes below."
   ]
  },
  {
   "cell_type": "code",
   "execution_count": 3,
   "metadata": {},
   "outputs": [
    {
     "data": {
      "text/html": [
       "<table>\n",
       "<caption>A tibble: 6 × 9</caption>\n",
       "<thead>\n",
       "\t<tr><th scope=col>year</th><th scope=col>month</th><th scope=col>day</th><th scope=col>dep_time</th><th scope=col>arr_time</th><th scope=col>air_time</th><th scope=col>origin</th><th scope=col>dest</th><th scope=col>total_time</th></tr>\n",
       "\t<tr><th scope=col>&lt;int&gt;</th><th scope=col>&lt;int&gt;</th><th scope=col>&lt;int&gt;</th><th scope=col>&lt;int&gt;</th><th scope=col>&lt;int&gt;</th><th scope=col>&lt;dbl&gt;</th><th scope=col>&lt;chr&gt;</th><th scope=col>&lt;chr&gt;</th><th scope=col>&lt;int&gt;</th></tr>\n",
       "</thead>\n",
       "<tbody>\n",
       "\t<tr><td>2013</td><td>1</td><td>1</td><td>517</td><td> 830</td><td>227</td><td>EWR</td><td>IAH</td><td>313</td></tr>\n",
       "\t<tr><td>2013</td><td>1</td><td>1</td><td>533</td><td> 850</td><td>227</td><td>LGA</td><td>IAH</td><td>317</td></tr>\n",
       "\t<tr><td>2013</td><td>1</td><td>1</td><td>542</td><td> 923</td><td>160</td><td>JFK</td><td>MIA</td><td>381</td></tr>\n",
       "\t<tr><td>2013</td><td>1</td><td>1</td><td>544</td><td>1004</td><td>183</td><td>JFK</td><td>BQN</td><td>460</td></tr>\n",
       "\t<tr><td>2013</td><td>1</td><td>1</td><td>554</td><td> 812</td><td>116</td><td>LGA</td><td>ATL</td><td>258</td></tr>\n",
       "\t<tr><td>2013</td><td>1</td><td>1</td><td>554</td><td> 740</td><td>150</td><td>EWR</td><td>ORD</td><td>186</td></tr>\n",
       "</tbody>\n",
       "</table>\n"
      ],
      "text/latex": [
       "A tibble: 6 × 9\n",
       "\\begin{tabular}{lllllllll}\n",
       " year & month & day & dep\\_time & arr\\_time & air\\_time & origin & dest & total\\_time\\\\\n",
       " <int> & <int> & <int> & <int> & <int> & <dbl> & <chr> & <chr> & <int>\\\\\n",
       "\\hline\n",
       "\t 2013 & 1 & 1 & 517 &  830 & 227 & EWR & IAH & 313\\\\\n",
       "\t 2013 & 1 & 1 & 533 &  850 & 227 & LGA & IAH & 317\\\\\n",
       "\t 2013 & 1 & 1 & 542 &  923 & 160 & JFK & MIA & 381\\\\\n",
       "\t 2013 & 1 & 1 & 544 & 1004 & 183 & JFK & BQN & 460\\\\\n",
       "\t 2013 & 1 & 1 & 554 &  812 & 116 & LGA & ATL & 258\\\\\n",
       "\t 2013 & 1 & 1 & 554 &  740 & 150 & EWR & ORD & 186\\\\\n",
       "\\end{tabular}\n"
      ],
      "text/markdown": [
       "\n",
       "A tibble: 6 × 9\n",
       "\n",
       "| year &lt;int&gt; | month &lt;int&gt; | day &lt;int&gt; | dep_time &lt;int&gt; | arr_time &lt;int&gt; | air_time &lt;dbl&gt; | origin &lt;chr&gt; | dest &lt;chr&gt; | total_time &lt;int&gt; |\n",
       "|---|---|---|---|---|---|---|---|---|\n",
       "| 2013 | 1 | 1 | 517 |  830 | 227 | EWR | IAH | 313 |\n",
       "| 2013 | 1 | 1 | 533 |  850 | 227 | LGA | IAH | 317 |\n",
       "| 2013 | 1 | 1 | 542 |  923 | 160 | JFK | MIA | 381 |\n",
       "| 2013 | 1 | 1 | 544 | 1004 | 183 | JFK | BQN | 460 |\n",
       "| 2013 | 1 | 1 | 554 |  812 | 116 | LGA | ATL | 258 |\n",
       "| 2013 | 1 | 1 | 554 |  740 | 150 | EWR | ORD | 186 |\n",
       "\n"
      ],
      "text/plain": [
       "  year month day dep_time arr_time air_time origin dest total_time\n",
       "1 2013 1     1   517       830     227      EWR    IAH  313       \n",
       "2 2013 1     1   533       850     227      LGA    IAH  317       \n",
       "3 2013 1     1   542       923     160      JFK    MIA  381       \n",
       "4 2013 1     1   544      1004     183      JFK    BQN  460       \n",
       "5 2013 1     1   554       812     116      LGA    ATL  258       \n",
       "6 2013 1     1   554       740     150      EWR    ORD  186       "
      ]
     },
     "metadata": {},
     "output_type": "display_data"
    }
   ],
   "source": [
    "mutate(my_flights, total_time = arr_time - dep_time) %>%\n",
    "    head()"
   ]
  },
  {
   "cell_type": "markdown",
   "metadata": {},
   "source": [
    "The issue is that `dep_time` and `arr_time` are in the hour-minute notation which is great to look at but not very useful for computations. We should first convert these times into the number of minutes elapsed since midnight.\n",
    "\n",
    "We want add to new variables `new_dep` and `new_arr` but we need to write a function first that can do the conversion."
   ]
  },
  {
   "cell_type": "code",
   "execution_count": 4,
   "metadata": {},
   "outputs": [],
   "source": [
    "hourmin2min <- function(hourmin) {\n",
    "    min <- hourmin %% 100 # quotient after division by 100\n",
    "    hour <- (hourmin - min) %/% 100 # remainder after division by 100\n",
    "    return(60*hour + min)\n",
    "} "
   ]
  },
  {
   "cell_type": "markdown",
   "metadata": {},
   "source": [
    "Let us test the function on 530. That's 5h 30min, i.e., 330 minutes since midnight."
   ]
  },
  {
   "cell_type": "code",
   "execution_count": 5,
   "metadata": {},
   "outputs": [
    {
     "data": {
      "text/html": [
       "330"
      ],
      "text/latex": [
       "330"
      ],
      "text/markdown": [
       "330"
      ],
      "text/plain": [
       "[1] 330"
      ]
     },
     "metadata": {},
     "output_type": "display_data"
    }
   ],
   "source": [
    "hourmin2min(530)"
   ]
  },
  {
   "cell_type": "markdown",
   "metadata": {},
   "source": [
    "The `hourmin2min` function is **vectorized**: given a vector, it outputs a vector."
   ]
  },
  {
   "cell_type": "code",
   "execution_count": 6,
   "metadata": {},
   "outputs": [
    {
     "data": {
      "text/html": [
       "<ol class=list-inline>\n",
       "\t<li>270</li>\n",
       "\t<li>330</li>\n",
       "\t<li>390</li>\n",
       "\t<li>450</li>\n",
       "</ol>\n"
      ],
      "text/latex": [
       "\\begin{enumerate*}\n",
       "\\item 270\n",
       "\\item 330\n",
       "\\item 390\n",
       "\\item 450\n",
       "\\end{enumerate*}\n"
      ],
      "text/markdown": [
       "1. 270\n",
       "2. 330\n",
       "3. 390\n",
       "4. 450\n",
       "\n",
       "\n"
      ],
      "text/plain": [
       "[1] 270 330 390 450"
      ]
     },
     "metadata": {},
     "output_type": "display_data"
    }
   ],
   "source": [
    "hourmin2min(c(430,530,630,730))"
   ]
  },
  {
   "cell_type": "markdown",
   "metadata": {},
   "source": [
    "R provides you with several in-built vectorized functions that can be used to create more complicated function. These include:\n",
    "\n",
    "* **Arithmetic operators** `+, -, *, /, ^`\n",
    "* **Modular arithmetic operators** `%/%` and `%%` \n",
    "* **Logarithms** `log()`, `log10()`, `log2()`\n",
    "* **Offsets** `lag()` and `lead()`"
   ]
  },
  {
   "cell_type": "code",
   "execution_count": 7,
   "metadata": {},
   "outputs": [
    {
     "data": {
      "text/html": [
       "1.66666666666667"
      ],
      "text/latex": [
       "1.66666666666667"
      ],
      "text/markdown": [
       "1.66666666666667"
      ],
      "text/plain": [
       "[1] 1.666667"
      ]
     },
     "metadata": {},
     "output_type": "display_data"
    },
    {
     "data": {
      "text/html": [
       "1"
      ],
      "text/latex": [
       "1"
      ],
      "text/markdown": [
       "1"
      ],
      "text/plain": [
       "[1] 1"
      ]
     },
     "metadata": {},
     "output_type": "display_data"
    }
   ],
   "source": [
    "5 / 3   # regular division\n",
    "5 %/% 3 # integer division"
   ]
  },
  {
   "cell_type": "code",
   "execution_count": 8,
   "metadata": {},
   "outputs": [
    {
     "data": {
      "text/html": [
       "<ol class=list-inline>\n",
       "\t<li>1</li>\n",
       "\t<li>2</li>\n",
       "\t<li>3</li>\n",
       "\t<li>4</li>\n",
       "\t<li>0</li>\n",
       "\t<li>1</li>\n",
       "\t<li>2</li>\n",
       "\t<li>3</li>\n",
       "\t<li>4</li>\n",
       "\t<li>0</li>\n",
       "\t<li>1</li>\n",
       "\t<li>2</li>\n",
       "\t<li>3</li>\n",
       "\t<li>4</li>\n",
       "\t<li>0</li>\n",
       "\t<li>1</li>\n",
       "\t<li>2</li>\n",
       "\t<li>3</li>\n",
       "\t<li>4</li>\n",
       "\t<li>0</li>\n",
       "</ol>\n"
      ],
      "text/latex": [
       "\\begin{enumerate*}\n",
       "\\item 1\n",
       "\\item 2\n",
       "\\item 3\n",
       "\\item 4\n",
       "\\item 0\n",
       "\\item 1\n",
       "\\item 2\n",
       "\\item 3\n",
       "\\item 4\n",
       "\\item 0\n",
       "\\item 1\n",
       "\\item 2\n",
       "\\item 3\n",
       "\\item 4\n",
       "\\item 0\n",
       "\\item 1\n",
       "\\item 2\n",
       "\\item 3\n",
       "\\item 4\n",
       "\\item 0\n",
       "\\end{enumerate*}\n"
      ],
      "text/markdown": [
       "1. 1\n",
       "2. 2\n",
       "3. 3\n",
       "4. 4\n",
       "5. 0\n",
       "6. 1\n",
       "7. 2\n",
       "8. 3\n",
       "9. 4\n",
       "10. 0\n",
       "11. 1\n",
       "12. 2\n",
       "13. 3\n",
       "14. 4\n",
       "15. 0\n",
       "16. 1\n",
       "17. 2\n",
       "18. 3\n",
       "19. 4\n",
       "20. 0\n",
       "\n",
       "\n"
      ],
      "text/plain": [
       " [1] 1 2 3 4 0 1 2 3 4 0 1 2 3 4 0 1 2 3 4 0"
      ]
     },
     "metadata": {},
     "output_type": "display_data"
    }
   ],
   "source": [
    "1:20 %% 5  # shorter argument 5 is extended to match length of longer argument"
   ]
  },
  {
   "cell_type": "code",
   "execution_count": 9,
   "metadata": {},
   "outputs": [
    {
     "data": {
      "text/html": [
       "<ol class=list-inline>\n",
       "\t<li>TRUE</li>\n",
       "\t<li>TRUE</li>\n",
       "\t<li>TRUE</li>\n",
       "\t<li>TRUE</li>\n",
       "\t<li>TRUE</li>\n",
       "\t<li>TRUE</li>\n",
       "\t<li>TRUE</li>\n",
       "\t<li>TRUE</li>\n",
       "\t<li>TRUE</li>\n",
       "\t<li>TRUE</li>\n",
       "</ol>\n"
      ],
      "text/latex": [
       "\\begin{enumerate*}\n",
       "\\item TRUE\n",
       "\\item TRUE\n",
       "\\item TRUE\n",
       "\\item TRUE\n",
       "\\item TRUE\n",
       "\\item TRUE\n",
       "\\item TRUE\n",
       "\\item TRUE\n",
       "\\item TRUE\n",
       "\\item TRUE\n",
       "\\end{enumerate*}\n"
      ],
      "text/markdown": [
       "1. TRUE\n",
       "2. TRUE\n",
       "3. TRUE\n",
       "4. TRUE\n",
       "5. TRUE\n",
       "6. TRUE\n",
       "7. TRUE\n",
       "8. TRUE\n",
       "9. TRUE\n",
       "10. TRUE\n",
       "\n",
       "\n"
      ],
      "text/plain": [
       " [1] TRUE TRUE TRUE TRUE TRUE TRUE TRUE TRUE TRUE TRUE"
      ]
     },
     "metadata": {},
     "output_type": "display_data"
    }
   ],
   "source": [
    "near(1:10, exp(log(1:10))) # log to base e"
   ]
  },
  {
   "cell_type": "code",
   "execution_count": 10,
   "metadata": {},
   "outputs": [
    {
     "data": {
      "text/html": [
       "<ol class=list-inline>\n",
       "\t<li>TRUE</li>\n",
       "\t<li>TRUE</li>\n",
       "\t<li>TRUE</li>\n",
       "\t<li>TRUE</li>\n",
       "\t<li>TRUE</li>\n",
       "\t<li>TRUE</li>\n",
       "\t<li>TRUE</li>\n",
       "\t<li>TRUE</li>\n",
       "\t<li>TRUE</li>\n",
       "\t<li>TRUE</li>\n",
       "</ol>\n"
      ],
      "text/latex": [
       "\\begin{enumerate*}\n",
       "\\item TRUE\n",
       "\\item TRUE\n",
       "\\item TRUE\n",
       "\\item TRUE\n",
       "\\item TRUE\n",
       "\\item TRUE\n",
       "\\item TRUE\n",
       "\\item TRUE\n",
       "\\item TRUE\n",
       "\\item TRUE\n",
       "\\end{enumerate*}\n"
      ],
      "text/markdown": [
       "1. TRUE\n",
       "2. TRUE\n",
       "3. TRUE\n",
       "4. TRUE\n",
       "5. TRUE\n",
       "6. TRUE\n",
       "7. TRUE\n",
       "8. TRUE\n",
       "9. TRUE\n",
       "10. TRUE\n",
       "\n",
       "\n"
      ],
      "text/plain": [
       " [1] TRUE TRUE TRUE TRUE TRUE TRUE TRUE TRUE TRUE TRUE"
      ]
     },
     "metadata": {},
     "output_type": "display_data"
    }
   ],
   "source": [
    "near(1:10, 10^log10(1:10)) # log to base 10"
   ]
  },
  {
   "cell_type": "code",
   "execution_count": 11,
   "metadata": {},
   "outputs": [
    {
     "data": {
      "text/html": [
       "<ol class=list-inline>\n",
       "\t<li>1</li>\n",
       "\t<li>2</li>\n",
       "\t<li>3</li>\n",
       "\t<li>4</li>\n",
       "\t<li>5</li>\n",
       "\t<li>6</li>\n",
       "\t<li>7</li>\n",
       "\t<li>8</li>\n",
       "\t<li>9</li>\n",
       "\t<li>10</li>\n",
       "</ol>\n"
      ],
      "text/latex": [
       "\\begin{enumerate*}\n",
       "\\item 1\n",
       "\\item 2\n",
       "\\item 3\n",
       "\\item 4\n",
       "\\item 5\n",
       "\\item 6\n",
       "\\item 7\n",
       "\\item 8\n",
       "\\item 9\n",
       "\\item 10\n",
       "\\end{enumerate*}\n"
      ],
      "text/markdown": [
       "1. 1\n",
       "2. 2\n",
       "3. 3\n",
       "4. 4\n",
       "5. 5\n",
       "6. 6\n",
       "7. 7\n",
       "8. 8\n",
       "9. 9\n",
       "10. 10\n",
       "\n",
       "\n"
      ],
      "text/plain": [
       " [1]  1  2  3  4  5  6  7  8  9 10"
      ]
     },
     "metadata": {},
     "output_type": "display_data"
    }
   ],
   "source": [
    "log2(2^(1:10))  # log to base 2"
   ]
  },
  {
   "cell_type": "code",
   "execution_count": 12,
   "metadata": {},
   "outputs": [
    {
     "data": {
      "text/html": [
       "<ol class=list-inline>\n",
       "\t<li>1</li>\n",
       "\t<li>2</li>\n",
       "\t<li>3</li>\n",
       "\t<li>4</li>\n",
       "\t<li>5</li>\n",
       "\t<li>6</li>\n",
       "\t<li>7</li>\n",
       "\t<li>8</li>\n",
       "\t<li>9</li>\n",
       "\t<li>10</li>\n",
       "</ol>\n"
      ],
      "text/latex": [
       "\\begin{enumerate*}\n",
       "\\item 1\n",
       "\\item 2\n",
       "\\item 3\n",
       "\\item 4\n",
       "\\item 5\n",
       "\\item 6\n",
       "\\item 7\n",
       "\\item 8\n",
       "\\item 9\n",
       "\\item 10\n",
       "\\end{enumerate*}\n"
      ],
      "text/markdown": [
       "1. 1\n",
       "2. 2\n",
       "3. 3\n",
       "4. 4\n",
       "5. 5\n",
       "6. 6\n",
       "7. 7\n",
       "8. 8\n",
       "9. 9\n",
       "10. 10\n",
       "\n",
       "\n"
      ],
      "text/plain": [
       " [1]  1  2  3  4  5  6  7  8  9 10"
      ]
     },
     "metadata": {},
     "output_type": "display_data"
    },
    {
     "data": {
      "text/html": [
       "<ol class=list-inline>\n",
       "\t<li>&lt;NA&gt;</li>\n",
       "\t<li>1</li>\n",
       "\t<li>2</li>\n",
       "\t<li>3</li>\n",
       "\t<li>4</li>\n",
       "\t<li>5</li>\n",
       "\t<li>6</li>\n",
       "\t<li>7</li>\n",
       "\t<li>8</li>\n",
       "\t<li>9</li>\n",
       "</ol>\n"
      ],
      "text/latex": [
       "\\begin{enumerate*}\n",
       "\\item <NA>\n",
       "\\item 1\n",
       "\\item 2\n",
       "\\item 3\n",
       "\\item 4\n",
       "\\item 5\n",
       "\\item 6\n",
       "\\item 7\n",
       "\\item 8\n",
       "\\item 9\n",
       "\\end{enumerate*}\n"
      ],
      "text/markdown": [
       "1. &lt;NA&gt;\n",
       "2. 1\n",
       "3. 2\n",
       "4. 3\n",
       "5. 4\n",
       "6. 5\n",
       "7. 6\n",
       "8. 7\n",
       "9. 8\n",
       "10. 9\n",
       "\n",
       "\n"
      ],
      "text/plain": [
       " [1] NA  1  2  3  4  5  6  7  8  9"
      ]
     },
     "metadata": {},
     "output_type": "display_data"
    },
    {
     "data": {
      "text/html": [
       "<ol class=list-inline>\n",
       "\t<li>2</li>\n",
       "\t<li>3</li>\n",
       "\t<li>4</li>\n",
       "\t<li>5</li>\n",
       "\t<li>6</li>\n",
       "\t<li>7</li>\n",
       "\t<li>8</li>\n",
       "\t<li>9</li>\n",
       "\t<li>10</li>\n",
       "\t<li>&lt;NA&gt;</li>\n",
       "</ol>\n"
      ],
      "text/latex": [
       "\\begin{enumerate*}\n",
       "\\item 2\n",
       "\\item 3\n",
       "\\item 4\n",
       "\\item 5\n",
       "\\item 6\n",
       "\\item 7\n",
       "\\item 8\n",
       "\\item 9\n",
       "\\item 10\n",
       "\\item <NA>\n",
       "\\end{enumerate*}\n"
      ],
      "text/markdown": [
       "1. 2\n",
       "2. 3\n",
       "3. 4\n",
       "4. 5\n",
       "5. 6\n",
       "6. 7\n",
       "7. 8\n",
       "8. 9\n",
       "9. 10\n",
       "10. &lt;NA&gt;\n",
       "\n",
       "\n"
      ],
      "text/plain": [
       " [1]  2  3  4  5  6  7  8  9 10 NA"
      ]
     },
     "metadata": {},
     "output_type": "display_data"
    }
   ],
   "source": [
    "(x <- 1:10)\n",
    "lag(x)\n",
    "lead(x)"
   ]
  },
  {
   "cell_type": "markdown",
   "metadata": {},
   "source": [
    "We also have:\n",
    "\n",
    "* **Logical comparisons** `==, !=, <, <=, >, >=`\n",
    "* **Cumulative aggregates** `cumsum(), cumprod(), cummin(), cummax()` (`dplyr` also provides `cummean()`)"
   ]
  },
  {
   "cell_type": "code",
   "execution_count": 13,
   "metadata": {},
   "outputs": [
    {
     "data": {
      "text/html": [
       "<ol class=list-inline>\n",
       "\t<li>TRUE</li>\n",
       "\t<li>TRUE</li>\n",
       "\t<li>TRUE</li>\n",
       "\t<li>TRUE</li>\n",
       "\t<li>TRUE</li>\n",
       "\t<li>TRUE</li>\n",
       "\t<li>TRUE</li>\n",
       "\t<li>TRUE</li>\n",
       "\t<li>TRUE</li>\n",
       "\t<li>TRUE</li>\n",
       "</ol>\n"
      ],
      "text/latex": [
       "\\begin{enumerate*}\n",
       "\\item TRUE\n",
       "\\item TRUE\n",
       "\\item TRUE\n",
       "\\item TRUE\n",
       "\\item TRUE\n",
       "\\item TRUE\n",
       "\\item TRUE\n",
       "\\item TRUE\n",
       "\\item TRUE\n",
       "\\item TRUE\n",
       "\\end{enumerate*}\n"
      ],
      "text/markdown": [
       "1. TRUE\n",
       "2. TRUE\n",
       "3. TRUE\n",
       "4. TRUE\n",
       "5. TRUE\n",
       "6. TRUE\n",
       "7. TRUE\n",
       "8. TRUE\n",
       "9. TRUE\n",
       "10. TRUE\n",
       "\n",
       "\n"
      ],
      "text/plain": [
       " [1] TRUE TRUE TRUE TRUE TRUE TRUE TRUE TRUE TRUE TRUE"
      ]
     },
     "metadata": {},
     "output_type": "display_data"
    },
    {
     "data": {
      "text/html": [
       "<ol class=list-inline>\n",
       "\t<li>TRUE</li>\n",
       "\t<li>TRUE</li>\n",
       "\t<li>TRUE</li>\n",
       "\t<li>TRUE</li>\n",
       "\t<li>FALSE</li>\n",
       "\t<li>FALSE</li>\n",
       "\t<li>FALSE</li>\n",
       "\t<li>FALSE</li>\n",
       "\t<li>FALSE</li>\n",
       "\t<li>FALSE</li>\n",
       "</ol>\n"
      ],
      "text/latex": [
       "\\begin{enumerate*}\n",
       "\\item TRUE\n",
       "\\item TRUE\n",
       "\\item TRUE\n",
       "\\item TRUE\n",
       "\\item FALSE\n",
       "\\item FALSE\n",
       "\\item FALSE\n",
       "\\item FALSE\n",
       "\\item FALSE\n",
       "\\item FALSE\n",
       "\\end{enumerate*}\n"
      ],
      "text/markdown": [
       "1. TRUE\n",
       "2. TRUE\n",
       "3. TRUE\n",
       "4. TRUE\n",
       "5. FALSE\n",
       "6. FALSE\n",
       "7. FALSE\n",
       "8. FALSE\n",
       "9. FALSE\n",
       "10. FALSE\n",
       "\n",
       "\n"
      ],
      "text/plain": [
       " [1]  TRUE  TRUE  TRUE  TRUE FALSE FALSE FALSE FALSE FALSE FALSE"
      ]
     },
     "metadata": {},
     "output_type": "display_data"
    },
    {
     "data": {
      "text/html": [
       "<ol class=list-inline>\n",
       "\t<li>FALSE</li>\n",
       "\t<li>FALSE</li>\n",
       "\t<li>FALSE</li>\n",
       "\t<li>FALSE</li>\n",
       "\t<li>FALSE</li>\n",
       "\t<li>FALSE</li>\n",
       "\t<li>FALSE</li>\n",
       "\t<li>FALSE</li>\n",
       "\t<li>FALSE</li>\n",
       "\t<li>FALSE</li>\n",
       "</ol>\n"
      ],
      "text/latex": [
       "\\begin{enumerate*}\n",
       "\\item FALSE\n",
       "\\item FALSE\n",
       "\\item FALSE\n",
       "\\item FALSE\n",
       "\\item FALSE\n",
       "\\item FALSE\n",
       "\\item FALSE\n",
       "\\item FALSE\n",
       "\\item FALSE\n",
       "\\item FALSE\n",
       "\\end{enumerate*}\n"
      ],
      "text/markdown": [
       "1. FALSE\n",
       "2. FALSE\n",
       "3. FALSE\n",
       "4. FALSE\n",
       "5. FALSE\n",
       "6. FALSE\n",
       "7. FALSE\n",
       "8. FALSE\n",
       "9. FALSE\n",
       "10. FALSE\n",
       "\n",
       "\n"
      ],
      "text/plain": [
       " [1] FALSE FALSE FALSE FALSE FALSE FALSE FALSE FALSE FALSE FALSE"
      ]
     },
     "metadata": {},
     "output_type": "display_data"
    }
   ],
   "source": [
    "1:10 < 11:20\n",
    "1:10 < 5\n",
    "21 < 11:20"
   ]
  },
  {
   "cell_type": "code",
   "execution_count": 14,
   "metadata": {},
   "outputs": [
    {
     "data": {
      "text/html": [
       "<ol class=list-inline>\n",
       "\t<li>1</li>\n",
       "\t<li>2</li>\n",
       "\t<li>6</li>\n",
       "\t<li>24</li>\n",
       "\t<li>120</li>\n",
       "\t<li>720</li>\n",
       "\t<li>5040</li>\n",
       "\t<li>40320</li>\n",
       "\t<li>362880</li>\n",
       "\t<li>3628800</li>\n",
       "</ol>\n"
      ],
      "text/latex": [
       "\\begin{enumerate*}\n",
       "\\item 1\n",
       "\\item 2\n",
       "\\item 6\n",
       "\\item 24\n",
       "\\item 120\n",
       "\\item 720\n",
       "\\item 5040\n",
       "\\item 40320\n",
       "\\item 362880\n",
       "\\item 3628800\n",
       "\\end{enumerate*}\n"
      ],
      "text/markdown": [
       "1. 1\n",
       "2. 2\n",
       "3. 6\n",
       "4. 24\n",
       "5. 120\n",
       "6. 720\n",
       "7. 5040\n",
       "8. 40320\n",
       "9. 362880\n",
       "10. 3628800\n",
       "\n",
       "\n"
      ],
      "text/plain": [
       " [1]       1       2       6      24     120     720    5040   40320  362880\n",
       "[10] 3628800"
      ]
     },
     "metadata": {},
     "output_type": "display_data"
    }
   ],
   "source": [
    "(factorials <- cumprod(1:10))"
   ]
  },
  {
   "cell_type": "markdown",
   "metadata": {},
   "source": [
    "Finally, we can use these **ranking** functions:\n",
    "\n",
    "* `min_rank()`\n",
    "* `row_number()`\n",
    "* `dense_rank()`\n",
    "* `percent_rank()`\n",
    "* `cume_dist()`\n",
    "* `ntile()`"
   ]
  },
  {
   "cell_type": "code",
   "execution_count": 15,
   "metadata": {},
   "outputs": [
    {
     "data": {
      "text/html": [
       "<ol class=list-inline>\n",
       "\t<li>12</li>\n",
       "\t<li>26</li>\n",
       "\t<li>&lt;NA&gt;</li>\n",
       "\t<li>21</li>\n",
       "\t<li>14</li>\n",
       "\t<li>17</li>\n",
       "\t<li>14</li>\n",
       "\t<li>11</li>\n",
       "\t<li>12</li>\n",
       "\t<li>14</li>\n",
       "</ol>\n"
      ],
      "text/latex": [
       "\\begin{enumerate*}\n",
       "\\item 12\n",
       "\\item 26\n",
       "\\item <NA>\n",
       "\\item 21\n",
       "\\item 14\n",
       "\\item 17\n",
       "\\item 14\n",
       "\\item 11\n",
       "\\item 12\n",
       "\\item 14\n",
       "\\end{enumerate*}\n"
      ],
      "text/markdown": [
       "1. 12\n",
       "2. 26\n",
       "3. &lt;NA&gt;\n",
       "4. 21\n",
       "5. 14\n",
       "6. 17\n",
       "7. 14\n",
       "8. 11\n",
       "9. 12\n",
       "10. 14\n",
       "\n",
       "\n"
      ],
      "text/plain": [
       " [1] 12 26 NA 21 14 17 14 11 12 14"
      ]
     },
     "metadata": {},
     "output_type": "display_data"
    },
    {
     "data": {
      "text/html": [
       "<ol class=list-inline>\n",
       "\t<li>2</li>\n",
       "\t<li>9</li>\n",
       "\t<li>&lt;NA&gt;</li>\n",
       "\t<li>8</li>\n",
       "\t<li>4</li>\n",
       "\t<li>7</li>\n",
       "\t<li>4</li>\n",
       "\t<li>1</li>\n",
       "\t<li>2</li>\n",
       "\t<li>4</li>\n",
       "</ol>\n"
      ],
      "text/latex": [
       "\\begin{enumerate*}\n",
       "\\item 2\n",
       "\\item 9\n",
       "\\item <NA>\n",
       "\\item 8\n",
       "\\item 4\n",
       "\\item 7\n",
       "\\item 4\n",
       "\\item 1\n",
       "\\item 2\n",
       "\\item 4\n",
       "\\end{enumerate*}\n"
      ],
      "text/markdown": [
       "1. 2\n",
       "2. 9\n",
       "3. &lt;NA&gt;\n",
       "4. 8\n",
       "5. 4\n",
       "6. 7\n",
       "7. 4\n",
       "8. 1\n",
       "9. 2\n",
       "10. 4\n",
       "\n",
       "\n"
      ],
      "text/plain": [
       " [1]  2  9 NA  8  4  7  4  1  2  4"
      ]
     },
     "metadata": {},
     "output_type": "display_data"
    },
    {
     "data": {
      "text/html": [
       "<ol class=list-inline>\n",
       "\t<li>7</li>\n",
       "\t<li>1</li>\n",
       "\t<li>&lt;NA&gt;</li>\n",
       "\t<li>2</li>\n",
       "\t<li>4</li>\n",
       "\t<li>3</li>\n",
       "\t<li>4</li>\n",
       "\t<li>9</li>\n",
       "\t<li>7</li>\n",
       "\t<li>4</li>\n",
       "</ol>\n"
      ],
      "text/latex": [
       "\\begin{enumerate*}\n",
       "\\item 7\n",
       "\\item 1\n",
       "\\item <NA>\n",
       "\\item 2\n",
       "\\item 4\n",
       "\\item 3\n",
       "\\item 4\n",
       "\\item 9\n",
       "\\item 7\n",
       "\\item 4\n",
       "\\end{enumerate*}\n"
      ],
      "text/markdown": [
       "1. 7\n",
       "2. 1\n",
       "3. &lt;NA&gt;\n",
       "4. 2\n",
       "5. 4\n",
       "6. 3\n",
       "7. 4\n",
       "8. 9\n",
       "9. 7\n",
       "10. 4\n",
       "\n",
       "\n"
      ],
      "text/plain": [
       " [1]  7  1 NA  2  4  3  4  9  7  4"
      ]
     },
     "metadata": {},
     "output_type": "display_data"
    }
   ],
   "source": [
    "(x <- sample(c(11, 12, 12, 14, 14, 14, 17, 21, 26, NA))) # returns a random permutation of the input\n",
    "min_rank(x) # ranks with smallest value as rank 1\n",
    "min_rank(desc(x)) # ranks with largest value as rank 1"
   ]
  },
  {
   "cell_type": "code",
   "execution_count": 16,
   "metadata": {},
   "outputs": [
    {
     "data": {
      "text/html": [
       "<ol class=list-inline>\n",
       "\t<li>2</li>\n",
       "\t<li>6</li>\n",
       "\t<li>&lt;NA&gt;</li>\n",
       "\t<li>5</li>\n",
       "\t<li>3</li>\n",
       "\t<li>4</li>\n",
       "\t<li>3</li>\n",
       "\t<li>1</li>\n",
       "\t<li>2</li>\n",
       "\t<li>3</li>\n",
       "</ol>\n"
      ],
      "text/latex": [
       "\\begin{enumerate*}\n",
       "\\item 2\n",
       "\\item 6\n",
       "\\item <NA>\n",
       "\\item 5\n",
       "\\item 3\n",
       "\\item 4\n",
       "\\item 3\n",
       "\\item 1\n",
       "\\item 2\n",
       "\\item 3\n",
       "\\end{enumerate*}\n"
      ],
      "text/markdown": [
       "1. 2\n",
       "2. 6\n",
       "3. &lt;NA&gt;\n",
       "4. 5\n",
       "5. 3\n",
       "6. 4\n",
       "7. 3\n",
       "8. 1\n",
       "9. 2\n",
       "10. 3\n",
       "\n",
       "\n"
      ],
      "text/plain": [
       " [1]  2  6 NA  5  3  4  3  1  2  3"
      ]
     },
     "metadata": {},
     "output_type": "display_data"
    }
   ],
   "source": [
    "dense_rank(x) # don't create gaps in ranks"
   ]
  },
  {
   "cell_type": "code",
   "execution_count": 17,
   "metadata": {},
   "outputs": [
    {
     "data": {
      "text/html": [
       "<ol class=list-inline>\n",
       "\t<li>2</li>\n",
       "\t<li>9</li>\n",
       "\t<li>&lt;NA&gt;</li>\n",
       "\t<li>8</li>\n",
       "\t<li>4</li>\n",
       "\t<li>7</li>\n",
       "\t<li>5</li>\n",
       "\t<li>1</li>\n",
       "\t<li>3</li>\n",
       "\t<li>6</li>\n",
       "</ol>\n"
      ],
      "text/latex": [
       "\\begin{enumerate*}\n",
       "\\item 2\n",
       "\\item 9\n",
       "\\item <NA>\n",
       "\\item 8\n",
       "\\item 4\n",
       "\\item 7\n",
       "\\item 5\n",
       "\\item 1\n",
       "\\item 3\n",
       "\\item 6\n",
       "\\end{enumerate*}\n"
      ],
      "text/markdown": [
       "1. 2\n",
       "2. 9\n",
       "3. &lt;NA&gt;\n",
       "4. 8\n",
       "5. 4\n",
       "6. 7\n",
       "7. 5\n",
       "8. 1\n",
       "9. 3\n",
       "10. 6\n",
       "\n",
       "\n"
      ],
      "text/plain": [
       " [1]  2  9 NA  8  4  7  5  1  3  6"
      ]
     },
     "metadata": {},
     "output_type": "display_data"
    }
   ],
   "source": [
    "row_number(x) # just return the position number in sorted order (ties get different ranks here)"
   ]
  },
  {
   "cell_type": "code",
   "execution_count": 18,
   "metadata": {},
   "outputs": [
    {
     "data": {
      "text/html": [
       "<ol class=list-inline>\n",
       "\t<li>0.125</li>\n",
       "\t<li>1</li>\n",
       "\t<li>&lt;NA&gt;</li>\n",
       "\t<li>0.875</li>\n",
       "\t<li>0.375</li>\n",
       "\t<li>0.75</li>\n",
       "\t<li>0.375</li>\n",
       "\t<li>0</li>\n",
       "\t<li>0.125</li>\n",
       "\t<li>0.375</li>\n",
       "</ol>\n"
      ],
      "text/latex": [
       "\\begin{enumerate*}\n",
       "\\item 0.125\n",
       "\\item 1\n",
       "\\item <NA>\n",
       "\\item 0.875\n",
       "\\item 0.375\n",
       "\\item 0.75\n",
       "\\item 0.375\n",
       "\\item 0\n",
       "\\item 0.125\n",
       "\\item 0.375\n",
       "\\end{enumerate*}\n"
      ],
      "text/markdown": [
       "1. 0.125\n",
       "2. 1\n",
       "3. &lt;NA&gt;\n",
       "4. 0.875\n",
       "5. 0.375\n",
       "6. 0.75\n",
       "7. 0.375\n",
       "8. 0\n",
       "9. 0.125\n",
       "10. 0.375\n",
       "\n",
       "\n"
      ],
      "text/plain": [
       " [1] 0.125 1.000    NA 0.875 0.375 0.750 0.375 0.000 0.125 0.375"
      ]
     },
     "metadata": {},
     "output_type": "display_data"
    }
   ],
   "source": [
    "percent_rank(x) # min_rank values are scaled to [0,1]"
   ]
  },
  {
   "cell_type": "code",
   "execution_count": 19,
   "metadata": {},
   "outputs": [
    {
     "data": {
      "text/html": [
       "<ol class=list-inline>\n",
       "\t<li>0.333333333333333</li>\n",
       "\t<li>1</li>\n",
       "\t<li>&lt;NA&gt;</li>\n",
       "\t<li>0.888888888888889</li>\n",
       "\t<li>0.666666666666667</li>\n",
       "\t<li>0.777777777777778</li>\n",
       "\t<li>0.666666666666667</li>\n",
       "\t<li>0.111111111111111</li>\n",
       "\t<li>0.333333333333333</li>\n",
       "\t<li>0.666666666666667</li>\n",
       "</ol>\n"
      ],
      "text/latex": [
       "\\begin{enumerate*}\n",
       "\\item 0.333333333333333\n",
       "\\item 1\n",
       "\\item <NA>\n",
       "\\item 0.888888888888889\n",
       "\\item 0.666666666666667\n",
       "\\item 0.777777777777778\n",
       "\\item 0.666666666666667\n",
       "\\item 0.111111111111111\n",
       "\\item 0.333333333333333\n",
       "\\item 0.666666666666667\n",
       "\\end{enumerate*}\n"
      ],
      "text/markdown": [
       "1. 0.333333333333333\n",
       "2. 1\n",
       "3. &lt;NA&gt;\n",
       "4. 0.888888888888889\n",
       "5. 0.666666666666667\n",
       "6. 0.777777777777778\n",
       "7. 0.666666666666667\n",
       "8. 0.111111111111111\n",
       "9. 0.333333333333333\n",
       "10. 0.666666666666667\n",
       "\n",
       "\n"
      ],
      "text/plain": [
       " [1] 0.3333333 1.0000000        NA 0.8888889 0.6666667 0.7777778 0.6666667\n",
       " [8] 0.1111111 0.3333333 0.6666667"
      ]
     },
     "metadata": {},
     "output_type": "display_data"
    }
   ],
   "source": [
    "cume_dist(x) # fraction of entries less than or equal to a given number"
   ]
  },
  {
   "cell_type": "code",
   "execution_count": 20,
   "metadata": {},
   "outputs": [
    {
     "data": {
      "text/html": [
       "<ol class=list-inline>\n",
       "\t<li>1</li>\n",
       "\t<li>4</li>\n",
       "\t<li>&lt;NA&gt;</li>\n",
       "\t<li>4</li>\n",
       "\t<li>2</li>\n",
       "\t<li>3</li>\n",
       "\t<li>2</li>\n",
       "\t<li>1</li>\n",
       "\t<li>1</li>\n",
       "\t<li>3</li>\n",
       "</ol>\n"
      ],
      "text/latex": [
       "\\begin{enumerate*}\n",
       "\\item 1\n",
       "\\item 4\n",
       "\\item <NA>\n",
       "\\item 4\n",
       "\\item 2\n",
       "\\item 3\n",
       "\\item 2\n",
       "\\item 1\n",
       "\\item 1\n",
       "\\item 3\n",
       "\\end{enumerate*}\n"
      ],
      "text/markdown": [
       "1. 1\n",
       "2. 4\n",
       "3. &lt;NA&gt;\n",
       "4. 4\n",
       "5. 2\n",
       "6. 3\n",
       "7. 2\n",
       "8. 1\n",
       "9. 1\n",
       "10. 3\n",
       "\n",
       "\n"
      ],
      "text/plain": [
       " [1]  1  4 NA  4  2  3  2  1  1  3"
      ]
     },
     "metadata": {},
     "output_type": "display_data"
    }
   ],
   "source": [
    "ntile(x, 4) # rough ranks based on using just 4 buckets"
   ]
  },
  {
   "cell_type": "markdown",
   "metadata": {},
   "source": [
    "Let us now create two new variables obtained from `arr_time` and `dep_time` by converting them into minutes since midnight."
   ]
  },
  {
   "cell_type": "code",
   "execution_count": 21,
   "metadata": {},
   "outputs": [
    {
     "data": {
      "text/html": [
       "<table>\n",
       "<caption>A tibble: 6 × 10</caption>\n",
       "<thead>\n",
       "\t<tr><th scope=col>year</th><th scope=col>month</th><th scope=col>day</th><th scope=col>dep_time</th><th scope=col>arr_time</th><th scope=col>air_time</th><th scope=col>origin</th><th scope=col>dest</th><th scope=col>new_arr</th><th scope=col>new_dep</th></tr>\n",
       "\t<tr><th scope=col>&lt;int&gt;</th><th scope=col>&lt;int&gt;</th><th scope=col>&lt;int&gt;</th><th scope=col>&lt;int&gt;</th><th scope=col>&lt;int&gt;</th><th scope=col>&lt;dbl&gt;</th><th scope=col>&lt;chr&gt;</th><th scope=col>&lt;chr&gt;</th><th scope=col>&lt;dbl&gt;</th><th scope=col>&lt;dbl&gt;</th></tr>\n",
       "</thead>\n",
       "<tbody>\n",
       "\t<tr><td>2013</td><td>1</td><td>1</td><td>517</td><td> 830</td><td>227</td><td>EWR</td><td>IAH</td><td>510</td><td>317</td></tr>\n",
       "\t<tr><td>2013</td><td>1</td><td>1</td><td>533</td><td> 850</td><td>227</td><td>LGA</td><td>IAH</td><td>530</td><td>333</td></tr>\n",
       "\t<tr><td>2013</td><td>1</td><td>1</td><td>542</td><td> 923</td><td>160</td><td>JFK</td><td>MIA</td><td>563</td><td>342</td></tr>\n",
       "\t<tr><td>2013</td><td>1</td><td>1</td><td>544</td><td>1004</td><td>183</td><td>JFK</td><td>BQN</td><td>604</td><td>344</td></tr>\n",
       "\t<tr><td>2013</td><td>1</td><td>1</td><td>554</td><td> 812</td><td>116</td><td>LGA</td><td>ATL</td><td>492</td><td>354</td></tr>\n",
       "\t<tr><td>2013</td><td>1</td><td>1</td><td>554</td><td> 740</td><td>150</td><td>EWR</td><td>ORD</td><td>460</td><td>354</td></tr>\n",
       "</tbody>\n",
       "</table>\n"
      ],
      "text/latex": [
       "A tibble: 6 × 10\n",
       "\\begin{tabular}{llllllllll}\n",
       " year & month & day & dep\\_time & arr\\_time & air\\_time & origin & dest & new\\_arr & new\\_dep\\\\\n",
       " <int> & <int> & <int> & <int> & <int> & <dbl> & <chr> & <chr> & <dbl> & <dbl>\\\\\n",
       "\\hline\n",
       "\t 2013 & 1 & 1 & 517 &  830 & 227 & EWR & IAH & 510 & 317\\\\\n",
       "\t 2013 & 1 & 1 & 533 &  850 & 227 & LGA & IAH & 530 & 333\\\\\n",
       "\t 2013 & 1 & 1 & 542 &  923 & 160 & JFK & MIA & 563 & 342\\\\\n",
       "\t 2013 & 1 & 1 & 544 & 1004 & 183 & JFK & BQN & 604 & 344\\\\\n",
       "\t 2013 & 1 & 1 & 554 &  812 & 116 & LGA & ATL & 492 & 354\\\\\n",
       "\t 2013 & 1 & 1 & 554 &  740 & 150 & EWR & ORD & 460 & 354\\\\\n",
       "\\end{tabular}\n"
      ],
      "text/markdown": [
       "\n",
       "A tibble: 6 × 10\n",
       "\n",
       "| year &lt;int&gt; | month &lt;int&gt; | day &lt;int&gt; | dep_time &lt;int&gt; | arr_time &lt;int&gt; | air_time &lt;dbl&gt; | origin &lt;chr&gt; | dest &lt;chr&gt; | new_arr &lt;dbl&gt; | new_dep &lt;dbl&gt; |\n",
       "|---|---|---|---|---|---|---|---|---|---|\n",
       "| 2013 | 1 | 1 | 517 |  830 | 227 | EWR | IAH | 510 | 317 |\n",
       "| 2013 | 1 | 1 | 533 |  850 | 227 | LGA | IAH | 530 | 333 |\n",
       "| 2013 | 1 | 1 | 542 |  923 | 160 | JFK | MIA | 563 | 342 |\n",
       "| 2013 | 1 | 1 | 544 | 1004 | 183 | JFK | BQN | 604 | 344 |\n",
       "| 2013 | 1 | 1 | 554 |  812 | 116 | LGA | ATL | 492 | 354 |\n",
       "| 2013 | 1 | 1 | 554 |  740 | 150 | EWR | ORD | 460 | 354 |\n",
       "\n"
      ],
      "text/plain": [
       "  year month day dep_time arr_time air_time origin dest new_arr new_dep\n",
       "1 2013 1     1   517       830     227      EWR    IAH  510     317    \n",
       "2 2013 1     1   533       850     227      LGA    IAH  530     333    \n",
       "3 2013 1     1   542       923     160      JFK    MIA  563     342    \n",
       "4 2013 1     1   544      1004     183      JFK    BQN  604     344    \n",
       "5 2013 1     1   554       812     116      LGA    ATL  492     354    \n",
       "6 2013 1     1   554       740     150      EWR    ORD  460     354    "
      ]
     },
     "metadata": {},
     "output_type": "display_data"
    }
   ],
   "source": [
    "my_flights_new <- mutate(my_flights, new_arr = hourmin2min(arr_time), new_dep = hourmin2min(dep_time))\n",
    "head(my_flights_new)"
   ]
  },
  {
   "cell_type": "markdown",
   "metadata": {},
   "source": [
    "Now we can subtract the departure time `new_dep` from the arrival time `new_arr` to get a new variable `total_time`."
   ]
  },
  {
   "cell_type": "code",
   "execution_count": 22,
   "metadata": {},
   "outputs": [
    {
     "data": {
      "text/html": [
       "<table>\n",
       "<caption>A tibble: 6 × 11</caption>\n",
       "<thead>\n",
       "\t<tr><th scope=col>year</th><th scope=col>month</th><th scope=col>day</th><th scope=col>dep_time</th><th scope=col>arr_time</th><th scope=col>air_time</th><th scope=col>origin</th><th scope=col>dest</th><th scope=col>new_arr</th><th scope=col>new_dep</th><th scope=col>total_time</th></tr>\n",
       "\t<tr><th scope=col>&lt;int&gt;</th><th scope=col>&lt;int&gt;</th><th scope=col>&lt;int&gt;</th><th scope=col>&lt;int&gt;</th><th scope=col>&lt;int&gt;</th><th scope=col>&lt;dbl&gt;</th><th scope=col>&lt;chr&gt;</th><th scope=col>&lt;chr&gt;</th><th scope=col>&lt;dbl&gt;</th><th scope=col>&lt;dbl&gt;</th><th scope=col>&lt;dbl&gt;</th></tr>\n",
       "</thead>\n",
       "<tbody>\n",
       "\t<tr><td>2013</td><td>1</td><td>1</td><td>517</td><td> 830</td><td>227</td><td>EWR</td><td>IAH</td><td>510</td><td>317</td><td>193</td></tr>\n",
       "\t<tr><td>2013</td><td>1</td><td>1</td><td>533</td><td> 850</td><td>227</td><td>LGA</td><td>IAH</td><td>530</td><td>333</td><td>197</td></tr>\n",
       "\t<tr><td>2013</td><td>1</td><td>1</td><td>542</td><td> 923</td><td>160</td><td>JFK</td><td>MIA</td><td>563</td><td>342</td><td>221</td></tr>\n",
       "\t<tr><td>2013</td><td>1</td><td>1</td><td>544</td><td>1004</td><td>183</td><td>JFK</td><td>BQN</td><td>604</td><td>344</td><td>260</td></tr>\n",
       "\t<tr><td>2013</td><td>1</td><td>1</td><td>554</td><td> 812</td><td>116</td><td>LGA</td><td>ATL</td><td>492</td><td>354</td><td>138</td></tr>\n",
       "\t<tr><td>2013</td><td>1</td><td>1</td><td>554</td><td> 740</td><td>150</td><td>EWR</td><td>ORD</td><td>460</td><td>354</td><td>106</td></tr>\n",
       "</tbody>\n",
       "</table>\n"
      ],
      "text/latex": [
       "A tibble: 6 × 11\n",
       "\\begin{tabular}{lllllllllll}\n",
       " year & month & day & dep\\_time & arr\\_time & air\\_time & origin & dest & new\\_arr & new\\_dep & total\\_time\\\\\n",
       " <int> & <int> & <int> & <int> & <int> & <dbl> & <chr> & <chr> & <dbl> & <dbl> & <dbl>\\\\\n",
       "\\hline\n",
       "\t 2013 & 1 & 1 & 517 &  830 & 227 & EWR & IAH & 510 & 317 & 193\\\\\n",
       "\t 2013 & 1 & 1 & 533 &  850 & 227 & LGA & IAH & 530 & 333 & 197\\\\\n",
       "\t 2013 & 1 & 1 & 542 &  923 & 160 & JFK & MIA & 563 & 342 & 221\\\\\n",
       "\t 2013 & 1 & 1 & 544 & 1004 & 183 & JFK & BQN & 604 & 344 & 260\\\\\n",
       "\t 2013 & 1 & 1 & 554 &  812 & 116 & LGA & ATL & 492 & 354 & 138\\\\\n",
       "\t 2013 & 1 & 1 & 554 &  740 & 150 & EWR & ORD & 460 & 354 & 106\\\\\n",
       "\\end{tabular}\n"
      ],
      "text/markdown": [
       "\n",
       "A tibble: 6 × 11\n",
       "\n",
       "| year &lt;int&gt; | month &lt;int&gt; | day &lt;int&gt; | dep_time &lt;int&gt; | arr_time &lt;int&gt; | air_time &lt;dbl&gt; | origin &lt;chr&gt; | dest &lt;chr&gt; | new_arr &lt;dbl&gt; | new_dep &lt;dbl&gt; | total_time &lt;dbl&gt; |\n",
       "|---|---|---|---|---|---|---|---|---|---|---|\n",
       "| 2013 | 1 | 1 | 517 |  830 | 227 | EWR | IAH | 510 | 317 | 193 |\n",
       "| 2013 | 1 | 1 | 533 |  850 | 227 | LGA | IAH | 530 | 333 | 197 |\n",
       "| 2013 | 1 | 1 | 542 |  923 | 160 | JFK | MIA | 563 | 342 | 221 |\n",
       "| 2013 | 1 | 1 | 544 | 1004 | 183 | JFK | BQN | 604 | 344 | 260 |\n",
       "| 2013 | 1 | 1 | 554 |  812 | 116 | LGA | ATL | 492 | 354 | 138 |\n",
       "| 2013 | 1 | 1 | 554 |  740 | 150 | EWR | ORD | 460 | 354 | 106 |\n",
       "\n"
      ],
      "text/plain": [
       "  year month day dep_time arr_time air_time origin dest new_arr new_dep\n",
       "1 2013 1     1   517       830     227      EWR    IAH  510     317    \n",
       "2 2013 1     1   533       850     227      LGA    IAH  530     333    \n",
       "3 2013 1     1   542       923     160      JFK    MIA  563     342    \n",
       "4 2013 1     1   544      1004     183      JFK    BQN  604     344    \n",
       "5 2013 1     1   554       812     116      LGA    ATL  492     354    \n",
       "6 2013 1     1   554       740     150      EWR    ORD  460     354    \n",
       "  total_time\n",
       "1 193       \n",
       "2 197       \n",
       "3 221       \n",
       "4 260       \n",
       "5 138       \n",
       "6 106       "
      ]
     },
     "metadata": {},
     "output_type": "display_data"
    }
   ],
   "source": [
    "my_flights_total <- mutate(my_flights_new, total_time = new_arr - new_dep)\n",
    "head(my_flights_total)"
   ]
  },
  {
   "cell_type": "markdown",
   "metadata": {},
   "source": [
    "How is it that the total time is less that the time in air for some flights? We are faced with time zone issues."
   ]
  },
  {
   "cell_type": "code",
   "execution_count": 23,
   "metadata": {
    "scrolled": true
   },
   "outputs": [
    {
     "data": {
      "text/html": [
       "<table>\n",
       "<caption>A tibble: 6 × 11</caption>\n",
       "<thead>\n",
       "\t<tr><th scope=col>year</th><th scope=col>month</th><th scope=col>day</th><th scope=col>dep_time</th><th scope=col>arr_time</th><th scope=col>air_time</th><th scope=col>origin</th><th scope=col>dest</th><th scope=col>new_arr</th><th scope=col>new_dep</th><th scope=col>total_time</th></tr>\n",
       "\t<tr><th scope=col>&lt;int&gt;</th><th scope=col>&lt;int&gt;</th><th scope=col>&lt;int&gt;</th><th scope=col>&lt;int&gt;</th><th scope=col>&lt;int&gt;</th><th scope=col>&lt;dbl&gt;</th><th scope=col>&lt;chr&gt;</th><th scope=col>&lt;chr&gt;</th><th scope=col>&lt;dbl&gt;</th><th scope=col>&lt;dbl&gt;</th><th scope=col>&lt;dbl&gt;</th></tr>\n",
       "</thead>\n",
       "<tbody>\n",
       "\t<tr><td>2013</td><td>1</td><td>1</td><td>517</td><td>830</td><td>227</td><td>EWR</td><td>IAH</td><td>510</td><td>317</td><td>193</td></tr>\n",
       "\t<tr><td>2013</td><td>1</td><td>1</td><td>533</td><td>850</td><td>227</td><td>LGA</td><td>IAH</td><td>530</td><td>333</td><td>197</td></tr>\n",
       "\t<tr><td>2013</td><td>1</td><td>1</td><td>554</td><td>740</td><td>150</td><td>EWR</td><td>ORD</td><td>460</td><td>354</td><td>106</td></tr>\n",
       "\t<tr><td>2013</td><td>1</td><td>1</td><td>558</td><td>753</td><td>138</td><td>LGA</td><td>ORD</td><td>473</td><td>358</td><td>115</td></tr>\n",
       "\t<tr><td>2013</td><td>1</td><td>1</td><td>558</td><td>924</td><td>345</td><td>JFK</td><td>LAX</td><td>564</td><td>358</td><td>206</td></tr>\n",
       "\t<tr><td>2013</td><td>1</td><td>1</td><td>558</td><td>923</td><td>361</td><td>EWR</td><td>SFO</td><td>563</td><td>358</td><td>205</td></tr>\n",
       "</tbody>\n",
       "</table>\n"
      ],
      "text/latex": [
       "A tibble: 6 × 11\n",
       "\\begin{tabular}{lllllllllll}\n",
       " year & month & day & dep\\_time & arr\\_time & air\\_time & origin & dest & new\\_arr & new\\_dep & total\\_time\\\\\n",
       " <int> & <int> & <int> & <int> & <int> & <dbl> & <chr> & <chr> & <dbl> & <dbl> & <dbl>\\\\\n",
       "\\hline\n",
       "\t 2013 & 1 & 1 & 517 & 830 & 227 & EWR & IAH & 510 & 317 & 193\\\\\n",
       "\t 2013 & 1 & 1 & 533 & 850 & 227 & LGA & IAH & 530 & 333 & 197\\\\\n",
       "\t 2013 & 1 & 1 & 554 & 740 & 150 & EWR & ORD & 460 & 354 & 106\\\\\n",
       "\t 2013 & 1 & 1 & 558 & 753 & 138 & LGA & ORD & 473 & 358 & 115\\\\\n",
       "\t 2013 & 1 & 1 & 558 & 924 & 345 & JFK & LAX & 564 & 358 & 206\\\\\n",
       "\t 2013 & 1 & 1 & 558 & 923 & 361 & EWR & SFO & 563 & 358 & 205\\\\\n",
       "\\end{tabular}\n"
      ],
      "text/markdown": [
       "\n",
       "A tibble: 6 × 11\n",
       "\n",
       "| year &lt;int&gt; | month &lt;int&gt; | day &lt;int&gt; | dep_time &lt;int&gt; | arr_time &lt;int&gt; | air_time &lt;dbl&gt; | origin &lt;chr&gt; | dest &lt;chr&gt; | new_arr &lt;dbl&gt; | new_dep &lt;dbl&gt; | total_time &lt;dbl&gt; |\n",
       "|---|---|---|---|---|---|---|---|---|---|---|\n",
       "| 2013 | 1 | 1 | 517 | 830 | 227 | EWR | IAH | 510 | 317 | 193 |\n",
       "| 2013 | 1 | 1 | 533 | 850 | 227 | LGA | IAH | 530 | 333 | 197 |\n",
       "| 2013 | 1 | 1 | 554 | 740 | 150 | EWR | ORD | 460 | 354 | 106 |\n",
       "| 2013 | 1 | 1 | 558 | 753 | 138 | LGA | ORD | 473 | 358 | 115 |\n",
       "| 2013 | 1 | 1 | 558 | 924 | 345 | JFK | LAX | 564 | 358 | 206 |\n",
       "| 2013 | 1 | 1 | 558 | 923 | 361 | EWR | SFO | 563 | 358 | 205 |\n",
       "\n"
      ],
      "text/plain": [
       "  year month day dep_time arr_time air_time origin dest new_arr new_dep\n",
       "1 2013 1     1   517      830      227      EWR    IAH  510     317    \n",
       "2 2013 1     1   533      850      227      LGA    IAH  530     333    \n",
       "3 2013 1     1   554      740      150      EWR    ORD  460     354    \n",
       "4 2013 1     1   558      753      138      LGA    ORD  473     358    \n",
       "5 2013 1     1   558      924      345      JFK    LAX  564     358    \n",
       "6 2013 1     1   558      923      361      EWR    SFO  563     358    \n",
       "  total_time\n",
       "1 193       \n",
       "2 197       \n",
       "3 106       \n",
       "4 115       \n",
       "5 206       \n",
       "6 205       "
      ]
     },
     "metadata": {},
     "output_type": "display_data"
    }
   ],
   "source": [
    "filter(my_flights_total, total_time < air_time) %>%\n",
    "    head()"
   ]
  },
  {
   "cell_type": "markdown",
   "metadata": {},
   "source": [
    "We also have some negative values for total time for flight that departed late in the day and arrived early morning next day."
   ]
  },
  {
   "cell_type": "code",
   "execution_count": 24,
   "metadata": {},
   "outputs": [
    {
     "data": {
      "text/html": [
       "<table>\n",
       "<caption>A tibble: 6 × 11</caption>\n",
       "<thead>\n",
       "\t<tr><th scope=col>year</th><th scope=col>month</th><th scope=col>day</th><th scope=col>dep_time</th><th scope=col>arr_time</th><th scope=col>air_time</th><th scope=col>origin</th><th scope=col>dest</th><th scope=col>new_arr</th><th scope=col>new_dep</th><th scope=col>total_time</th></tr>\n",
       "\t<tr><th scope=col>&lt;int&gt;</th><th scope=col>&lt;int&gt;</th><th scope=col>&lt;int&gt;</th><th scope=col>&lt;int&gt;</th><th scope=col>&lt;int&gt;</th><th scope=col>&lt;dbl&gt;</th><th scope=col>&lt;chr&gt;</th><th scope=col>&lt;chr&gt;</th><th scope=col>&lt;dbl&gt;</th><th scope=col>&lt;dbl&gt;</th><th scope=col>&lt;dbl&gt;</th></tr>\n",
       "</thead>\n",
       "<tbody>\n",
       "\t<tr><td>2013</td><td>1</td><td>1</td><td>1929</td><td>  3</td><td>192</td><td>EWR</td><td>BQN</td><td>  3</td><td>1169</td><td>-1166</td></tr>\n",
       "\t<tr><td>2013</td><td>1</td><td>1</td><td>1939</td><td> 29</td><td> NA</td><td>JFK</td><td>DFW</td><td> 29</td><td>1179</td><td>-1150</td></tr>\n",
       "\t<tr><td>2013</td><td>1</td><td>1</td><td>2058</td><td>  8</td><td>159</td><td>EWR</td><td>TPA</td><td>  8</td><td>1258</td><td>-1250</td></tr>\n",
       "\t<tr><td>2013</td><td>1</td><td>1</td><td>2102</td><td>146</td><td>199</td><td>EWR</td><td>SJU</td><td>106</td><td>1262</td><td>-1156</td></tr>\n",
       "\t<tr><td>2013</td><td>1</td><td>1</td><td>2108</td><td> 25</td><td>354</td><td>EWR</td><td>SFO</td><td> 25</td><td>1268</td><td>-1243</td></tr>\n",
       "\t<tr><td>2013</td><td>1</td><td>1</td><td>2120</td><td> 16</td><td>160</td><td>LGA</td><td>FLL</td><td> 16</td><td>1280</td><td>-1264</td></tr>\n",
       "</tbody>\n",
       "</table>\n"
      ],
      "text/latex": [
       "A tibble: 6 × 11\n",
       "\\begin{tabular}{lllllllllll}\n",
       " year & month & day & dep\\_time & arr\\_time & air\\_time & origin & dest & new\\_arr & new\\_dep & total\\_time\\\\\n",
       " <int> & <int> & <int> & <int> & <int> & <dbl> & <chr> & <chr> & <dbl> & <dbl> & <dbl>\\\\\n",
       "\\hline\n",
       "\t 2013 & 1 & 1 & 1929 &   3 & 192 & EWR & BQN &   3 & 1169 & -1166\\\\\n",
       "\t 2013 & 1 & 1 & 1939 &  29 &  NA & JFK & DFW &  29 & 1179 & -1150\\\\\n",
       "\t 2013 & 1 & 1 & 2058 &   8 & 159 & EWR & TPA &   8 & 1258 & -1250\\\\\n",
       "\t 2013 & 1 & 1 & 2102 & 146 & 199 & EWR & SJU & 106 & 1262 & -1156\\\\\n",
       "\t 2013 & 1 & 1 & 2108 &  25 & 354 & EWR & SFO &  25 & 1268 & -1243\\\\\n",
       "\t 2013 & 1 & 1 & 2120 &  16 & 160 & LGA & FLL &  16 & 1280 & -1264\\\\\n",
       "\\end{tabular}\n"
      ],
      "text/markdown": [
       "\n",
       "A tibble: 6 × 11\n",
       "\n",
       "| year &lt;int&gt; | month &lt;int&gt; | day &lt;int&gt; | dep_time &lt;int&gt; | arr_time &lt;int&gt; | air_time &lt;dbl&gt; | origin &lt;chr&gt; | dest &lt;chr&gt; | new_arr &lt;dbl&gt; | new_dep &lt;dbl&gt; | total_time &lt;dbl&gt; |\n",
       "|---|---|---|---|---|---|---|---|---|---|---|\n",
       "| 2013 | 1 | 1 | 1929 |   3 | 192 | EWR | BQN |   3 | 1169 | -1166 |\n",
       "| 2013 | 1 | 1 | 1939 |  29 |  NA | JFK | DFW |  29 | 1179 | -1150 |\n",
       "| 2013 | 1 | 1 | 2058 |   8 | 159 | EWR | TPA |   8 | 1258 | -1250 |\n",
       "| 2013 | 1 | 1 | 2102 | 146 | 199 | EWR | SJU | 106 | 1262 | -1156 |\n",
       "| 2013 | 1 | 1 | 2108 |  25 | 354 | EWR | SFO |  25 | 1268 | -1243 |\n",
       "| 2013 | 1 | 1 | 2120 |  16 | 160 | LGA | FLL |  16 | 1280 | -1264 |\n",
       "\n"
      ],
      "text/plain": [
       "  year month day dep_time arr_time air_time origin dest new_arr new_dep\n",
       "1 2013 1     1   1929       3      192      EWR    BQN    3     1169   \n",
       "2 2013 1     1   1939      29       NA      JFK    DFW   29     1179   \n",
       "3 2013 1     1   2058       8      159      EWR    TPA    8     1258   \n",
       "4 2013 1     1   2102     146      199      EWR    SJU  106     1262   \n",
       "5 2013 1     1   2108      25      354      EWR    SFO   25     1268   \n",
       "6 2013 1     1   2120      16      160      LGA    FLL   16     1280   \n",
       "  total_time\n",
       "1 -1166     \n",
       "2 -1150     \n",
       "3 -1250     \n",
       "4 -1156     \n",
       "5 -1243     \n",
       "6 -1264     "
      ]
     },
     "metadata": {},
     "output_type": "display_data"
    }
   ],
   "source": [
    "filter(my_flights_total, total_time < 0) %>%\n",
    "    head()"
   ]
  },
  {
   "cell_type": "markdown",
   "metadata": {},
   "source": [
    "We can fix the negative values by adding 24\\*60 to them (we keep the positive values as is).\n",
    "\n",
    "Note that `transmute()` will only keep the new variables."
   ]
  },
  {
   "cell_type": "code",
   "execution_count": 25,
   "metadata": {},
   "outputs": [
    {
     "data": {
      "text/html": [
       "<table>\n",
       "<caption>A tibble: 0 × 3</caption>\n",
       "<thead>\n",
       "\t<tr><th scope=col>arr_time</th><th scope=col>dep_time</th><th scope=col>new_total_time</th></tr>\n",
       "\t<tr><th scope=col>&lt;int&gt;</th><th scope=col>&lt;int&gt;</th><th scope=col>&lt;dbl&gt;</th></tr>\n",
       "</thead>\n",
       "<tbody>\n",
       "</tbody>\n",
       "</table>\n"
      ],
      "text/latex": [
       "A tibble: 0 × 3\n",
       "\\begin{tabular}{lll}\n",
       " arr\\_time & dep\\_time & new\\_total\\_time\\\\\n",
       " <int> & <int> & <dbl>\\\\\n",
       "\\hline\n",
       "\\end{tabular}\n"
      ],
      "text/markdown": [
       "\n",
       "A tibble: 0 × 3\n",
       "\n",
       "| arr_time &lt;int&gt; | dep_time &lt;int&gt; | new_total_time &lt;dbl&gt; |\n",
       "|---|---|---|\n",
       "\n"
      ],
      "text/plain": [
       "     arr_time dep_time new_total_time"
      ]
     },
     "metadata": {},
     "output_type": "display_data"
    }
   ],
   "source": [
    "no_negatives <- transmute(my_flights_total, arr_time, dep_time,\n",
    "          new_total_time = (total_time < 0)*(total_time + 24*60) + (total_time >= 0)*total_time)\n",
    "filter(no_negatives, new_total_time < 0)"
   ]
  },
  {
   "cell_type": "markdown",
   "metadata": {},
   "source": [
    "So that took care of the negative total time issue."
   ]
  }
 ],
 "metadata": {
  "kernelspec": {
   "display_name": "R",
   "language": "R",
   "name": "ir"
  },
  "language_info": {
   "codemirror_mode": "r",
   "file_extension": ".r",
   "mimetype": "text/x-r-source",
   "name": "R",
   "pygments_lexer": "r",
   "version": "3.6.2"
  }
 },
 "nbformat": 4,
 "nbformat_minor": 1
}
