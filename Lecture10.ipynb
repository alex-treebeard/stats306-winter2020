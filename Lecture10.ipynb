{
 "cells": [
  {
   "cell_type": "markdown",
   "metadata": {},
   "source": [
    "In this notebook, we will learn about:\n",
    "\n",
    "* [Tibbles](#Tibbles), a modern take on R data frames\n",
    "* [Data import](#data-import)"
   ]
  },
  {
   "cell_type": "code",
   "execution_count": 1,
   "metadata": {},
   "outputs": [
    {
     "name": "stderr",
     "output_type": "stream",
     "text": [
      "── \u001b[1mAttaching packages\u001b[22m ─────────────────────────────────────── tidyverse 1.3.0 ──\n",
      "\n",
      "\u001b[32m✔\u001b[39m \u001b[34mggplot2\u001b[39m 3.2.1     \u001b[32m✔\u001b[39m \u001b[34mpurrr  \u001b[39m 0.3.3\n",
      "\u001b[32m✔\u001b[39m \u001b[34mtibble \u001b[39m 2.1.3     \u001b[32m✔\u001b[39m \u001b[34mdplyr  \u001b[39m 0.8.3\n",
      "\u001b[32m✔\u001b[39m \u001b[34mtidyr  \u001b[39m 1.0.0     \u001b[32m✔\u001b[39m \u001b[34mstringr\u001b[39m 1.4.0\n",
      "\u001b[32m✔\u001b[39m \u001b[34mreadr  \u001b[39m 1.3.1     \u001b[32m✔\u001b[39m \u001b[34mforcats\u001b[39m 0.4.0\n",
      "\n",
      "── \u001b[1mConflicts\u001b[22m ────────────────────────────────────────── tidyverse_conflicts() ──\n",
      "\u001b[31m✖\u001b[39m \u001b[34mdplyr\u001b[39m::\u001b[32mfilter()\u001b[39m masks \u001b[34mstats\u001b[39m::filter()\n",
      "\u001b[31m✖\u001b[39m \u001b[34mdplyr\u001b[39m::\u001b[32mlag()\u001b[39m    masks \u001b[34mstats\u001b[39m::lag()\n",
      "\n"
     ]
    }
   ],
   "source": [
    "library(tidyverse)"
   ]
  },
  {
   "cell_type": "markdown",
   "metadata": {},
   "source": [
    "# Tibbles"
   ]
  },
  {
   "cell_type": "code",
   "execution_count": 2,
   "metadata": {},
   "outputs": [
    {
     "data": {
      "text/html": [
       "<table>\n",
       "<caption>A data.frame: 150 × 5</caption>\n",
       "<thead>\n",
       "\t<tr><th scope=col>Sepal.Length</th><th scope=col>Sepal.Width</th><th scope=col>Petal.Length</th><th scope=col>Petal.Width</th><th scope=col>Species</th></tr>\n",
       "\t<tr><th scope=col>&lt;dbl&gt;</th><th scope=col>&lt;dbl&gt;</th><th scope=col>&lt;dbl&gt;</th><th scope=col>&lt;dbl&gt;</th><th scope=col>&lt;fct&gt;</th></tr>\n",
       "</thead>\n",
       "<tbody>\n",
       "\t<tr><td>5.1</td><td>3.5</td><td>1.4</td><td>0.2</td><td>setosa</td></tr>\n",
       "\t<tr><td>4.9</td><td>3.0</td><td>1.4</td><td>0.2</td><td>setosa</td></tr>\n",
       "\t<tr><td>4.7</td><td>3.2</td><td>1.3</td><td>0.2</td><td>setosa</td></tr>\n",
       "\t<tr><td>4.6</td><td>3.1</td><td>1.5</td><td>0.2</td><td>setosa</td></tr>\n",
       "\t<tr><td>5.0</td><td>3.6</td><td>1.4</td><td>0.2</td><td>setosa</td></tr>\n",
       "\t<tr><td>5.4</td><td>3.9</td><td>1.7</td><td>0.4</td><td>setosa</td></tr>\n",
       "\t<tr><td>4.6</td><td>3.4</td><td>1.4</td><td>0.3</td><td>setosa</td></tr>\n",
       "\t<tr><td>5.0</td><td>3.4</td><td>1.5</td><td>0.2</td><td>setosa</td></tr>\n",
       "\t<tr><td>4.4</td><td>2.9</td><td>1.4</td><td>0.2</td><td>setosa</td></tr>\n",
       "\t<tr><td>4.9</td><td>3.1</td><td>1.5</td><td>0.1</td><td>setosa</td></tr>\n",
       "\t<tr><td>5.4</td><td>3.7</td><td>1.5</td><td>0.2</td><td>setosa</td></tr>\n",
       "\t<tr><td>4.8</td><td>3.4</td><td>1.6</td><td>0.2</td><td>setosa</td></tr>\n",
       "\t<tr><td>4.8</td><td>3.0</td><td>1.4</td><td>0.1</td><td>setosa</td></tr>\n",
       "\t<tr><td>4.3</td><td>3.0</td><td>1.1</td><td>0.1</td><td>setosa</td></tr>\n",
       "\t<tr><td>5.8</td><td>4.0</td><td>1.2</td><td>0.2</td><td>setosa</td></tr>\n",
       "\t<tr><td>5.7</td><td>4.4</td><td>1.5</td><td>0.4</td><td>setosa</td></tr>\n",
       "\t<tr><td>5.4</td><td>3.9</td><td>1.3</td><td>0.4</td><td>setosa</td></tr>\n",
       "\t<tr><td>5.1</td><td>3.5</td><td>1.4</td><td>0.3</td><td>setosa</td></tr>\n",
       "\t<tr><td>5.7</td><td>3.8</td><td>1.7</td><td>0.3</td><td>setosa</td></tr>\n",
       "\t<tr><td>5.1</td><td>3.8</td><td>1.5</td><td>0.3</td><td>setosa</td></tr>\n",
       "\t<tr><td>5.4</td><td>3.4</td><td>1.7</td><td>0.2</td><td>setosa</td></tr>\n",
       "\t<tr><td>5.1</td><td>3.7</td><td>1.5</td><td>0.4</td><td>setosa</td></tr>\n",
       "\t<tr><td>4.6</td><td>3.6</td><td>1.0</td><td>0.2</td><td>setosa</td></tr>\n",
       "\t<tr><td>5.1</td><td>3.3</td><td>1.7</td><td>0.5</td><td>setosa</td></tr>\n",
       "\t<tr><td>4.8</td><td>3.4</td><td>1.9</td><td>0.2</td><td>setosa</td></tr>\n",
       "\t<tr><td>5.0</td><td>3.0</td><td>1.6</td><td>0.2</td><td>setosa</td></tr>\n",
       "\t<tr><td>5.0</td><td>3.4</td><td>1.6</td><td>0.4</td><td>setosa</td></tr>\n",
       "\t<tr><td>5.2</td><td>3.5</td><td>1.5</td><td>0.2</td><td>setosa</td></tr>\n",
       "\t<tr><td>5.2</td><td>3.4</td><td>1.4</td><td>0.2</td><td>setosa</td></tr>\n",
       "\t<tr><td>4.7</td><td>3.2</td><td>1.6</td><td>0.2</td><td>setosa</td></tr>\n",
       "\t<tr><td>⋮</td><td>⋮</td><td>⋮</td><td>⋮</td><td>⋮</td></tr>\n",
       "\t<tr><td>6.9</td><td>3.2</td><td>5.7</td><td>2.3</td><td>virginica</td></tr>\n",
       "\t<tr><td>5.6</td><td>2.8</td><td>4.9</td><td>2.0</td><td>virginica</td></tr>\n",
       "\t<tr><td>7.7</td><td>2.8</td><td>6.7</td><td>2.0</td><td>virginica</td></tr>\n",
       "\t<tr><td>6.3</td><td>2.7</td><td>4.9</td><td>1.8</td><td>virginica</td></tr>\n",
       "\t<tr><td>6.7</td><td>3.3</td><td>5.7</td><td>2.1</td><td>virginica</td></tr>\n",
       "\t<tr><td>7.2</td><td>3.2</td><td>6.0</td><td>1.8</td><td>virginica</td></tr>\n",
       "\t<tr><td>6.2</td><td>2.8</td><td>4.8</td><td>1.8</td><td>virginica</td></tr>\n",
       "\t<tr><td>6.1</td><td>3.0</td><td>4.9</td><td>1.8</td><td>virginica</td></tr>\n",
       "\t<tr><td>6.4</td><td>2.8</td><td>5.6</td><td>2.1</td><td>virginica</td></tr>\n",
       "\t<tr><td>7.2</td><td>3.0</td><td>5.8</td><td>1.6</td><td>virginica</td></tr>\n",
       "\t<tr><td>7.4</td><td>2.8</td><td>6.1</td><td>1.9</td><td>virginica</td></tr>\n",
       "\t<tr><td>7.9</td><td>3.8</td><td>6.4</td><td>2.0</td><td>virginica</td></tr>\n",
       "\t<tr><td>6.4</td><td>2.8</td><td>5.6</td><td>2.2</td><td>virginica</td></tr>\n",
       "\t<tr><td>6.3</td><td>2.8</td><td>5.1</td><td>1.5</td><td>virginica</td></tr>\n",
       "\t<tr><td>6.1</td><td>2.6</td><td>5.6</td><td>1.4</td><td>virginica</td></tr>\n",
       "\t<tr><td>7.7</td><td>3.0</td><td>6.1</td><td>2.3</td><td>virginica</td></tr>\n",
       "\t<tr><td>6.3</td><td>3.4</td><td>5.6</td><td>2.4</td><td>virginica</td></tr>\n",
       "\t<tr><td>6.4</td><td>3.1</td><td>5.5</td><td>1.8</td><td>virginica</td></tr>\n",
       "\t<tr><td>6.0</td><td>3.0</td><td>4.8</td><td>1.8</td><td>virginica</td></tr>\n",
       "\t<tr><td>6.9</td><td>3.1</td><td>5.4</td><td>2.1</td><td>virginica</td></tr>\n",
       "\t<tr><td>6.7</td><td>3.1</td><td>5.6</td><td>2.4</td><td>virginica</td></tr>\n",
       "\t<tr><td>6.9</td><td>3.1</td><td>5.1</td><td>2.3</td><td>virginica</td></tr>\n",
       "\t<tr><td>5.8</td><td>2.7</td><td>5.1</td><td>1.9</td><td>virginica</td></tr>\n",
       "\t<tr><td>6.8</td><td>3.2</td><td>5.9</td><td>2.3</td><td>virginica</td></tr>\n",
       "\t<tr><td>6.7</td><td>3.3</td><td>5.7</td><td>2.5</td><td>virginica</td></tr>\n",
       "\t<tr><td>6.7</td><td>3.0</td><td>5.2</td><td>2.3</td><td>virginica</td></tr>\n",
       "\t<tr><td>6.3</td><td>2.5</td><td>5.0</td><td>1.9</td><td>virginica</td></tr>\n",
       "\t<tr><td>6.5</td><td>3.0</td><td>5.2</td><td>2.0</td><td>virginica</td></tr>\n",
       "\t<tr><td>6.2</td><td>3.4</td><td>5.4</td><td>2.3</td><td>virginica</td></tr>\n",
       "\t<tr><td>5.9</td><td>3.0</td><td>5.1</td><td>1.8</td><td>virginica</td></tr>\n",
       "</tbody>\n",
       "</table>\n"
      ],
      "text/latex": [
       "A data.frame: 150 × 5\n",
       "\\begin{tabular}{lllll}\n",
       " Sepal.Length & Sepal.Width & Petal.Length & Petal.Width & Species\\\\\n",
       " <dbl> & <dbl> & <dbl> & <dbl> & <fct>\\\\\n",
       "\\hline\n",
       "\t 5.1 & 3.5 & 1.4 & 0.2 & setosa\\\\\n",
       "\t 4.9 & 3.0 & 1.4 & 0.2 & setosa\\\\\n",
       "\t 4.7 & 3.2 & 1.3 & 0.2 & setosa\\\\\n",
       "\t 4.6 & 3.1 & 1.5 & 0.2 & setosa\\\\\n",
       "\t 5.0 & 3.6 & 1.4 & 0.2 & setosa\\\\\n",
       "\t 5.4 & 3.9 & 1.7 & 0.4 & setosa\\\\\n",
       "\t 4.6 & 3.4 & 1.4 & 0.3 & setosa\\\\\n",
       "\t 5.0 & 3.4 & 1.5 & 0.2 & setosa\\\\\n",
       "\t 4.4 & 2.9 & 1.4 & 0.2 & setosa\\\\\n",
       "\t 4.9 & 3.1 & 1.5 & 0.1 & setosa\\\\\n",
       "\t 5.4 & 3.7 & 1.5 & 0.2 & setosa\\\\\n",
       "\t 4.8 & 3.4 & 1.6 & 0.2 & setosa\\\\\n",
       "\t 4.8 & 3.0 & 1.4 & 0.1 & setosa\\\\\n",
       "\t 4.3 & 3.0 & 1.1 & 0.1 & setosa\\\\\n",
       "\t 5.8 & 4.0 & 1.2 & 0.2 & setosa\\\\\n",
       "\t 5.7 & 4.4 & 1.5 & 0.4 & setosa\\\\\n",
       "\t 5.4 & 3.9 & 1.3 & 0.4 & setosa\\\\\n",
       "\t 5.1 & 3.5 & 1.4 & 0.3 & setosa\\\\\n",
       "\t 5.7 & 3.8 & 1.7 & 0.3 & setosa\\\\\n",
       "\t 5.1 & 3.8 & 1.5 & 0.3 & setosa\\\\\n",
       "\t 5.4 & 3.4 & 1.7 & 0.2 & setosa\\\\\n",
       "\t 5.1 & 3.7 & 1.5 & 0.4 & setosa\\\\\n",
       "\t 4.6 & 3.6 & 1.0 & 0.2 & setosa\\\\\n",
       "\t 5.1 & 3.3 & 1.7 & 0.5 & setosa\\\\\n",
       "\t 4.8 & 3.4 & 1.9 & 0.2 & setosa\\\\\n",
       "\t 5.0 & 3.0 & 1.6 & 0.2 & setosa\\\\\n",
       "\t 5.0 & 3.4 & 1.6 & 0.4 & setosa\\\\\n",
       "\t 5.2 & 3.5 & 1.5 & 0.2 & setosa\\\\\n",
       "\t 5.2 & 3.4 & 1.4 & 0.2 & setosa\\\\\n",
       "\t 4.7 & 3.2 & 1.6 & 0.2 & setosa\\\\\n",
       "\t ⋮ & ⋮ & ⋮ & ⋮ & ⋮\\\\\n",
       "\t 6.9 & 3.2 & 5.7 & 2.3 & virginica\\\\\n",
       "\t 5.6 & 2.8 & 4.9 & 2.0 & virginica\\\\\n",
       "\t 7.7 & 2.8 & 6.7 & 2.0 & virginica\\\\\n",
       "\t 6.3 & 2.7 & 4.9 & 1.8 & virginica\\\\\n",
       "\t 6.7 & 3.3 & 5.7 & 2.1 & virginica\\\\\n",
       "\t 7.2 & 3.2 & 6.0 & 1.8 & virginica\\\\\n",
       "\t 6.2 & 2.8 & 4.8 & 1.8 & virginica\\\\\n",
       "\t 6.1 & 3.0 & 4.9 & 1.8 & virginica\\\\\n",
       "\t 6.4 & 2.8 & 5.6 & 2.1 & virginica\\\\\n",
       "\t 7.2 & 3.0 & 5.8 & 1.6 & virginica\\\\\n",
       "\t 7.4 & 2.8 & 6.1 & 1.9 & virginica\\\\\n",
       "\t 7.9 & 3.8 & 6.4 & 2.0 & virginica\\\\\n",
       "\t 6.4 & 2.8 & 5.6 & 2.2 & virginica\\\\\n",
       "\t 6.3 & 2.8 & 5.1 & 1.5 & virginica\\\\\n",
       "\t 6.1 & 2.6 & 5.6 & 1.4 & virginica\\\\\n",
       "\t 7.7 & 3.0 & 6.1 & 2.3 & virginica\\\\\n",
       "\t 6.3 & 3.4 & 5.6 & 2.4 & virginica\\\\\n",
       "\t 6.4 & 3.1 & 5.5 & 1.8 & virginica\\\\\n",
       "\t 6.0 & 3.0 & 4.8 & 1.8 & virginica\\\\\n",
       "\t 6.9 & 3.1 & 5.4 & 2.1 & virginica\\\\\n",
       "\t 6.7 & 3.1 & 5.6 & 2.4 & virginica\\\\\n",
       "\t 6.9 & 3.1 & 5.1 & 2.3 & virginica\\\\\n",
       "\t 5.8 & 2.7 & 5.1 & 1.9 & virginica\\\\\n",
       "\t 6.8 & 3.2 & 5.9 & 2.3 & virginica\\\\\n",
       "\t 6.7 & 3.3 & 5.7 & 2.5 & virginica\\\\\n",
       "\t 6.7 & 3.0 & 5.2 & 2.3 & virginica\\\\\n",
       "\t 6.3 & 2.5 & 5.0 & 1.9 & virginica\\\\\n",
       "\t 6.5 & 3.0 & 5.2 & 2.0 & virginica\\\\\n",
       "\t 6.2 & 3.4 & 5.4 & 2.3 & virginica\\\\\n",
       "\t 5.9 & 3.0 & 5.1 & 1.8 & virginica\\\\\n",
       "\\end{tabular}\n"
      ],
      "text/markdown": [
       "\n",
       "A data.frame: 150 × 5\n",
       "\n",
       "| Sepal.Length &lt;dbl&gt; | Sepal.Width &lt;dbl&gt; | Petal.Length &lt;dbl&gt; | Petal.Width &lt;dbl&gt; | Species &lt;fct&gt; |\n",
       "|---|---|---|---|---|\n",
       "| 5.1 | 3.5 | 1.4 | 0.2 | setosa |\n",
       "| 4.9 | 3.0 | 1.4 | 0.2 | setosa |\n",
       "| 4.7 | 3.2 | 1.3 | 0.2 | setosa |\n",
       "| 4.6 | 3.1 | 1.5 | 0.2 | setosa |\n",
       "| 5.0 | 3.6 | 1.4 | 0.2 | setosa |\n",
       "| 5.4 | 3.9 | 1.7 | 0.4 | setosa |\n",
       "| 4.6 | 3.4 | 1.4 | 0.3 | setosa |\n",
       "| 5.0 | 3.4 | 1.5 | 0.2 | setosa |\n",
       "| 4.4 | 2.9 | 1.4 | 0.2 | setosa |\n",
       "| 4.9 | 3.1 | 1.5 | 0.1 | setosa |\n",
       "| 5.4 | 3.7 | 1.5 | 0.2 | setosa |\n",
       "| 4.8 | 3.4 | 1.6 | 0.2 | setosa |\n",
       "| 4.8 | 3.0 | 1.4 | 0.1 | setosa |\n",
       "| 4.3 | 3.0 | 1.1 | 0.1 | setosa |\n",
       "| 5.8 | 4.0 | 1.2 | 0.2 | setosa |\n",
       "| 5.7 | 4.4 | 1.5 | 0.4 | setosa |\n",
       "| 5.4 | 3.9 | 1.3 | 0.4 | setosa |\n",
       "| 5.1 | 3.5 | 1.4 | 0.3 | setosa |\n",
       "| 5.7 | 3.8 | 1.7 | 0.3 | setosa |\n",
       "| 5.1 | 3.8 | 1.5 | 0.3 | setosa |\n",
       "| 5.4 | 3.4 | 1.7 | 0.2 | setosa |\n",
       "| 5.1 | 3.7 | 1.5 | 0.4 | setosa |\n",
       "| 4.6 | 3.6 | 1.0 | 0.2 | setosa |\n",
       "| 5.1 | 3.3 | 1.7 | 0.5 | setosa |\n",
       "| 4.8 | 3.4 | 1.9 | 0.2 | setosa |\n",
       "| 5.0 | 3.0 | 1.6 | 0.2 | setosa |\n",
       "| 5.0 | 3.4 | 1.6 | 0.4 | setosa |\n",
       "| 5.2 | 3.5 | 1.5 | 0.2 | setosa |\n",
       "| 5.2 | 3.4 | 1.4 | 0.2 | setosa |\n",
       "| 4.7 | 3.2 | 1.6 | 0.2 | setosa |\n",
       "| ⋮ | ⋮ | ⋮ | ⋮ | ⋮ |\n",
       "| 6.9 | 3.2 | 5.7 | 2.3 | virginica |\n",
       "| 5.6 | 2.8 | 4.9 | 2.0 | virginica |\n",
       "| 7.7 | 2.8 | 6.7 | 2.0 | virginica |\n",
       "| 6.3 | 2.7 | 4.9 | 1.8 | virginica |\n",
       "| 6.7 | 3.3 | 5.7 | 2.1 | virginica |\n",
       "| 7.2 | 3.2 | 6.0 | 1.8 | virginica |\n",
       "| 6.2 | 2.8 | 4.8 | 1.8 | virginica |\n",
       "| 6.1 | 3.0 | 4.9 | 1.8 | virginica |\n",
       "| 6.4 | 2.8 | 5.6 | 2.1 | virginica |\n",
       "| 7.2 | 3.0 | 5.8 | 1.6 | virginica |\n",
       "| 7.4 | 2.8 | 6.1 | 1.9 | virginica |\n",
       "| 7.9 | 3.8 | 6.4 | 2.0 | virginica |\n",
       "| 6.4 | 2.8 | 5.6 | 2.2 | virginica |\n",
       "| 6.3 | 2.8 | 5.1 | 1.5 | virginica |\n",
       "| 6.1 | 2.6 | 5.6 | 1.4 | virginica |\n",
       "| 7.7 | 3.0 | 6.1 | 2.3 | virginica |\n",
       "| 6.3 | 3.4 | 5.6 | 2.4 | virginica |\n",
       "| 6.4 | 3.1 | 5.5 | 1.8 | virginica |\n",
       "| 6.0 | 3.0 | 4.8 | 1.8 | virginica |\n",
       "| 6.9 | 3.1 | 5.4 | 2.1 | virginica |\n",
       "| 6.7 | 3.1 | 5.6 | 2.4 | virginica |\n",
       "| 6.9 | 3.1 | 5.1 | 2.3 | virginica |\n",
       "| 5.8 | 2.7 | 5.1 | 1.9 | virginica |\n",
       "| 6.8 | 3.2 | 5.9 | 2.3 | virginica |\n",
       "| 6.7 | 3.3 | 5.7 | 2.5 | virginica |\n",
       "| 6.7 | 3.0 | 5.2 | 2.3 | virginica |\n",
       "| 6.3 | 2.5 | 5.0 | 1.9 | virginica |\n",
       "| 6.5 | 3.0 | 5.2 | 2.0 | virginica |\n",
       "| 6.2 | 3.4 | 5.4 | 2.3 | virginica |\n",
       "| 5.9 | 3.0 | 5.1 | 1.8 | virginica |\n",
       "\n"
      ],
      "text/plain": [
       "    Sepal.Length Sepal.Width Petal.Length Petal.Width Species  \n",
       "1   5.1          3.5         1.4          0.2         setosa   \n",
       "2   4.9          3.0         1.4          0.2         setosa   \n",
       "3   4.7          3.2         1.3          0.2         setosa   \n",
       "4   4.6          3.1         1.5          0.2         setosa   \n",
       "5   5.0          3.6         1.4          0.2         setosa   \n",
       "6   5.4          3.9         1.7          0.4         setosa   \n",
       "7   4.6          3.4         1.4          0.3         setosa   \n",
       "8   5.0          3.4         1.5          0.2         setosa   \n",
       "9   4.4          2.9         1.4          0.2         setosa   \n",
       "10  4.9          3.1         1.5          0.1         setosa   \n",
       "11  5.4          3.7         1.5          0.2         setosa   \n",
       "12  4.8          3.4         1.6          0.2         setosa   \n",
       "13  4.8          3.0         1.4          0.1         setosa   \n",
       "14  4.3          3.0         1.1          0.1         setosa   \n",
       "15  5.8          4.0         1.2          0.2         setosa   \n",
       "16  5.7          4.4         1.5          0.4         setosa   \n",
       "17  5.4          3.9         1.3          0.4         setosa   \n",
       "18  5.1          3.5         1.4          0.3         setosa   \n",
       "19  5.7          3.8         1.7          0.3         setosa   \n",
       "20  5.1          3.8         1.5          0.3         setosa   \n",
       "21  5.4          3.4         1.7          0.2         setosa   \n",
       "22  5.1          3.7         1.5          0.4         setosa   \n",
       "23  4.6          3.6         1.0          0.2         setosa   \n",
       "24  5.1          3.3         1.7          0.5         setosa   \n",
       "25  4.8          3.4         1.9          0.2         setosa   \n",
       "26  5.0          3.0         1.6          0.2         setosa   \n",
       "27  5.0          3.4         1.6          0.4         setosa   \n",
       "28  5.2          3.5         1.5          0.2         setosa   \n",
       "29  5.2          3.4         1.4          0.2         setosa   \n",
       "30  4.7          3.2         1.6          0.2         setosa   \n",
       "⋮   ⋮            ⋮           ⋮            ⋮           ⋮        \n",
       "121 6.9          3.2         5.7          2.3         virginica\n",
       "122 5.6          2.8         4.9          2.0         virginica\n",
       "123 7.7          2.8         6.7          2.0         virginica\n",
       "124 6.3          2.7         4.9          1.8         virginica\n",
       "125 6.7          3.3         5.7          2.1         virginica\n",
       "126 7.2          3.2         6.0          1.8         virginica\n",
       "127 6.2          2.8         4.8          1.8         virginica\n",
       "128 6.1          3.0         4.9          1.8         virginica\n",
       "129 6.4          2.8         5.6          2.1         virginica\n",
       "130 7.2          3.0         5.8          1.6         virginica\n",
       "131 7.4          2.8         6.1          1.9         virginica\n",
       "132 7.9          3.8         6.4          2.0         virginica\n",
       "133 6.4          2.8         5.6          2.2         virginica\n",
       "134 6.3          2.8         5.1          1.5         virginica\n",
       "135 6.1          2.6         5.6          1.4         virginica\n",
       "136 7.7          3.0         6.1          2.3         virginica\n",
       "137 6.3          3.4         5.6          2.4         virginica\n",
       "138 6.4          3.1         5.5          1.8         virginica\n",
       "139 6.0          3.0         4.8          1.8         virginica\n",
       "140 6.9          3.1         5.4          2.1         virginica\n",
       "141 6.7          3.1         5.6          2.4         virginica\n",
       "142 6.9          3.1         5.1          2.3         virginica\n",
       "143 5.8          2.7         5.1          1.9         virginica\n",
       "144 6.8          3.2         5.9          2.3         virginica\n",
       "145 6.7          3.3         5.7          2.5         virginica\n",
       "146 6.7          3.0         5.2          2.3         virginica\n",
       "147 6.3          2.5         5.0          1.9         virginica\n",
       "148 6.5          3.0         5.2          2.0         virginica\n",
       "149 6.2          3.4         5.4          2.3         virginica\n",
       "150 5.9          3.0         5.1          1.8         virginica"
      ]
     },
     "metadata": {},
     "output_type": "display_data"
    }
   ],
   "source": [
    "iris # the famous iris data set used by Sir Ronald Fisher"
   ]
  },
  {
   "cell_type": "code",
   "execution_count": 3,
   "metadata": {},
   "outputs": [
    {
     "data": {
      "text/html": [
       "<table>\n",
       "<caption>A tibble: 150 × 5</caption>\n",
       "<thead>\n",
       "\t<tr><th scope=col>Sepal.Length</th><th scope=col>Sepal.Width</th><th scope=col>Petal.Length</th><th scope=col>Petal.Width</th><th scope=col>Species</th></tr>\n",
       "\t<tr><th scope=col>&lt;dbl&gt;</th><th scope=col>&lt;dbl&gt;</th><th scope=col>&lt;dbl&gt;</th><th scope=col>&lt;dbl&gt;</th><th scope=col>&lt;fct&gt;</th></tr>\n",
       "</thead>\n",
       "<tbody>\n",
       "\t<tr><td>5.1</td><td>3.5</td><td>1.4</td><td>0.2</td><td>setosa</td></tr>\n",
       "\t<tr><td>4.9</td><td>3.0</td><td>1.4</td><td>0.2</td><td>setosa</td></tr>\n",
       "\t<tr><td>4.7</td><td>3.2</td><td>1.3</td><td>0.2</td><td>setosa</td></tr>\n",
       "\t<tr><td>4.6</td><td>3.1</td><td>1.5</td><td>0.2</td><td>setosa</td></tr>\n",
       "\t<tr><td>5.0</td><td>3.6</td><td>1.4</td><td>0.2</td><td>setosa</td></tr>\n",
       "\t<tr><td>5.4</td><td>3.9</td><td>1.7</td><td>0.4</td><td>setosa</td></tr>\n",
       "\t<tr><td>4.6</td><td>3.4</td><td>1.4</td><td>0.3</td><td>setosa</td></tr>\n",
       "\t<tr><td>5.0</td><td>3.4</td><td>1.5</td><td>0.2</td><td>setosa</td></tr>\n",
       "\t<tr><td>4.4</td><td>2.9</td><td>1.4</td><td>0.2</td><td>setosa</td></tr>\n",
       "\t<tr><td>4.9</td><td>3.1</td><td>1.5</td><td>0.1</td><td>setosa</td></tr>\n",
       "\t<tr><td>5.4</td><td>3.7</td><td>1.5</td><td>0.2</td><td>setosa</td></tr>\n",
       "\t<tr><td>4.8</td><td>3.4</td><td>1.6</td><td>0.2</td><td>setosa</td></tr>\n",
       "\t<tr><td>4.8</td><td>3.0</td><td>1.4</td><td>0.1</td><td>setosa</td></tr>\n",
       "\t<tr><td>4.3</td><td>3.0</td><td>1.1</td><td>0.1</td><td>setosa</td></tr>\n",
       "\t<tr><td>5.8</td><td>4.0</td><td>1.2</td><td>0.2</td><td>setosa</td></tr>\n",
       "\t<tr><td>5.7</td><td>4.4</td><td>1.5</td><td>0.4</td><td>setosa</td></tr>\n",
       "\t<tr><td>5.4</td><td>3.9</td><td>1.3</td><td>0.4</td><td>setosa</td></tr>\n",
       "\t<tr><td>5.1</td><td>3.5</td><td>1.4</td><td>0.3</td><td>setosa</td></tr>\n",
       "\t<tr><td>5.7</td><td>3.8</td><td>1.7</td><td>0.3</td><td>setosa</td></tr>\n",
       "\t<tr><td>5.1</td><td>3.8</td><td>1.5</td><td>0.3</td><td>setosa</td></tr>\n",
       "\t<tr><td>5.4</td><td>3.4</td><td>1.7</td><td>0.2</td><td>setosa</td></tr>\n",
       "\t<tr><td>5.1</td><td>3.7</td><td>1.5</td><td>0.4</td><td>setosa</td></tr>\n",
       "\t<tr><td>4.6</td><td>3.6</td><td>1.0</td><td>0.2</td><td>setosa</td></tr>\n",
       "\t<tr><td>5.1</td><td>3.3</td><td>1.7</td><td>0.5</td><td>setosa</td></tr>\n",
       "\t<tr><td>4.8</td><td>3.4</td><td>1.9</td><td>0.2</td><td>setosa</td></tr>\n",
       "\t<tr><td>5.0</td><td>3.0</td><td>1.6</td><td>0.2</td><td>setosa</td></tr>\n",
       "\t<tr><td>5.0</td><td>3.4</td><td>1.6</td><td>0.4</td><td>setosa</td></tr>\n",
       "\t<tr><td>5.2</td><td>3.5</td><td>1.5</td><td>0.2</td><td>setosa</td></tr>\n",
       "\t<tr><td>5.2</td><td>3.4</td><td>1.4</td><td>0.2</td><td>setosa</td></tr>\n",
       "\t<tr><td>4.7</td><td>3.2</td><td>1.6</td><td>0.2</td><td>setosa</td></tr>\n",
       "\t<tr><td>⋮</td><td>⋮</td><td>⋮</td><td>⋮</td><td>⋮</td></tr>\n",
       "\t<tr><td>6.9</td><td>3.2</td><td>5.7</td><td>2.3</td><td>virginica</td></tr>\n",
       "\t<tr><td>5.6</td><td>2.8</td><td>4.9</td><td>2.0</td><td>virginica</td></tr>\n",
       "\t<tr><td>7.7</td><td>2.8</td><td>6.7</td><td>2.0</td><td>virginica</td></tr>\n",
       "\t<tr><td>6.3</td><td>2.7</td><td>4.9</td><td>1.8</td><td>virginica</td></tr>\n",
       "\t<tr><td>6.7</td><td>3.3</td><td>5.7</td><td>2.1</td><td>virginica</td></tr>\n",
       "\t<tr><td>7.2</td><td>3.2</td><td>6.0</td><td>1.8</td><td>virginica</td></tr>\n",
       "\t<tr><td>6.2</td><td>2.8</td><td>4.8</td><td>1.8</td><td>virginica</td></tr>\n",
       "\t<tr><td>6.1</td><td>3.0</td><td>4.9</td><td>1.8</td><td>virginica</td></tr>\n",
       "\t<tr><td>6.4</td><td>2.8</td><td>5.6</td><td>2.1</td><td>virginica</td></tr>\n",
       "\t<tr><td>7.2</td><td>3.0</td><td>5.8</td><td>1.6</td><td>virginica</td></tr>\n",
       "\t<tr><td>7.4</td><td>2.8</td><td>6.1</td><td>1.9</td><td>virginica</td></tr>\n",
       "\t<tr><td>7.9</td><td>3.8</td><td>6.4</td><td>2.0</td><td>virginica</td></tr>\n",
       "\t<tr><td>6.4</td><td>2.8</td><td>5.6</td><td>2.2</td><td>virginica</td></tr>\n",
       "\t<tr><td>6.3</td><td>2.8</td><td>5.1</td><td>1.5</td><td>virginica</td></tr>\n",
       "\t<tr><td>6.1</td><td>2.6</td><td>5.6</td><td>1.4</td><td>virginica</td></tr>\n",
       "\t<tr><td>7.7</td><td>3.0</td><td>6.1</td><td>2.3</td><td>virginica</td></tr>\n",
       "\t<tr><td>6.3</td><td>3.4</td><td>5.6</td><td>2.4</td><td>virginica</td></tr>\n",
       "\t<tr><td>6.4</td><td>3.1</td><td>5.5</td><td>1.8</td><td>virginica</td></tr>\n",
       "\t<tr><td>6.0</td><td>3.0</td><td>4.8</td><td>1.8</td><td>virginica</td></tr>\n",
       "\t<tr><td>6.9</td><td>3.1</td><td>5.4</td><td>2.1</td><td>virginica</td></tr>\n",
       "\t<tr><td>6.7</td><td>3.1</td><td>5.6</td><td>2.4</td><td>virginica</td></tr>\n",
       "\t<tr><td>6.9</td><td>3.1</td><td>5.1</td><td>2.3</td><td>virginica</td></tr>\n",
       "\t<tr><td>5.8</td><td>2.7</td><td>5.1</td><td>1.9</td><td>virginica</td></tr>\n",
       "\t<tr><td>6.8</td><td>3.2</td><td>5.9</td><td>2.3</td><td>virginica</td></tr>\n",
       "\t<tr><td>6.7</td><td>3.3</td><td>5.7</td><td>2.5</td><td>virginica</td></tr>\n",
       "\t<tr><td>6.7</td><td>3.0</td><td>5.2</td><td>2.3</td><td>virginica</td></tr>\n",
       "\t<tr><td>6.3</td><td>2.5</td><td>5.0</td><td>1.9</td><td>virginica</td></tr>\n",
       "\t<tr><td>6.5</td><td>3.0</td><td>5.2</td><td>2.0</td><td>virginica</td></tr>\n",
       "\t<tr><td>6.2</td><td>3.4</td><td>5.4</td><td>2.3</td><td>virginica</td></tr>\n",
       "\t<tr><td>5.9</td><td>3.0</td><td>5.1</td><td>1.8</td><td>virginica</td></tr>\n",
       "</tbody>\n",
       "</table>\n"
      ],
      "text/latex": [
       "A tibble: 150 × 5\n",
       "\\begin{tabular}{lllll}\n",
       " Sepal.Length & Sepal.Width & Petal.Length & Petal.Width & Species\\\\\n",
       " <dbl> & <dbl> & <dbl> & <dbl> & <fct>\\\\\n",
       "\\hline\n",
       "\t 5.1 & 3.5 & 1.4 & 0.2 & setosa\\\\\n",
       "\t 4.9 & 3.0 & 1.4 & 0.2 & setosa\\\\\n",
       "\t 4.7 & 3.2 & 1.3 & 0.2 & setosa\\\\\n",
       "\t 4.6 & 3.1 & 1.5 & 0.2 & setosa\\\\\n",
       "\t 5.0 & 3.6 & 1.4 & 0.2 & setosa\\\\\n",
       "\t 5.4 & 3.9 & 1.7 & 0.4 & setosa\\\\\n",
       "\t 4.6 & 3.4 & 1.4 & 0.3 & setosa\\\\\n",
       "\t 5.0 & 3.4 & 1.5 & 0.2 & setosa\\\\\n",
       "\t 4.4 & 2.9 & 1.4 & 0.2 & setosa\\\\\n",
       "\t 4.9 & 3.1 & 1.5 & 0.1 & setosa\\\\\n",
       "\t 5.4 & 3.7 & 1.5 & 0.2 & setosa\\\\\n",
       "\t 4.8 & 3.4 & 1.6 & 0.2 & setosa\\\\\n",
       "\t 4.8 & 3.0 & 1.4 & 0.1 & setosa\\\\\n",
       "\t 4.3 & 3.0 & 1.1 & 0.1 & setosa\\\\\n",
       "\t 5.8 & 4.0 & 1.2 & 0.2 & setosa\\\\\n",
       "\t 5.7 & 4.4 & 1.5 & 0.4 & setosa\\\\\n",
       "\t 5.4 & 3.9 & 1.3 & 0.4 & setosa\\\\\n",
       "\t 5.1 & 3.5 & 1.4 & 0.3 & setosa\\\\\n",
       "\t 5.7 & 3.8 & 1.7 & 0.3 & setosa\\\\\n",
       "\t 5.1 & 3.8 & 1.5 & 0.3 & setosa\\\\\n",
       "\t 5.4 & 3.4 & 1.7 & 0.2 & setosa\\\\\n",
       "\t 5.1 & 3.7 & 1.5 & 0.4 & setosa\\\\\n",
       "\t 4.6 & 3.6 & 1.0 & 0.2 & setosa\\\\\n",
       "\t 5.1 & 3.3 & 1.7 & 0.5 & setosa\\\\\n",
       "\t 4.8 & 3.4 & 1.9 & 0.2 & setosa\\\\\n",
       "\t 5.0 & 3.0 & 1.6 & 0.2 & setosa\\\\\n",
       "\t 5.0 & 3.4 & 1.6 & 0.4 & setosa\\\\\n",
       "\t 5.2 & 3.5 & 1.5 & 0.2 & setosa\\\\\n",
       "\t 5.2 & 3.4 & 1.4 & 0.2 & setosa\\\\\n",
       "\t 4.7 & 3.2 & 1.6 & 0.2 & setosa\\\\\n",
       "\t ⋮ & ⋮ & ⋮ & ⋮ & ⋮\\\\\n",
       "\t 6.9 & 3.2 & 5.7 & 2.3 & virginica\\\\\n",
       "\t 5.6 & 2.8 & 4.9 & 2.0 & virginica\\\\\n",
       "\t 7.7 & 2.8 & 6.7 & 2.0 & virginica\\\\\n",
       "\t 6.3 & 2.7 & 4.9 & 1.8 & virginica\\\\\n",
       "\t 6.7 & 3.3 & 5.7 & 2.1 & virginica\\\\\n",
       "\t 7.2 & 3.2 & 6.0 & 1.8 & virginica\\\\\n",
       "\t 6.2 & 2.8 & 4.8 & 1.8 & virginica\\\\\n",
       "\t 6.1 & 3.0 & 4.9 & 1.8 & virginica\\\\\n",
       "\t 6.4 & 2.8 & 5.6 & 2.1 & virginica\\\\\n",
       "\t 7.2 & 3.0 & 5.8 & 1.6 & virginica\\\\\n",
       "\t 7.4 & 2.8 & 6.1 & 1.9 & virginica\\\\\n",
       "\t 7.9 & 3.8 & 6.4 & 2.0 & virginica\\\\\n",
       "\t 6.4 & 2.8 & 5.6 & 2.2 & virginica\\\\\n",
       "\t 6.3 & 2.8 & 5.1 & 1.5 & virginica\\\\\n",
       "\t 6.1 & 2.6 & 5.6 & 1.4 & virginica\\\\\n",
       "\t 7.7 & 3.0 & 6.1 & 2.3 & virginica\\\\\n",
       "\t 6.3 & 3.4 & 5.6 & 2.4 & virginica\\\\\n",
       "\t 6.4 & 3.1 & 5.5 & 1.8 & virginica\\\\\n",
       "\t 6.0 & 3.0 & 4.8 & 1.8 & virginica\\\\\n",
       "\t 6.9 & 3.1 & 5.4 & 2.1 & virginica\\\\\n",
       "\t 6.7 & 3.1 & 5.6 & 2.4 & virginica\\\\\n",
       "\t 6.9 & 3.1 & 5.1 & 2.3 & virginica\\\\\n",
       "\t 5.8 & 2.7 & 5.1 & 1.9 & virginica\\\\\n",
       "\t 6.8 & 3.2 & 5.9 & 2.3 & virginica\\\\\n",
       "\t 6.7 & 3.3 & 5.7 & 2.5 & virginica\\\\\n",
       "\t 6.7 & 3.0 & 5.2 & 2.3 & virginica\\\\\n",
       "\t 6.3 & 2.5 & 5.0 & 1.9 & virginica\\\\\n",
       "\t 6.5 & 3.0 & 5.2 & 2.0 & virginica\\\\\n",
       "\t 6.2 & 3.4 & 5.4 & 2.3 & virginica\\\\\n",
       "\t 5.9 & 3.0 & 5.1 & 1.8 & virginica\\\\\n",
       "\\end{tabular}\n"
      ],
      "text/markdown": [
       "\n",
       "A tibble: 150 × 5\n",
       "\n",
       "| Sepal.Length &lt;dbl&gt; | Sepal.Width &lt;dbl&gt; | Petal.Length &lt;dbl&gt; | Petal.Width &lt;dbl&gt; | Species &lt;fct&gt; |\n",
       "|---|---|---|---|---|\n",
       "| 5.1 | 3.5 | 1.4 | 0.2 | setosa |\n",
       "| 4.9 | 3.0 | 1.4 | 0.2 | setosa |\n",
       "| 4.7 | 3.2 | 1.3 | 0.2 | setosa |\n",
       "| 4.6 | 3.1 | 1.5 | 0.2 | setosa |\n",
       "| 5.0 | 3.6 | 1.4 | 0.2 | setosa |\n",
       "| 5.4 | 3.9 | 1.7 | 0.4 | setosa |\n",
       "| 4.6 | 3.4 | 1.4 | 0.3 | setosa |\n",
       "| 5.0 | 3.4 | 1.5 | 0.2 | setosa |\n",
       "| 4.4 | 2.9 | 1.4 | 0.2 | setosa |\n",
       "| 4.9 | 3.1 | 1.5 | 0.1 | setosa |\n",
       "| 5.4 | 3.7 | 1.5 | 0.2 | setosa |\n",
       "| 4.8 | 3.4 | 1.6 | 0.2 | setosa |\n",
       "| 4.8 | 3.0 | 1.4 | 0.1 | setosa |\n",
       "| 4.3 | 3.0 | 1.1 | 0.1 | setosa |\n",
       "| 5.8 | 4.0 | 1.2 | 0.2 | setosa |\n",
       "| 5.7 | 4.4 | 1.5 | 0.4 | setosa |\n",
       "| 5.4 | 3.9 | 1.3 | 0.4 | setosa |\n",
       "| 5.1 | 3.5 | 1.4 | 0.3 | setosa |\n",
       "| 5.7 | 3.8 | 1.7 | 0.3 | setosa |\n",
       "| 5.1 | 3.8 | 1.5 | 0.3 | setosa |\n",
       "| 5.4 | 3.4 | 1.7 | 0.2 | setosa |\n",
       "| 5.1 | 3.7 | 1.5 | 0.4 | setosa |\n",
       "| 4.6 | 3.6 | 1.0 | 0.2 | setosa |\n",
       "| 5.1 | 3.3 | 1.7 | 0.5 | setosa |\n",
       "| 4.8 | 3.4 | 1.9 | 0.2 | setosa |\n",
       "| 5.0 | 3.0 | 1.6 | 0.2 | setosa |\n",
       "| 5.0 | 3.4 | 1.6 | 0.4 | setosa |\n",
       "| 5.2 | 3.5 | 1.5 | 0.2 | setosa |\n",
       "| 5.2 | 3.4 | 1.4 | 0.2 | setosa |\n",
       "| 4.7 | 3.2 | 1.6 | 0.2 | setosa |\n",
       "| ⋮ | ⋮ | ⋮ | ⋮ | ⋮ |\n",
       "| 6.9 | 3.2 | 5.7 | 2.3 | virginica |\n",
       "| 5.6 | 2.8 | 4.9 | 2.0 | virginica |\n",
       "| 7.7 | 2.8 | 6.7 | 2.0 | virginica |\n",
       "| 6.3 | 2.7 | 4.9 | 1.8 | virginica |\n",
       "| 6.7 | 3.3 | 5.7 | 2.1 | virginica |\n",
       "| 7.2 | 3.2 | 6.0 | 1.8 | virginica |\n",
       "| 6.2 | 2.8 | 4.8 | 1.8 | virginica |\n",
       "| 6.1 | 3.0 | 4.9 | 1.8 | virginica |\n",
       "| 6.4 | 2.8 | 5.6 | 2.1 | virginica |\n",
       "| 7.2 | 3.0 | 5.8 | 1.6 | virginica |\n",
       "| 7.4 | 2.8 | 6.1 | 1.9 | virginica |\n",
       "| 7.9 | 3.8 | 6.4 | 2.0 | virginica |\n",
       "| 6.4 | 2.8 | 5.6 | 2.2 | virginica |\n",
       "| 6.3 | 2.8 | 5.1 | 1.5 | virginica |\n",
       "| 6.1 | 2.6 | 5.6 | 1.4 | virginica |\n",
       "| 7.7 | 3.0 | 6.1 | 2.3 | virginica |\n",
       "| 6.3 | 3.4 | 5.6 | 2.4 | virginica |\n",
       "| 6.4 | 3.1 | 5.5 | 1.8 | virginica |\n",
       "| 6.0 | 3.0 | 4.8 | 1.8 | virginica |\n",
       "| 6.9 | 3.1 | 5.4 | 2.1 | virginica |\n",
       "| 6.7 | 3.1 | 5.6 | 2.4 | virginica |\n",
       "| 6.9 | 3.1 | 5.1 | 2.3 | virginica |\n",
       "| 5.8 | 2.7 | 5.1 | 1.9 | virginica |\n",
       "| 6.8 | 3.2 | 5.9 | 2.3 | virginica |\n",
       "| 6.7 | 3.3 | 5.7 | 2.5 | virginica |\n",
       "| 6.7 | 3.0 | 5.2 | 2.3 | virginica |\n",
       "| 6.3 | 2.5 | 5.0 | 1.9 | virginica |\n",
       "| 6.5 | 3.0 | 5.2 | 2.0 | virginica |\n",
       "| 6.2 | 3.4 | 5.4 | 2.3 | virginica |\n",
       "| 5.9 | 3.0 | 5.1 | 1.8 | virginica |\n",
       "\n"
      ],
      "text/plain": [
       "    Sepal.Length Sepal.Width Petal.Length Petal.Width Species  \n",
       "1   5.1          3.5         1.4          0.2         setosa   \n",
       "2   4.9          3.0         1.4          0.2         setosa   \n",
       "3   4.7          3.2         1.3          0.2         setosa   \n",
       "4   4.6          3.1         1.5          0.2         setosa   \n",
       "5   5.0          3.6         1.4          0.2         setosa   \n",
       "6   5.4          3.9         1.7          0.4         setosa   \n",
       "7   4.6          3.4         1.4          0.3         setosa   \n",
       "8   5.0          3.4         1.5          0.2         setosa   \n",
       "9   4.4          2.9         1.4          0.2         setosa   \n",
       "10  4.9          3.1         1.5          0.1         setosa   \n",
       "11  5.4          3.7         1.5          0.2         setosa   \n",
       "12  4.8          3.4         1.6          0.2         setosa   \n",
       "13  4.8          3.0         1.4          0.1         setosa   \n",
       "14  4.3          3.0         1.1          0.1         setosa   \n",
       "15  5.8          4.0         1.2          0.2         setosa   \n",
       "16  5.7          4.4         1.5          0.4         setosa   \n",
       "17  5.4          3.9         1.3          0.4         setosa   \n",
       "18  5.1          3.5         1.4          0.3         setosa   \n",
       "19  5.7          3.8         1.7          0.3         setosa   \n",
       "20  5.1          3.8         1.5          0.3         setosa   \n",
       "21  5.4          3.4         1.7          0.2         setosa   \n",
       "22  5.1          3.7         1.5          0.4         setosa   \n",
       "23  4.6          3.6         1.0          0.2         setosa   \n",
       "24  5.1          3.3         1.7          0.5         setosa   \n",
       "25  4.8          3.4         1.9          0.2         setosa   \n",
       "26  5.0          3.0         1.6          0.2         setosa   \n",
       "27  5.0          3.4         1.6          0.4         setosa   \n",
       "28  5.2          3.5         1.5          0.2         setosa   \n",
       "29  5.2          3.4         1.4          0.2         setosa   \n",
       "30  4.7          3.2         1.6          0.2         setosa   \n",
       "⋮   ⋮            ⋮           ⋮            ⋮           ⋮        \n",
       "121 6.9          3.2         5.7          2.3         virginica\n",
       "122 5.6          2.8         4.9          2.0         virginica\n",
       "123 7.7          2.8         6.7          2.0         virginica\n",
       "124 6.3          2.7         4.9          1.8         virginica\n",
       "125 6.7          3.3         5.7          2.1         virginica\n",
       "126 7.2          3.2         6.0          1.8         virginica\n",
       "127 6.2          2.8         4.8          1.8         virginica\n",
       "128 6.1          3.0         4.9          1.8         virginica\n",
       "129 6.4          2.8         5.6          2.1         virginica\n",
       "130 7.2          3.0         5.8          1.6         virginica\n",
       "131 7.4          2.8         6.1          1.9         virginica\n",
       "132 7.9          3.8         6.4          2.0         virginica\n",
       "133 6.4          2.8         5.6          2.2         virginica\n",
       "134 6.3          2.8         5.1          1.5         virginica\n",
       "135 6.1          2.6         5.6          1.4         virginica\n",
       "136 7.7          3.0         6.1          2.3         virginica\n",
       "137 6.3          3.4         5.6          2.4         virginica\n",
       "138 6.4          3.1         5.5          1.8         virginica\n",
       "139 6.0          3.0         4.8          1.8         virginica\n",
       "140 6.9          3.1         5.4          2.1         virginica\n",
       "141 6.7          3.1         5.6          2.4         virginica\n",
       "142 6.9          3.1         5.1          2.3         virginica\n",
       "143 5.8          2.7         5.1          1.9         virginica\n",
       "144 6.8          3.2         5.9          2.3         virginica\n",
       "145 6.7          3.3         5.7          2.5         virginica\n",
       "146 6.7          3.0         5.2          2.3         virginica\n",
       "147 6.3          2.5         5.0          1.9         virginica\n",
       "148 6.5          3.0         5.2          2.0         virginica\n",
       "149 6.2          3.4         5.4          2.3         virginica\n",
       "150 5.9          3.0         5.1          1.8         virginica"
      ]
     },
     "metadata": {},
     "output_type": "display_data"
    }
   ],
   "source": [
    "(iris_tibble <- as_tibble(iris)) # convert to a tibble"
   ]
  },
  {
   "cell_type": "code",
   "execution_count": 4,
   "metadata": {},
   "outputs": [
    {
     "data": {
      "text/html": [
       "<table>\n",
       "<caption>A tibble: 10 × 3</caption>\n",
       "<thead>\n",
       "\t<tr><th scope=col>x</th><th scope=col>y</th><th scope=col>z</th></tr>\n",
       "\t<tr><th scope=col>&lt;dbl&gt;</th><th scope=col>&lt;dbl&gt;</th><th scope=col>&lt;dbl&gt;</th></tr>\n",
       "</thead>\n",
       "<tbody>\n",
       "\t<tr><td> 100</td><td>50</td><td> 150</td></tr>\n",
       "\t<tr><td> 200</td><td>50</td><td> 250</td></tr>\n",
       "\t<tr><td> 300</td><td>50</td><td> 350</td></tr>\n",
       "\t<tr><td> 400</td><td>50</td><td> 450</td></tr>\n",
       "\t<tr><td> 500</td><td>50</td><td> 550</td></tr>\n",
       "\t<tr><td> 600</td><td>50</td><td> 650</td></tr>\n",
       "\t<tr><td> 700</td><td>50</td><td> 750</td></tr>\n",
       "\t<tr><td> 800</td><td>50</td><td> 850</td></tr>\n",
       "\t<tr><td> 900</td><td>50</td><td> 950</td></tr>\n",
       "\t<tr><td>1000</td><td>50</td><td>1050</td></tr>\n",
       "</tbody>\n",
       "</table>\n"
      ],
      "text/latex": [
       "A tibble: 10 × 3\n",
       "\\begin{tabular}{lll}\n",
       " x & y & z\\\\\n",
       " <dbl> & <dbl> & <dbl>\\\\\n",
       "\\hline\n",
       "\t  100 & 50 &  150\\\\\n",
       "\t  200 & 50 &  250\\\\\n",
       "\t  300 & 50 &  350\\\\\n",
       "\t  400 & 50 &  450\\\\\n",
       "\t  500 & 50 &  550\\\\\n",
       "\t  600 & 50 &  650\\\\\n",
       "\t  700 & 50 &  750\\\\\n",
       "\t  800 & 50 &  850\\\\\n",
       "\t  900 & 50 &  950\\\\\n",
       "\t 1000 & 50 & 1050\\\\\n",
       "\\end{tabular}\n"
      ],
      "text/markdown": [
       "\n",
       "A tibble: 10 × 3\n",
       "\n",
       "| x &lt;dbl&gt; | y &lt;dbl&gt; | z &lt;dbl&gt; |\n",
       "|---|---|---|\n",
       "|  100 | 50 |  150 |\n",
       "|  200 | 50 |  250 |\n",
       "|  300 | 50 |  350 |\n",
       "|  400 | 50 |  450 |\n",
       "|  500 | 50 |  550 |\n",
       "|  600 | 50 |  650 |\n",
       "|  700 | 50 |  750 |\n",
       "|  800 | 50 |  850 |\n",
       "|  900 | 50 |  950 |\n",
       "| 1000 | 50 | 1050 |\n",
       "\n"
      ],
      "text/plain": [
       "   x    y  z   \n",
       "1   100 50  150\n",
       "2   200 50  250\n",
       "3   300 50  350\n",
       "4   400 50  450\n",
       "5   500 50  550\n",
       "6   600 50  650\n",
       "7   700 50  750\n",
       "8   800 50  850\n",
       "9   900 50  950\n",
       "10 1000 50 1050"
      ]
     },
     "metadata": {},
     "output_type": "display_data"
    }
   ],
   "source": [
    "tibble(\n",
    "    x = seq(100, 1000, 100),\n",
    "    y = 50,   # vectors of shorter length are automatically expanded\n",
    "    z = x + 50   # variables are created sequentially so can refer to a variable already created\n",
    ")"
   ]
  },
  {
   "cell_type": "markdown",
   "metadata": {},
   "source": [
    "To create tibbles by specifiying rows, use `tribble` (for **tr**ansposed t**ibble**)"
   ]
  },
  {
   "cell_type": "code",
   "execution_count": 5,
   "metadata": {},
   "outputs": [
    {
     "data": {
      "text/html": [
       "<table>\n",
       "<caption>A tibble: 6 × 3</caption>\n",
       "<thead>\n",
       "\t<tr><th scope=col>letter</th><th scope=col>Letter</th><th scope=col>number</th></tr>\n",
       "\t<tr><th scope=col>&lt;chr&gt;</th><th scope=col>&lt;chr&gt;</th><th scope=col>&lt;dbl&gt;</th></tr>\n",
       "</thead>\n",
       "<tbody>\n",
       "\t<tr><td>a</td><td>A</td><td> 1</td></tr>\n",
       "\t<tr><td>f</td><td>F</td><td> 6</td></tr>\n",
       "\t<tr><td>k</td><td>K</td><td>11</td></tr>\n",
       "\t<tr><td>p</td><td>P</td><td>16</td></tr>\n",
       "\t<tr><td>u</td><td>U</td><td>21</td></tr>\n",
       "\t<tr><td>z</td><td>Z</td><td>26</td></tr>\n",
       "</tbody>\n",
       "</table>\n"
      ],
      "text/latex": [
       "A tibble: 6 × 3\n",
       "\\begin{tabular}{lll}\n",
       " letter & Letter & number\\\\\n",
       " <chr> & <chr> & <dbl>\\\\\n",
       "\\hline\n",
       "\t a & A &  1\\\\\n",
       "\t f & F &  6\\\\\n",
       "\t k & K & 11\\\\\n",
       "\t p & P & 16\\\\\n",
       "\t u & U & 21\\\\\n",
       "\t z & Z & 26\\\\\n",
       "\\end{tabular}\n"
      ],
      "text/markdown": [
       "\n",
       "A tibble: 6 × 3\n",
       "\n",
       "| letter &lt;chr&gt; | Letter &lt;chr&gt; | number &lt;dbl&gt; |\n",
       "|---|---|---|\n",
       "| a | A |  1 |\n",
       "| f | F |  6 |\n",
       "| k | K | 11 |\n",
       "| p | P | 16 |\n",
       "| u | U | 21 |\n",
       "| z | Z | 26 |\n",
       "\n"
      ],
      "text/plain": [
       "  letter Letter number\n",
       "1 a      A       1    \n",
       "2 f      F       6    \n",
       "3 k      K      11    \n",
       "4 p      P      16    \n",
       "5 u      U      21    \n",
       "6 z      Z      26    "
      ]
     },
     "metadata": {},
     "output_type": "display_data"
    }
   ],
   "source": [
    "tribble(\n",
    "    ~letter, ~Letter, ~number, # note use of R formulas in specifying variables names in tribble()\n",
    "    #--|---|---\n",
    "    \"a\", \"A\", 1,\n",
    "    \"f\", \"F\", 6,\n",
    "    \"k\", \"K\", 11,\n",
    "    \"p\", \"P\", 16,\n",
    "    \"u\", \"U\", 21,\n",
    "    \"z\", \"Z\", 26\n",
    ")"
   ]
  },
  {
   "cell_type": "markdown",
   "metadata": {},
   "source": [
    "Data frames and tibble print differently"
   ]
  },
  {
   "cell_type": "code",
   "execution_count": 6,
   "metadata": {},
   "outputs": [
    {
     "name": "stdout",
     "output_type": "stream",
     "text": [
      "    Sepal.Length Sepal.Width Petal.Length Petal.Width    Species\n",
      "1            5.1         3.5          1.4         0.2     setosa\n",
      "2            4.9         3.0          1.4         0.2     setosa\n",
      "3            4.7         3.2          1.3         0.2     setosa\n",
      "4            4.6         3.1          1.5         0.2     setosa\n",
      "5            5.0         3.6          1.4         0.2     setosa\n",
      "6            5.4         3.9          1.7         0.4     setosa\n",
      "7            4.6         3.4          1.4         0.3     setosa\n",
      "8            5.0         3.4          1.5         0.2     setosa\n",
      "9            4.4         2.9          1.4         0.2     setosa\n",
      "10           4.9         3.1          1.5         0.1     setosa\n",
      "11           5.4         3.7          1.5         0.2     setosa\n",
      "12           4.8         3.4          1.6         0.2     setosa\n",
      "13           4.8         3.0          1.4         0.1     setosa\n",
      "14           4.3         3.0          1.1         0.1     setosa\n",
      "15           5.8         4.0          1.2         0.2     setosa\n",
      "16           5.7         4.4          1.5         0.4     setosa\n",
      "17           5.4         3.9          1.3         0.4     setosa\n",
      "18           5.1         3.5          1.4         0.3     setosa\n",
      "19           5.7         3.8          1.7         0.3     setosa\n",
      "20           5.1         3.8          1.5         0.3     setosa\n",
      "21           5.4         3.4          1.7         0.2     setosa\n",
      "22           5.1         3.7          1.5         0.4     setosa\n",
      "23           4.6         3.6          1.0         0.2     setosa\n",
      "24           5.1         3.3          1.7         0.5     setosa\n",
      "25           4.8         3.4          1.9         0.2     setosa\n",
      "26           5.0         3.0          1.6         0.2     setosa\n",
      "27           5.0         3.4          1.6         0.4     setosa\n",
      "28           5.2         3.5          1.5         0.2     setosa\n",
      "29           5.2         3.4          1.4         0.2     setosa\n",
      "30           4.7         3.2          1.6         0.2     setosa\n",
      "31           4.8         3.1          1.6         0.2     setosa\n",
      "32           5.4         3.4          1.5         0.4     setosa\n",
      "33           5.2         4.1          1.5         0.1     setosa\n",
      "34           5.5         4.2          1.4         0.2     setosa\n",
      "35           4.9         3.1          1.5         0.2     setosa\n",
      "36           5.0         3.2          1.2         0.2     setosa\n",
      "37           5.5         3.5          1.3         0.2     setosa\n",
      "38           4.9         3.6          1.4         0.1     setosa\n",
      "39           4.4         3.0          1.3         0.2     setosa\n",
      "40           5.1         3.4          1.5         0.2     setosa\n",
      "41           5.0         3.5          1.3         0.3     setosa\n",
      "42           4.5         2.3          1.3         0.3     setosa\n",
      "43           4.4         3.2          1.3         0.2     setosa\n",
      "44           5.0         3.5          1.6         0.6     setosa\n",
      "45           5.1         3.8          1.9         0.4     setosa\n",
      "46           4.8         3.0          1.4         0.3     setosa\n",
      "47           5.1         3.8          1.6         0.2     setosa\n",
      "48           4.6         3.2          1.4         0.2     setosa\n",
      "49           5.3         3.7          1.5         0.2     setosa\n",
      "50           5.0         3.3          1.4         0.2     setosa\n",
      "51           7.0         3.2          4.7         1.4 versicolor\n",
      "52           6.4         3.2          4.5         1.5 versicolor\n",
      "53           6.9         3.1          4.9         1.5 versicolor\n",
      "54           5.5         2.3          4.0         1.3 versicolor\n",
      "55           6.5         2.8          4.6         1.5 versicolor\n",
      "56           5.7         2.8          4.5         1.3 versicolor\n",
      "57           6.3         3.3          4.7         1.6 versicolor\n",
      "58           4.9         2.4          3.3         1.0 versicolor\n",
      "59           6.6         2.9          4.6         1.3 versicolor\n",
      "60           5.2         2.7          3.9         1.4 versicolor\n",
      "61           5.0         2.0          3.5         1.0 versicolor\n",
      "62           5.9         3.0          4.2         1.5 versicolor\n",
      "63           6.0         2.2          4.0         1.0 versicolor\n",
      "64           6.1         2.9          4.7         1.4 versicolor\n",
      "65           5.6         2.9          3.6         1.3 versicolor\n",
      "66           6.7         3.1          4.4         1.4 versicolor\n",
      "67           5.6         3.0          4.5         1.5 versicolor\n",
      "68           5.8         2.7          4.1         1.0 versicolor\n",
      "69           6.2         2.2          4.5         1.5 versicolor\n",
      "70           5.6         2.5          3.9         1.1 versicolor\n",
      "71           5.9         3.2          4.8         1.8 versicolor\n",
      "72           6.1         2.8          4.0         1.3 versicolor\n",
      "73           6.3         2.5          4.9         1.5 versicolor\n",
      "74           6.1         2.8          4.7         1.2 versicolor\n",
      "75           6.4         2.9          4.3         1.3 versicolor\n",
      "76           6.6         3.0          4.4         1.4 versicolor\n",
      "77           6.8         2.8          4.8         1.4 versicolor\n",
      "78           6.7         3.0          5.0         1.7 versicolor\n",
      "79           6.0         2.9          4.5         1.5 versicolor\n",
      "80           5.7         2.6          3.5         1.0 versicolor\n",
      "81           5.5         2.4          3.8         1.1 versicolor\n",
      "82           5.5         2.4          3.7         1.0 versicolor\n",
      "83           5.8         2.7          3.9         1.2 versicolor\n",
      "84           6.0         2.7          5.1         1.6 versicolor\n",
      "85           5.4         3.0          4.5         1.5 versicolor\n",
      "86           6.0         3.4          4.5         1.6 versicolor\n",
      "87           6.7         3.1          4.7         1.5 versicolor\n",
      "88           6.3         2.3          4.4         1.3 versicolor\n",
      "89           5.6         3.0          4.1         1.3 versicolor\n",
      "90           5.5         2.5          4.0         1.3 versicolor\n",
      "91           5.5         2.6          4.4         1.2 versicolor\n",
      "92           6.1         3.0          4.6         1.4 versicolor\n",
      "93           5.8         2.6          4.0         1.2 versicolor\n",
      "94           5.0         2.3          3.3         1.0 versicolor\n",
      "95           5.6         2.7          4.2         1.3 versicolor\n",
      "96           5.7         3.0          4.2         1.2 versicolor\n",
      "97           5.7         2.9          4.2         1.3 versicolor\n",
      "98           6.2         2.9          4.3         1.3 versicolor\n",
      "99           5.1         2.5          3.0         1.1 versicolor\n",
      "100          5.7         2.8          4.1         1.3 versicolor\n",
      "101          6.3         3.3          6.0         2.5  virginica\n",
      "102          5.8         2.7          5.1         1.9  virginica\n",
      "103          7.1         3.0          5.9         2.1  virginica\n",
      "104          6.3         2.9          5.6         1.8  virginica\n",
      "105          6.5         3.0          5.8         2.2  virginica\n",
      "106          7.6         3.0          6.6         2.1  virginica\n",
      "107          4.9         2.5          4.5         1.7  virginica\n",
      "108          7.3         2.9          6.3         1.8  virginica\n",
      "109          6.7         2.5          5.8         1.8  virginica\n",
      "110          7.2         3.6          6.1         2.5  virginica\n",
      "111          6.5         3.2          5.1         2.0  virginica\n",
      "112          6.4         2.7          5.3         1.9  virginica\n",
      "113          6.8         3.0          5.5         2.1  virginica\n",
      "114          5.7         2.5          5.0         2.0  virginica\n",
      "115          5.8         2.8          5.1         2.4  virginica\n",
      "116          6.4         3.2          5.3         2.3  virginica\n",
      "117          6.5         3.0          5.5         1.8  virginica\n",
      "118          7.7         3.8          6.7         2.2  virginica\n",
      "119          7.7         2.6          6.9         2.3  virginica\n",
      "120          6.0         2.2          5.0         1.5  virginica\n",
      "121          6.9         3.2          5.7         2.3  virginica\n",
      "122          5.6         2.8          4.9         2.0  virginica\n",
      "123          7.7         2.8          6.7         2.0  virginica\n",
      "124          6.3         2.7          4.9         1.8  virginica\n",
      "125          6.7         3.3          5.7         2.1  virginica\n",
      "126          7.2         3.2          6.0         1.8  virginica\n",
      "127          6.2         2.8          4.8         1.8  virginica\n",
      "128          6.1         3.0          4.9         1.8  virginica\n",
      "129          6.4         2.8          5.6         2.1  virginica\n",
      "130          7.2         3.0          5.8         1.6  virginica\n",
      "131          7.4         2.8          6.1         1.9  virginica\n",
      "132          7.9         3.8          6.4         2.0  virginica\n",
      "133          6.4         2.8          5.6         2.2  virginica\n",
      "134          6.3         2.8          5.1         1.5  virginica\n",
      "135          6.1         2.6          5.6         1.4  virginica\n",
      "136          7.7         3.0          6.1         2.3  virginica\n",
      "137          6.3         3.4          5.6         2.4  virginica\n",
      "138          6.4         3.1          5.5         1.8  virginica\n",
      "139          6.0         3.0          4.8         1.8  virginica\n",
      "140          6.9         3.1          5.4         2.1  virginica\n",
      "141          6.7         3.1          5.6         2.4  virginica\n",
      "142          6.9         3.1          5.1         2.3  virginica\n",
      "143          5.8         2.7          5.1         1.9  virginica\n",
      "144          6.8         3.2          5.9         2.3  virginica\n",
      "145          6.7         3.3          5.7         2.5  virginica\n",
      "146          6.7         3.0          5.2         2.3  virginica\n",
      "147          6.3         2.5          5.0         1.9  virginica\n",
      "148          6.5         3.0          5.2         2.0  virginica\n",
      "149          6.2         3.4          5.4         2.3  virginica\n",
      "150          5.9         3.0          5.1         1.8  virginica\n"
     ]
    }
   ],
   "source": [
    "print(iris)"
   ]
  },
  {
   "cell_type": "code",
   "execution_count": 7,
   "metadata": {},
   "outputs": [
    {
     "name": "stdout",
     "output_type": "stream",
     "text": [
      "\u001b[38;5;246m# A tibble: 150 x 5\u001b[39m\n",
      "   Sepal.Length Sepal.Width Petal.Length Petal.Width Species\n",
      "          \u001b[3m\u001b[38;5;246m<dbl>\u001b[39m\u001b[23m       \u001b[3m\u001b[38;5;246m<dbl>\u001b[39m\u001b[23m        \u001b[3m\u001b[38;5;246m<dbl>\u001b[39m\u001b[23m       \u001b[3m\u001b[38;5;246m<dbl>\u001b[39m\u001b[23m \u001b[3m\u001b[38;5;246m<fct>\u001b[39m\u001b[23m  \n",
      "\u001b[38;5;250m 1\u001b[39m          5.1         3.5          1.4         0.2 setosa \n",
      "\u001b[38;5;250m 2\u001b[39m          4.9         3            1.4         0.2 setosa \n",
      "\u001b[38;5;250m 3\u001b[39m          4.7         3.2          1.3         0.2 setosa \n",
      "\u001b[38;5;250m 4\u001b[39m          4.6         3.1          1.5         0.2 setosa \n",
      "\u001b[38;5;250m 5\u001b[39m          5           3.6          1.4         0.2 setosa \n",
      "\u001b[38;5;250m 6\u001b[39m          5.4         3.9          1.7         0.4 setosa \n",
      "\u001b[38;5;250m 7\u001b[39m          4.6         3.4          1.4         0.3 setosa \n",
      "\u001b[38;5;250m 8\u001b[39m          5           3.4          1.5         0.2 setosa \n",
      "\u001b[38;5;250m 9\u001b[39m          4.4         2.9          1.4         0.2 setosa \n",
      "\u001b[38;5;250m10\u001b[39m          4.9         3.1          1.5         0.1 setosa \n",
      "\u001b[38;5;246m# … with 140 more rows\u001b[39m\n"
     ]
    }
   ],
   "source": [
    "print(iris_tibble) # only first 10 rowsm with type info, are printed"
   ]
  },
  {
   "cell_type": "markdown",
   "metadata": {},
   "source": [
    "You can control the default printing behavior in a couple of ways."
   ]
  },
  {
   "cell_type": "code",
   "execution_count": 8,
   "metadata": {},
   "outputs": [
    {
     "name": "stdout",
     "output_type": "stream",
     "text": [
      "\u001b[38;5;246m# A tibble: 234 x 11\u001b[39m\n",
      "   manufacturer model              displ  year   cyl trans      drv     cty\n",
      "   \u001b[3m\u001b[38;5;246m<chr>\u001b[39m\u001b[23m        \u001b[3m\u001b[38;5;246m<chr>\u001b[39m\u001b[23m              \u001b[3m\u001b[38;5;246m<dbl>\u001b[39m\u001b[23m \u001b[3m\u001b[38;5;246m<int>\u001b[39m\u001b[23m \u001b[3m\u001b[38;5;246m<int>\u001b[39m\u001b[23m \u001b[3m\u001b[38;5;246m<chr>\u001b[39m\u001b[23m      \u001b[3m\u001b[38;5;246m<chr>\u001b[39m\u001b[23m \u001b[3m\u001b[38;5;246m<int>\u001b[39m\u001b[23m\n",
      "\u001b[38;5;250m 1\u001b[39m audi         a4                   1.8  \u001b[4m1\u001b[24m999     4 auto(l5)   f        18\n",
      "\u001b[38;5;250m 2\u001b[39m audi         a4                   1.8  \u001b[4m1\u001b[24m999     4 manual(m5) f        21\n",
      "\u001b[38;5;250m 3\u001b[39m audi         a4                   2    \u001b[4m2\u001b[24m008     4 manual(m6) f        20\n",
      "\u001b[38;5;250m 4\u001b[39m audi         a4                   2    \u001b[4m2\u001b[24m008     4 auto(av)   f        21\n",
      "\u001b[38;5;250m 5\u001b[39m audi         a4                   2.8  \u001b[4m1\u001b[24m999     6 auto(l5)   f        16\n",
      "\u001b[38;5;250m 6\u001b[39m audi         a4                   2.8  \u001b[4m1\u001b[24m999     6 manual(m5) f        18\n",
      "\u001b[38;5;250m 7\u001b[39m audi         a4                   3.1  \u001b[4m2\u001b[24m008     6 auto(av)   f        18\n",
      "\u001b[38;5;250m 8\u001b[39m audi         a4 quattro           1.8  \u001b[4m1\u001b[24m999     4 manual(m5) 4        18\n",
      "\u001b[38;5;250m 9\u001b[39m audi         a4 quattro           1.8  \u001b[4m1\u001b[24m999     4 auto(l5)   4        16\n",
      "\u001b[38;5;250m10\u001b[39m audi         a4 quattro           2    \u001b[4m2\u001b[24m008     4 manual(m6) 4        20\n",
      "\u001b[38;5;250m11\u001b[39m audi         a4 quattro           2    \u001b[4m2\u001b[24m008     4 auto(s6)   4        19\n",
      "\u001b[38;5;250m12\u001b[39m audi         a4 quattro           2.8  \u001b[4m1\u001b[24m999     6 auto(l5)   4        15\n",
      "\u001b[38;5;250m13\u001b[39m audi         a4 quattro           2.8  \u001b[4m1\u001b[24m999     6 manual(m5) 4        17\n",
      "\u001b[38;5;250m14\u001b[39m audi         a4 quattro           3.1  \u001b[4m2\u001b[24m008     6 auto(s6)   4        17\n",
      "\u001b[38;5;250m15\u001b[39m audi         a4 quattro           3.1  \u001b[4m2\u001b[24m008     6 manual(m6) 4        15\n",
      "\u001b[38;5;250m16\u001b[39m audi         a6 quattro           2.8  \u001b[4m1\u001b[24m999     6 auto(l5)   4        15\n",
      "\u001b[38;5;250m17\u001b[39m audi         a6 quattro           3.1  \u001b[4m2\u001b[24m008     6 auto(s6)   4        17\n",
      "\u001b[38;5;250m18\u001b[39m audi         a6 quattro           4.2  \u001b[4m2\u001b[24m008     8 auto(s6)   4        16\n",
      "\u001b[38;5;250m19\u001b[39m chevrolet    c1500 suburban 2wd   5.3  \u001b[4m2\u001b[24m008     8 auto(l4)   r        14\n",
      "\u001b[38;5;250m20\u001b[39m chevrolet    c1500 suburban 2wd   5.3  \u001b[4m2\u001b[24m008     8 auto(l4)   r        11\n",
      "     hwy fl    class  \n",
      "   \u001b[3m\u001b[38;5;246m<int>\u001b[39m\u001b[23m \u001b[3m\u001b[38;5;246m<chr>\u001b[39m\u001b[23m \u001b[3m\u001b[38;5;246m<chr>\u001b[39m\u001b[23m  \n",
      "\u001b[38;5;250m 1\u001b[39m    29 p     compact\n",
      "\u001b[38;5;250m 2\u001b[39m    29 p     compact\n",
      "\u001b[38;5;250m 3\u001b[39m    31 p     compact\n",
      "\u001b[38;5;250m 4\u001b[39m    30 p     compact\n",
      "\u001b[38;5;250m 5\u001b[39m    26 p     compact\n",
      "\u001b[38;5;250m 6\u001b[39m    26 p     compact\n",
      "\u001b[38;5;250m 7\u001b[39m    27 p     compact\n",
      "\u001b[38;5;250m 8\u001b[39m    26 p     compact\n",
      "\u001b[38;5;250m 9\u001b[39m    25 p     compact\n",
      "\u001b[38;5;250m10\u001b[39m    28 p     compact\n",
      "\u001b[38;5;250m11\u001b[39m    27 p     compact\n",
      "\u001b[38;5;250m12\u001b[39m    25 p     compact\n",
      "\u001b[38;5;250m13\u001b[39m    25 p     compact\n",
      "\u001b[38;5;250m14\u001b[39m    25 p     compact\n",
      "\u001b[38;5;250m15\u001b[39m    25 p     compact\n",
      "\u001b[38;5;250m16\u001b[39m    24 p     midsize\n",
      "\u001b[38;5;250m17\u001b[39m    25 p     midsize\n",
      "\u001b[38;5;250m18\u001b[39m    23 p     midsize\n",
      "\u001b[38;5;250m19\u001b[39m    20 r     suv    \n",
      "\u001b[38;5;250m20\u001b[39m    15 e     suv    \n",
      "\u001b[38;5;246m# … with 214 more rows\u001b[39m\n"
     ]
    }
   ],
   "source": [
    "mpg %>%\n",
    "    print(n = 20, width = Inf)"
   ]
  },
  {
   "cell_type": "code",
   "execution_count": 9,
   "metadata": {},
   "outputs": [],
   "source": [
    "options(tibble.print_min = 20, tibble.print_max = 20, tibble.width = Inf)"
   ]
  },
  {
   "cell_type": "code",
   "execution_count": 10,
   "metadata": {},
   "outputs": [
    {
     "name": "stdout",
     "output_type": "stream",
     "text": [
      "\u001b[38;5;246m# A tibble: 234 x 11\u001b[39m\n",
      "   manufacturer model              displ  year   cyl trans      drv     cty\n",
      "   \u001b[3m\u001b[38;5;246m<chr>\u001b[39m\u001b[23m        \u001b[3m\u001b[38;5;246m<chr>\u001b[39m\u001b[23m              \u001b[3m\u001b[38;5;246m<dbl>\u001b[39m\u001b[23m \u001b[3m\u001b[38;5;246m<int>\u001b[39m\u001b[23m \u001b[3m\u001b[38;5;246m<int>\u001b[39m\u001b[23m \u001b[3m\u001b[38;5;246m<chr>\u001b[39m\u001b[23m      \u001b[3m\u001b[38;5;246m<chr>\u001b[39m\u001b[23m \u001b[3m\u001b[38;5;246m<int>\u001b[39m\u001b[23m\n",
      "\u001b[38;5;250m 1\u001b[39m audi         a4                   1.8  \u001b[4m1\u001b[24m999     4 auto(l5)   f        18\n",
      "\u001b[38;5;250m 2\u001b[39m audi         a4                   1.8  \u001b[4m1\u001b[24m999     4 manual(m5) f        21\n",
      "\u001b[38;5;250m 3\u001b[39m audi         a4                   2    \u001b[4m2\u001b[24m008     4 manual(m6) f        20\n",
      "\u001b[38;5;250m 4\u001b[39m audi         a4                   2    \u001b[4m2\u001b[24m008     4 auto(av)   f        21\n",
      "\u001b[38;5;250m 5\u001b[39m audi         a4                   2.8  \u001b[4m1\u001b[24m999     6 auto(l5)   f        16\n",
      "\u001b[38;5;250m 6\u001b[39m audi         a4                   2.8  \u001b[4m1\u001b[24m999     6 manual(m5) f        18\n",
      "\u001b[38;5;250m 7\u001b[39m audi         a4                   3.1  \u001b[4m2\u001b[24m008     6 auto(av)   f        18\n",
      "\u001b[38;5;250m 8\u001b[39m audi         a4 quattro           1.8  \u001b[4m1\u001b[24m999     4 manual(m5) 4        18\n",
      "\u001b[38;5;250m 9\u001b[39m audi         a4 quattro           1.8  \u001b[4m1\u001b[24m999     4 auto(l5)   4        16\n",
      "\u001b[38;5;250m10\u001b[39m audi         a4 quattro           2    \u001b[4m2\u001b[24m008     4 manual(m6) 4        20\n",
      "\u001b[38;5;250m11\u001b[39m audi         a4 quattro           2    \u001b[4m2\u001b[24m008     4 auto(s6)   4        19\n",
      "\u001b[38;5;250m12\u001b[39m audi         a4 quattro           2.8  \u001b[4m1\u001b[24m999     6 auto(l5)   4        15\n",
      "\u001b[38;5;250m13\u001b[39m audi         a4 quattro           2.8  \u001b[4m1\u001b[24m999     6 manual(m5) 4        17\n",
      "\u001b[38;5;250m14\u001b[39m audi         a4 quattro           3.1  \u001b[4m2\u001b[24m008     6 auto(s6)   4        17\n",
      "\u001b[38;5;250m15\u001b[39m audi         a4 quattro           3.1  \u001b[4m2\u001b[24m008     6 manual(m6) 4        15\n",
      "\u001b[38;5;250m16\u001b[39m audi         a6 quattro           2.8  \u001b[4m1\u001b[24m999     6 auto(l5)   4        15\n",
      "\u001b[38;5;250m17\u001b[39m audi         a6 quattro           3.1  \u001b[4m2\u001b[24m008     6 auto(s6)   4        17\n",
      "\u001b[38;5;250m18\u001b[39m audi         a6 quattro           4.2  \u001b[4m2\u001b[24m008     8 auto(s6)   4        16\n",
      "\u001b[38;5;250m19\u001b[39m chevrolet    c1500 suburban 2wd   5.3  \u001b[4m2\u001b[24m008     8 auto(l4)   r        14\n",
      "\u001b[38;5;250m20\u001b[39m chevrolet    c1500 suburban 2wd   5.3  \u001b[4m2\u001b[24m008     8 auto(l4)   r        11\n",
      "     hwy fl    class  \n",
      "   \u001b[3m\u001b[38;5;246m<int>\u001b[39m\u001b[23m \u001b[3m\u001b[38;5;246m<chr>\u001b[39m\u001b[23m \u001b[3m\u001b[38;5;246m<chr>\u001b[39m\u001b[23m  \n",
      "\u001b[38;5;250m 1\u001b[39m    29 p     compact\n",
      "\u001b[38;5;250m 2\u001b[39m    29 p     compact\n",
      "\u001b[38;5;250m 3\u001b[39m    31 p     compact\n",
      "\u001b[38;5;250m 4\u001b[39m    30 p     compact\n",
      "\u001b[38;5;250m 5\u001b[39m    26 p     compact\n",
      "\u001b[38;5;250m 6\u001b[39m    26 p     compact\n",
      "\u001b[38;5;250m 7\u001b[39m    27 p     compact\n",
      "\u001b[38;5;250m 8\u001b[39m    26 p     compact\n",
      "\u001b[38;5;250m 9\u001b[39m    25 p     compact\n",
      "\u001b[38;5;250m10\u001b[39m    28 p     compact\n",
      "\u001b[38;5;250m11\u001b[39m    27 p     compact\n",
      "\u001b[38;5;250m12\u001b[39m    25 p     compact\n",
      "\u001b[38;5;250m13\u001b[39m    25 p     compact\n",
      "\u001b[38;5;250m14\u001b[39m    25 p     compact\n",
      "\u001b[38;5;250m15\u001b[39m    25 p     compact\n",
      "\u001b[38;5;250m16\u001b[39m    24 p     midsize\n",
      "\u001b[38;5;250m17\u001b[39m    25 p     midsize\n",
      "\u001b[38;5;250m18\u001b[39m    23 p     midsize\n",
      "\u001b[38;5;250m19\u001b[39m    20 r     suv    \n",
      "\u001b[38;5;250m20\u001b[39m    15 e     suv    \n",
      "\u001b[38;5;246m# … with 214 more rows\u001b[39m\n"
     ]
    }
   ],
   "source": [
    "print(mpg)"
   ]
  },
  {
   "cell_type": "code",
   "execution_count": 11,
   "metadata": {},
   "outputs": [],
   "source": [
    "df <- tibble(\n",
    "    x = runif(10),\n",
    "    y = rnorm(10)\n",
    ")"
   ]
  },
  {
   "cell_type": "code",
   "execution_count": 12,
   "metadata": {},
   "outputs": [
    {
     "data": {
      "text/html": [
       "<ol class=list-inline>\n",
       "\t<li>0.441153706749901</li>\n",
       "\t<li>0.719037194503471</li>\n",
       "\t<li>0.015851890668273</li>\n",
       "\t<li>0.606982646510005</li>\n",
       "\t<li>0.165812409715727</li>\n",
       "\t<li>0.828922269167379</li>\n",
       "\t<li>0.060981210321188</li>\n",
       "\t<li>0.49363856180571</li>\n",
       "\t<li>0.0418239794671535</li>\n",
       "\t<li>0.818843845510855</li>\n",
       "</ol>\n"
      ],
      "text/latex": [
       "\\begin{enumerate*}\n",
       "\\item 0.441153706749901\n",
       "\\item 0.719037194503471\n",
       "\\item 0.015851890668273\n",
       "\\item 0.606982646510005\n",
       "\\item 0.165812409715727\n",
       "\\item 0.828922269167379\n",
       "\\item 0.060981210321188\n",
       "\\item 0.49363856180571\n",
       "\\item 0.0418239794671535\n",
       "\\item 0.818843845510855\n",
       "\\end{enumerate*}\n"
      ],
      "text/markdown": [
       "1. 0.441153706749901\n",
       "2. 0.719037194503471\n",
       "3. 0.015851890668273\n",
       "4. 0.606982646510005\n",
       "5. 0.165812409715727\n",
       "6. 0.828922269167379\n",
       "7. 0.060981210321188\n",
       "8. 0.49363856180571\n",
       "9. 0.0418239794671535\n",
       "10. 0.818843845510855\n",
       "\n",
       "\n"
      ],
      "text/plain": [
       " [1] 0.44115371 0.71903719 0.01585189 0.60698265 0.16581241 0.82892227\n",
       " [7] 0.06098121 0.49363856 0.04182398 0.81884385"
      ]
     },
     "metadata": {},
     "output_type": "display_data"
    }
   ],
   "source": [
    "df$x # extracts a variable, name only"
   ]
  },
  {
   "cell_type": "code",
   "execution_count": 13,
   "metadata": {},
   "outputs": [
    {
     "data": {
      "text/html": [
       "<ol class=list-inline>\n",
       "\t<li>0.441153706749901</li>\n",
       "\t<li>0.719037194503471</li>\n",
       "\t<li>0.015851890668273</li>\n",
       "\t<li>0.606982646510005</li>\n",
       "\t<li>0.165812409715727</li>\n",
       "\t<li>0.828922269167379</li>\n",
       "\t<li>0.060981210321188</li>\n",
       "\t<li>0.49363856180571</li>\n",
       "\t<li>0.0418239794671535</li>\n",
       "\t<li>0.818843845510855</li>\n",
       "</ol>\n"
      ],
      "text/latex": [
       "\\begin{enumerate*}\n",
       "\\item 0.441153706749901\n",
       "\\item 0.719037194503471\n",
       "\\item 0.015851890668273\n",
       "\\item 0.606982646510005\n",
       "\\item 0.165812409715727\n",
       "\\item 0.828922269167379\n",
       "\\item 0.060981210321188\n",
       "\\item 0.49363856180571\n",
       "\\item 0.0418239794671535\n",
       "\\item 0.818843845510855\n",
       "\\end{enumerate*}\n"
      ],
      "text/markdown": [
       "1. 0.441153706749901\n",
       "2. 0.719037194503471\n",
       "3. 0.015851890668273\n",
       "4. 0.606982646510005\n",
       "5. 0.165812409715727\n",
       "6. 0.828922269167379\n",
       "7. 0.060981210321188\n",
       "8. 0.49363856180571\n",
       "9. 0.0418239794671535\n",
       "10. 0.818843845510855\n",
       "\n",
       "\n"
      ],
      "text/plain": [
       " [1] 0.44115371 0.71903719 0.01585189 0.60698265 0.16581241 0.82892227\n",
       " [7] 0.06098121 0.49363856 0.04182398 0.81884385"
      ]
     },
     "metadata": {},
     "output_type": "display_data"
    }
   ],
   "source": [
    "df[['x']] # double brackets can extract variables using names"
   ]
  },
  {
   "cell_type": "code",
   "execution_count": 14,
   "metadata": {},
   "outputs": [
    {
     "data": {
      "text/html": [
       "<ol class=list-inline>\n",
       "\t<li>0.441153706749901</li>\n",
       "\t<li>0.719037194503471</li>\n",
       "\t<li>0.015851890668273</li>\n",
       "\t<li>0.606982646510005</li>\n",
       "\t<li>0.165812409715727</li>\n",
       "\t<li>0.828922269167379</li>\n",
       "\t<li>0.060981210321188</li>\n",
       "\t<li>0.49363856180571</li>\n",
       "\t<li>0.0418239794671535</li>\n",
       "\t<li>0.818843845510855</li>\n",
       "</ol>\n"
      ],
      "text/latex": [
       "\\begin{enumerate*}\n",
       "\\item 0.441153706749901\n",
       "\\item 0.719037194503471\n",
       "\\item 0.015851890668273\n",
       "\\item 0.606982646510005\n",
       "\\item 0.165812409715727\n",
       "\\item 0.828922269167379\n",
       "\\item 0.060981210321188\n",
       "\\item 0.49363856180571\n",
       "\\item 0.0418239794671535\n",
       "\\item 0.818843845510855\n",
       "\\end{enumerate*}\n"
      ],
      "text/markdown": [
       "1. 0.441153706749901\n",
       "2. 0.719037194503471\n",
       "3. 0.015851890668273\n",
       "4. 0.606982646510005\n",
       "5. 0.165812409715727\n",
       "6. 0.828922269167379\n",
       "7. 0.060981210321188\n",
       "8. 0.49363856180571\n",
       "9. 0.0418239794671535\n",
       "10. 0.818843845510855\n",
       "\n",
       "\n"
      ],
      "text/plain": [
       " [1] 0.44115371 0.71903719 0.01585189 0.60698265 0.16581241 0.82892227\n",
       " [7] 0.06098121 0.49363856 0.04182398 0.81884385"
      ]
     },
     "metadata": {},
     "output_type": "display_data"
    }
   ],
   "source": [
    "df[[1]] # or using positions"
   ]
  },
  {
   "cell_type": "markdown",
   "metadata": {},
   "source": [
    "To use `$` or `[[` in a pipe, have to use special placeholder: `.`"
   ]
  },
  {
   "cell_type": "code",
   "execution_count": 15,
   "metadata": {},
   "outputs": [
    {
     "data": {
      "text/html": [
       "<ol class=list-inline>\n",
       "\t<li>0.441153706749901</li>\n",
       "\t<li>0.719037194503471</li>\n",
       "\t<li>0.015851890668273</li>\n",
       "\t<li>0.606982646510005</li>\n",
       "\t<li>0.165812409715727</li>\n",
       "\t<li>0.828922269167379</li>\n",
       "\t<li>0.060981210321188</li>\n",
       "\t<li>0.49363856180571</li>\n",
       "\t<li>0.0418239794671535</li>\n",
       "\t<li>0.818843845510855</li>\n",
       "</ol>\n"
      ],
      "text/latex": [
       "\\begin{enumerate*}\n",
       "\\item 0.441153706749901\n",
       "\\item 0.719037194503471\n",
       "\\item 0.015851890668273\n",
       "\\item 0.606982646510005\n",
       "\\item 0.165812409715727\n",
       "\\item 0.828922269167379\n",
       "\\item 0.060981210321188\n",
       "\\item 0.49363856180571\n",
       "\\item 0.0418239794671535\n",
       "\\item 0.818843845510855\n",
       "\\end{enumerate*}\n"
      ],
      "text/markdown": [
       "1. 0.441153706749901\n",
       "2. 0.719037194503471\n",
       "3. 0.015851890668273\n",
       "4. 0.606982646510005\n",
       "5. 0.165812409715727\n",
       "6. 0.828922269167379\n",
       "7. 0.060981210321188\n",
       "8. 0.49363856180571\n",
       "9. 0.0418239794671535\n",
       "10. 0.818843845510855\n",
       "\n",
       "\n"
      ],
      "text/plain": [
       " [1] 0.44115371 0.71903719 0.01585189 0.60698265 0.16581241 0.82892227\n",
       " [7] 0.06098121 0.49363856 0.04182398 0.81884385"
      ]
     },
     "metadata": {},
     "output_type": "display_data"
    }
   ],
   "source": [
    "df %>% .$x"
   ]
  },
  {
   "cell_type": "code",
   "execution_count": 16,
   "metadata": {},
   "outputs": [
    {
     "data": {
      "text/html": [
       "<ol class=list-inline>\n",
       "\t<li>0.441153706749901</li>\n",
       "\t<li>0.719037194503471</li>\n",
       "\t<li>0.015851890668273</li>\n",
       "\t<li>0.606982646510005</li>\n",
       "\t<li>0.165812409715727</li>\n",
       "\t<li>0.828922269167379</li>\n",
       "\t<li>0.060981210321188</li>\n",
       "\t<li>0.49363856180571</li>\n",
       "\t<li>0.0418239794671535</li>\n",
       "\t<li>0.818843845510855</li>\n",
       "</ol>\n"
      ],
      "text/latex": [
       "\\begin{enumerate*}\n",
       "\\item 0.441153706749901\n",
       "\\item 0.719037194503471\n",
       "\\item 0.015851890668273\n",
       "\\item 0.606982646510005\n",
       "\\item 0.165812409715727\n",
       "\\item 0.828922269167379\n",
       "\\item 0.060981210321188\n",
       "\\item 0.49363856180571\n",
       "\\item 0.0418239794671535\n",
       "\\item 0.818843845510855\n",
       "\\end{enumerate*}\n"
      ],
      "text/markdown": [
       "1. 0.441153706749901\n",
       "2. 0.719037194503471\n",
       "3. 0.015851890668273\n",
       "4. 0.606982646510005\n",
       "5. 0.165812409715727\n",
       "6. 0.828922269167379\n",
       "7. 0.060981210321188\n",
       "8. 0.49363856180571\n",
       "9. 0.0418239794671535\n",
       "10. 0.818843845510855\n",
       "\n",
       "\n"
      ],
      "text/plain": [
       " [1] 0.44115371 0.71903719 0.01585189 0.60698265 0.16581241 0.82892227\n",
       " [7] 0.06098121 0.49363856 0.04182398 0.81884385"
      ]
     },
     "metadata": {},
     "output_type": "display_data"
    }
   ],
   "source": [
    "df %>% .[[1]]"
   ]
  },
  {
   "cell_type": "code",
   "execution_count": 17,
   "metadata": {},
   "outputs": [],
   "source": [
    "var_name = \"x\" # store variable name in a variable"
   ]
  },
  {
   "cell_type": "code",
   "execution_count": 18,
   "metadata": {},
   "outputs": [
    {
     "name": "stderr",
     "output_type": "stream",
     "text": [
      "Warning message:\n",
      "“Unknown or uninitialised column: 'var_name'.”\n"
     ]
    },
    {
     "data": {
      "text/plain": [
       "NULL"
      ]
     },
     "metadata": {},
     "output_type": "display_data"
    }
   ],
   "source": [
    "df$var_name # doesn't work"
   ]
  },
  {
   "cell_type": "code",
   "execution_count": 19,
   "metadata": {},
   "outputs": [
    {
     "data": {
      "text/html": [
       "<ol class=list-inline>\n",
       "\t<li>0.441153706749901</li>\n",
       "\t<li>0.719037194503471</li>\n",
       "\t<li>0.015851890668273</li>\n",
       "\t<li>0.606982646510005</li>\n",
       "\t<li>0.165812409715727</li>\n",
       "\t<li>0.828922269167379</li>\n",
       "\t<li>0.060981210321188</li>\n",
       "\t<li>0.49363856180571</li>\n",
       "\t<li>0.0418239794671535</li>\n",
       "\t<li>0.818843845510855</li>\n",
       "</ol>\n"
      ],
      "text/latex": [
       "\\begin{enumerate*}\n",
       "\\item 0.441153706749901\n",
       "\\item 0.719037194503471\n",
       "\\item 0.015851890668273\n",
       "\\item 0.606982646510005\n",
       "\\item 0.165812409715727\n",
       "\\item 0.828922269167379\n",
       "\\item 0.060981210321188\n",
       "\\item 0.49363856180571\n",
       "\\item 0.0418239794671535\n",
       "\\item 0.818843845510855\n",
       "\\end{enumerate*}\n"
      ],
      "text/markdown": [
       "1. 0.441153706749901\n",
       "2. 0.719037194503471\n",
       "3. 0.015851890668273\n",
       "4. 0.606982646510005\n",
       "5. 0.165812409715727\n",
       "6. 0.828922269167379\n",
       "7. 0.060981210321188\n",
       "8. 0.49363856180571\n",
       "9. 0.0418239794671535\n",
       "10. 0.818843845510855\n",
       "\n",
       "\n"
      ],
      "text/plain": [
       " [1] 0.44115371 0.71903719 0.01585189 0.60698265 0.16581241 0.82892227\n",
       " [7] 0.06098121 0.49363856 0.04182398 0.81884385"
      ]
     },
     "metadata": {},
     "output_type": "display_data"
    }
   ],
   "source": [
    "df[[var_name]]"
   ]
  },
  {
   "cell_type": "markdown",
   "metadata": {},
   "source": [
    "We can use backticks to create variable names that are not valid R variable names. E.g., numbers"
   ]
  },
  {
   "cell_type": "code",
   "execution_count": 20,
   "metadata": {},
   "outputs": [
    {
     "data": {
      "text/html": [
       "<table>\n",
       "<caption>A tibble: 10 × 3</caption>\n",
       "<thead>\n",
       "\t<tr><th scope=col>1</th><th scope=col>2</th><th scope=col>3</th></tr>\n",
       "\t<tr><th scope=col>&lt;int&gt;</th><th scope=col>&lt;dbl&gt;</th><th scope=col>&lt;dbl&gt;</th></tr>\n",
       "</thead>\n",
       "<tbody>\n",
       "\t<tr><td> 1</td><td>  1</td><td>   1</td></tr>\n",
       "\t<tr><td> 2</td><td>  4</td><td>   8</td></tr>\n",
       "\t<tr><td> 3</td><td>  9</td><td>  27</td></tr>\n",
       "\t<tr><td> 4</td><td> 16</td><td>  64</td></tr>\n",
       "\t<tr><td> 5</td><td> 25</td><td> 125</td></tr>\n",
       "\t<tr><td> 6</td><td> 36</td><td> 216</td></tr>\n",
       "\t<tr><td> 7</td><td> 49</td><td> 343</td></tr>\n",
       "\t<tr><td> 8</td><td> 64</td><td> 512</td></tr>\n",
       "\t<tr><td> 9</td><td> 81</td><td> 729</td></tr>\n",
       "\t<tr><td>10</td><td>100</td><td>1000</td></tr>\n",
       "</tbody>\n",
       "</table>\n"
      ],
      "text/latex": [
       "A tibble: 10 × 3\n",
       "\\begin{tabular}{lll}\n",
       " 1 & 2 & 3\\\\\n",
       " <int> & <dbl> & <dbl>\\\\\n",
       "\\hline\n",
       "\t  1 &   1 &    1\\\\\n",
       "\t  2 &   4 &    8\\\\\n",
       "\t  3 &   9 &   27\\\\\n",
       "\t  4 &  16 &   64\\\\\n",
       "\t  5 &  25 &  125\\\\\n",
       "\t  6 &  36 &  216\\\\\n",
       "\t  7 &  49 &  343\\\\\n",
       "\t  8 &  64 &  512\\\\\n",
       "\t  9 &  81 &  729\\\\\n",
       "\t 10 & 100 & 1000\\\\\n",
       "\\end{tabular}\n"
      ],
      "text/markdown": [
       "\n",
       "A tibble: 10 × 3\n",
       "\n",
       "| 1 &lt;int&gt; | 2 &lt;dbl&gt; | 3 &lt;dbl&gt; |\n",
       "|---|---|---|\n",
       "|  1 |   1 |    1 |\n",
       "|  2 |   4 |    8 |\n",
       "|  3 |   9 |   27 |\n",
       "|  4 |  16 |   64 |\n",
       "|  5 |  25 |  125 |\n",
       "|  6 |  36 |  216 |\n",
       "|  7 |  49 |  343 |\n",
       "|  8 |  64 |  512 |\n",
       "|  9 |  81 |  729 |\n",
       "| 10 | 100 | 1000 |\n",
       "\n"
      ],
      "text/plain": [
       "   1  2   3   \n",
       "1   1   1    1\n",
       "2   2   4    8\n",
       "3   3   9   27\n",
       "4   4  16   64\n",
       "5   5  25  125\n",
       "6   6  36  216\n",
       "7   7  49  343\n",
       "8   8  64  512\n",
       "9   9  81  729\n",
       "10 10 100 1000"
      ]
     },
     "metadata": {},
     "output_type": "display_data"
    }
   ],
   "source": [
    "(cubes <- tibble(\n",
    "    `1` = 1:10,\n",
    "    `2` = `1`^2,\n",
    "    `3` = `1`^3\n",
    "))"
   ]
  },
  {
   "cell_type": "code",
   "execution_count": 21,
   "metadata": {},
   "outputs": [
    {
     "data": {
      "text/html": [
       "<table>\n",
       "<caption>A tibble: 10 × 3</caption>\n",
       "<thead>\n",
       "\t<tr><th scope=col>x</th><th scope=col>squares</th><th scope=col>cubes</th></tr>\n",
       "\t<tr><th scope=col>&lt;int&gt;</th><th scope=col>&lt;dbl&gt;</th><th scope=col>&lt;dbl&gt;</th></tr>\n",
       "</thead>\n",
       "<tbody>\n",
       "\t<tr><td> 1</td><td>  1</td><td>   1</td></tr>\n",
       "\t<tr><td> 2</td><td>  4</td><td>   8</td></tr>\n",
       "\t<tr><td> 3</td><td>  9</td><td>  27</td></tr>\n",
       "\t<tr><td> 4</td><td> 16</td><td>  64</td></tr>\n",
       "\t<tr><td> 5</td><td> 25</td><td> 125</td></tr>\n",
       "\t<tr><td> 6</td><td> 36</td><td> 216</td></tr>\n",
       "\t<tr><td> 7</td><td> 49</td><td> 343</td></tr>\n",
       "\t<tr><td> 8</td><td> 64</td><td> 512</td></tr>\n",
       "\t<tr><td> 9</td><td> 81</td><td> 729</td></tr>\n",
       "\t<tr><td>10</td><td>100</td><td>1000</td></tr>\n",
       "</tbody>\n",
       "</table>\n"
      ],
      "text/latex": [
       "A tibble: 10 × 3\n",
       "\\begin{tabular}{lll}\n",
       " x & squares & cubes\\\\\n",
       " <int> & <dbl> & <dbl>\\\\\n",
       "\\hline\n",
       "\t  1 &   1 &    1\\\\\n",
       "\t  2 &   4 &    8\\\\\n",
       "\t  3 &   9 &   27\\\\\n",
       "\t  4 &  16 &   64\\\\\n",
       "\t  5 &  25 &  125\\\\\n",
       "\t  6 &  36 &  216\\\\\n",
       "\t  7 &  49 &  343\\\\\n",
       "\t  8 &  64 &  512\\\\\n",
       "\t  9 &  81 &  729\\\\\n",
       "\t 10 & 100 & 1000\\\\\n",
       "\\end{tabular}\n"
      ],
      "text/markdown": [
       "\n",
       "A tibble: 10 × 3\n",
       "\n",
       "| x &lt;int&gt; | squares &lt;dbl&gt; | cubes &lt;dbl&gt; |\n",
       "|---|---|---|\n",
       "|  1 |   1 |    1 |\n",
       "|  2 |   4 |    8 |\n",
       "|  3 |   9 |   27 |\n",
       "|  4 |  16 |   64 |\n",
       "|  5 |  25 |  125 |\n",
       "|  6 |  36 |  216 |\n",
       "|  7 |  49 |  343 |\n",
       "|  8 |  64 |  512 |\n",
       "|  9 |  81 |  729 |\n",
       "| 10 | 100 | 1000 |\n",
       "\n"
      ],
      "text/plain": [
       "   x  squares cubes\n",
       "1   1   1        1 \n",
       "2   2   4        8 \n",
       "3   3   9       27 \n",
       "4   4  16       64 \n",
       "5   5  25      125 \n",
       "6   6  36      216 \n",
       "7   7  49      343 \n",
       "8   8  64      512 \n",
       "9   9  81      729 \n",
       "10 10 100     1000 "
      ]
     },
     "metadata": {},
     "output_type": "display_data"
    }
   ],
   "source": [
    "rename(cubes, x = `1`, squares = `2`, cubes = `3`)"
   ]
  },
  {
   "cell_type": "markdown",
   "metadata": {},
   "source": [
    "# Data import"
   ]
  },
  {
   "cell_type": "markdown",
   "metadata": {
    "collapsed": true
   },
   "source": [
    "We will focus on the `read_csv()` function but there are other ones available:\n",
    "\n",
    "* `read_csv2()`: uses semicolon as delimiter\n",
    "* `read_tsv()`: uses tab as delimiter\n",
    "* `read_delim()`: can use any delimiter\n",
    "* `read_fwf()`: to read fix width files\n",
    "* `read_table()`: to read fixed wdith files where columns are separated by white space"
   ]
  },
  {
   "cell_type": "code",
   "execution_count": 22,
   "metadata": {},
   "outputs": [
    {
     "name": "stderr",
     "output_type": "stream",
     "text": [
      "Parsed with column specification:\n",
      "cols(\n",
      "  earn = \u001b[32mcol_double()\u001b[39m,\n",
      "  height = \u001b[32mcol_double()\u001b[39m,\n",
      "  sex = \u001b[31mcol_character()\u001b[39m,\n",
      "  ed = \u001b[32mcol_double()\u001b[39m,\n",
      "  age = \u001b[32mcol_double()\u001b[39m,\n",
      "  race = \u001b[31mcol_character()\u001b[39m\n",
      ")\n",
      "\n"
     ]
    },
    {
     "data": {
      "text/html": [
       "<table>\n",
       "<caption>A spec_tbl_df: 1192 × 6</caption>\n",
       "<thead>\n",
       "\t<tr><th scope=col>earn</th><th scope=col>height</th><th scope=col>sex</th><th scope=col>ed</th><th scope=col>age</th><th scope=col>race</th></tr>\n",
       "\t<tr><th scope=col>&lt;dbl&gt;</th><th scope=col>&lt;dbl&gt;</th><th scope=col>&lt;chr&gt;</th><th scope=col>&lt;dbl&gt;</th><th scope=col>&lt;dbl&gt;</th><th scope=col>&lt;chr&gt;</th></tr>\n",
       "</thead>\n",
       "<tbody>\n",
       "\t<tr><td>50000</td><td>74.42444</td><td>male  </td><td>16</td><td>45</td><td>white   </td></tr>\n",
       "\t<tr><td>60000</td><td>65.53754</td><td>female</td><td>16</td><td>58</td><td>white   </td></tr>\n",
       "\t<tr><td>30000</td><td>63.62920</td><td>female</td><td>16</td><td>29</td><td>white   </td></tr>\n",
       "\t<tr><td>50000</td><td>63.10856</td><td>female</td><td>16</td><td>91</td><td>other   </td></tr>\n",
       "\t<tr><td>51000</td><td>63.40248</td><td>female</td><td>17</td><td>39</td><td>white   </td></tr>\n",
       "\t<tr><td> 9000</td><td>64.39951</td><td>female</td><td>15</td><td>26</td><td>white   </td></tr>\n",
       "\t<tr><td>29000</td><td>61.65633</td><td>female</td><td>12</td><td>49</td><td>white   </td></tr>\n",
       "\t<tr><td>32000</td><td>72.69854</td><td>male  </td><td>17</td><td>46</td><td>white   </td></tr>\n",
       "\t<tr><td> 2000</td><td>72.03947</td><td>male  </td><td>15</td><td>21</td><td>hispanic</td></tr>\n",
       "\t<tr><td>27000</td><td>72.23493</td><td>male  </td><td>12</td><td>26</td><td>white   </td></tr>\n",
       "\t<tr><td> 6530</td><td>69.51215</td><td>male  </td><td>16</td><td>65</td><td>white   </td></tr>\n",
       "\t<tr><td>30000</td><td>68.03161</td><td>male  </td><td>11</td><td>34</td><td>white   </td></tr>\n",
       "\t<tr><td>12000</td><td>67.55693</td><td>male  </td><td>12</td><td>27</td><td>white   </td></tr>\n",
       "\t<tr><td>12000</td><td>65.43059</td><td>female</td><td>12</td><td>51</td><td>white   </td></tr>\n",
       "\t<tr><td>22000</td><td>65.66285</td><td>female</td><td>16</td><td>35</td><td>white   </td></tr>\n",
       "\t<tr><td>17000</td><td>67.75877</td><td>male  </td><td>12</td><td>58</td><td>white   </td></tr>\n",
       "\t<tr><td>40000</td><td>68.35184</td><td>female</td><td>14</td><td>29</td><td>white   </td></tr>\n",
       "\t<tr><td>44000</td><td>69.60957</td><td>male  </td><td>13</td><td>44</td><td>white   </td></tr>\n",
       "\t<tr><td> 7000</td><td>64.18457</td><td>female</td><td>12</td><td>55</td><td>black   </td></tr>\n",
       "\t<tr><td>53000</td><td>73.07461</td><td>male  </td><td>13</td><td>35</td><td>black   </td></tr>\n",
       "\t<tr><td> 5000</td><td>62.37553</td><td>female</td><td>13</td><td>51</td><td>white   </td></tr>\n",
       "\t<tr><td>14000</td><td>63.02393</td><td>female</td><td>14</td><td>21</td><td>white   </td></tr>\n",
       "\t<tr><td> 5500</td><td>67.22990</td><td>male  </td><td>14</td><td>22</td><td>white   </td></tr>\n",
       "\t<tr><td>40000</td><td>65.55111</td><td>female</td><td>12</td><td>41</td><td>white   </td></tr>\n",
       "\t<tr><td>34000</td><td>72.07965</td><td>male  </td><td>12</td><td>45</td><td>white   </td></tr>\n",
       "\t<tr><td>10000</td><td>63.09113</td><td>female</td><td>12</td><td>35</td><td>black   </td></tr>\n",
       "\t<tr><td>27000</td><td>64.32355</td><td>female</td><td>16</td><td>60</td><td>white   </td></tr>\n",
       "\t<tr><td>50000</td><td>71.64285</td><td>male  </td><td>16</td><td>38</td><td>white   </td></tr>\n",
       "\t<tr><td>41000</td><td>76.79309</td><td>male  </td><td>16</td><td>33</td><td>white   </td></tr>\n",
       "\t<tr><td>15000</td><td>63.89391</td><td>female</td><td>14</td><td>25</td><td>white   </td></tr>\n",
       "\t<tr><td>⋮</td><td>⋮</td><td>⋮</td><td>⋮</td><td>⋮</td><td>⋮</td></tr>\n",
       "\t<tr><td> 20000</td><td>66.01494</td><td>female</td><td>14</td><td>43</td><td>white   </td></tr>\n",
       "\t<tr><td> 40000</td><td>65.76547</td><td>female</td><td>16</td><td>59</td><td>white   </td></tr>\n",
       "\t<tr><td> 10000</td><td>66.74771</td><td>male  </td><td>12</td><td>77</td><td>white   </td></tr>\n",
       "\t<tr><td> 16000</td><td>66.14089</td><td>male  </td><td>12</td><td>37</td><td>white   </td></tr>\n",
       "\t<tr><td> 11000</td><td>63.30037</td><td>female</td><td> 9</td><td>51</td><td>white   </td></tr>\n",
       "\t<tr><td> 16000</td><td>67.61928</td><td>female</td><td>13</td><td>43</td><td>white   </td></tr>\n",
       "\t<tr><td> 18000</td><td>70.42987</td><td>male  </td><td>12</td><td>27</td><td>white   </td></tr>\n",
       "\t<tr><td> 12000</td><td>62.62478</td><td>female</td><td>16</td><td>26</td><td>white   </td></tr>\n",
       "\t<tr><td>  4000</td><td>69.98806</td><td>male  </td><td>14</td><td>21</td><td>black   </td></tr>\n",
       "\t<tr><td> 60000</td><td>71.81932</td><td>male  </td><td>12</td><td>45</td><td>white   </td></tr>\n",
       "\t<tr><td> 43000</td><td>74.77192</td><td>male  </td><td>17</td><td>40</td><td>white   </td></tr>\n",
       "\t<tr><td> 31000</td><td>61.96560</td><td>female</td><td>14</td><td>39</td><td>white   </td></tr>\n",
       "\t<tr><td> 50000</td><td>68.21042</td><td>female</td><td>17</td><td>39</td><td>white   </td></tr>\n",
       "\t<tr><td> 27000</td><td>68.04935</td><td>female</td><td>14</td><td>29</td><td>white   </td></tr>\n",
       "\t<tr><td> 30000</td><td>70.49075</td><td>male  </td><td>17</td><td>56</td><td>white   </td></tr>\n",
       "\t<tr><td> 12000</td><td>73.38321</td><td>male  </td><td>13</td><td>21</td><td>black   </td></tr>\n",
       "\t<tr><td> 20000</td><td>62.13713</td><td>female</td><td>17</td><td>30</td><td>white   </td></tr>\n",
       "\t<tr><td> 15000</td><td>59.77629</td><td>female</td><td>12</td><td>76</td><td>black   </td></tr>\n",
       "\t<tr><td> 25000</td><td>64.15965</td><td>female</td><td>16</td><td>37</td><td>other   </td></tr>\n",
       "\t<tr><td>  2000</td><td>60.19710</td><td>female</td><td> 6</td><td>67</td><td>hispanic</td></tr>\n",
       "\t<tr><td>  3000</td><td>73.26521</td><td>male  </td><td>15</td><td>20</td><td>hispanic</td></tr>\n",
       "\t<tr><td>110000</td><td>66.31204</td><td>female</td><td>18</td><td>48</td><td>other   </td></tr>\n",
       "\t<tr><td> 55000</td><td>68.99589</td><td>male  </td><td>18</td><td>71</td><td>white   </td></tr>\n",
       "\t<tr><td> 58000</td><td>70.34337</td><td>male  </td><td>18</td><td>53</td><td>white   </td></tr>\n",
       "\t<tr><td> 10000</td><td>70.05628</td><td>female</td><td>16</td><td>36</td><td>white   </td></tr>\n",
       "\t<tr><td> 19000</td><td>72.16573</td><td>male  </td><td>12</td><td>29</td><td>white   </td></tr>\n",
       "\t<tr><td> 15000</td><td>61.13580</td><td>female</td><td>18</td><td>82</td><td>white   </td></tr>\n",
       "\t<tr><td>  8000</td><td>63.66416</td><td>female</td><td>12</td><td>33</td><td>white   </td></tr>\n",
       "\t<tr><td> 60000</td><td>71.92584</td><td>male  </td><td>12</td><td>50</td><td>white   </td></tr>\n",
       "\t<tr><td>  6000</td><td>68.36849</td><td>male  </td><td>12</td><td>27</td><td>white   </td></tr>\n",
       "</tbody>\n",
       "</table>\n"
      ],
      "text/latex": [
       "A spec\\_tbl\\_df: 1192 × 6\n",
       "\\begin{tabular}{llllll}\n",
       " earn & height & sex & ed & age & race\\\\\n",
       " <dbl> & <dbl> & <chr> & <dbl> & <dbl> & <chr>\\\\\n",
       "\\hline\n",
       "\t 50000 & 74.42444 & male   & 16 & 45 & white   \\\\\n",
       "\t 60000 & 65.53754 & female & 16 & 58 & white   \\\\\n",
       "\t 30000 & 63.62920 & female & 16 & 29 & white   \\\\\n",
       "\t 50000 & 63.10856 & female & 16 & 91 & other   \\\\\n",
       "\t 51000 & 63.40248 & female & 17 & 39 & white   \\\\\n",
       "\t  9000 & 64.39951 & female & 15 & 26 & white   \\\\\n",
       "\t 29000 & 61.65633 & female & 12 & 49 & white   \\\\\n",
       "\t 32000 & 72.69854 & male   & 17 & 46 & white   \\\\\n",
       "\t  2000 & 72.03947 & male   & 15 & 21 & hispanic\\\\\n",
       "\t 27000 & 72.23493 & male   & 12 & 26 & white   \\\\\n",
       "\t  6530 & 69.51215 & male   & 16 & 65 & white   \\\\\n",
       "\t 30000 & 68.03161 & male   & 11 & 34 & white   \\\\\n",
       "\t 12000 & 67.55693 & male   & 12 & 27 & white   \\\\\n",
       "\t 12000 & 65.43059 & female & 12 & 51 & white   \\\\\n",
       "\t 22000 & 65.66285 & female & 16 & 35 & white   \\\\\n",
       "\t 17000 & 67.75877 & male   & 12 & 58 & white   \\\\\n",
       "\t 40000 & 68.35184 & female & 14 & 29 & white   \\\\\n",
       "\t 44000 & 69.60957 & male   & 13 & 44 & white   \\\\\n",
       "\t  7000 & 64.18457 & female & 12 & 55 & black   \\\\\n",
       "\t 53000 & 73.07461 & male   & 13 & 35 & black   \\\\\n",
       "\t  5000 & 62.37553 & female & 13 & 51 & white   \\\\\n",
       "\t 14000 & 63.02393 & female & 14 & 21 & white   \\\\\n",
       "\t  5500 & 67.22990 & male   & 14 & 22 & white   \\\\\n",
       "\t 40000 & 65.55111 & female & 12 & 41 & white   \\\\\n",
       "\t 34000 & 72.07965 & male   & 12 & 45 & white   \\\\\n",
       "\t 10000 & 63.09113 & female & 12 & 35 & black   \\\\\n",
       "\t 27000 & 64.32355 & female & 16 & 60 & white   \\\\\n",
       "\t 50000 & 71.64285 & male   & 16 & 38 & white   \\\\\n",
       "\t 41000 & 76.79309 & male   & 16 & 33 & white   \\\\\n",
       "\t 15000 & 63.89391 & female & 14 & 25 & white   \\\\\n",
       "\t ⋮ & ⋮ & ⋮ & ⋮ & ⋮ & ⋮\\\\\n",
       "\t  20000 & 66.01494 & female & 14 & 43 & white   \\\\\n",
       "\t  40000 & 65.76547 & female & 16 & 59 & white   \\\\\n",
       "\t  10000 & 66.74771 & male   & 12 & 77 & white   \\\\\n",
       "\t  16000 & 66.14089 & male   & 12 & 37 & white   \\\\\n",
       "\t  11000 & 63.30037 & female &  9 & 51 & white   \\\\\n",
       "\t  16000 & 67.61928 & female & 13 & 43 & white   \\\\\n",
       "\t  18000 & 70.42987 & male   & 12 & 27 & white   \\\\\n",
       "\t  12000 & 62.62478 & female & 16 & 26 & white   \\\\\n",
       "\t   4000 & 69.98806 & male   & 14 & 21 & black   \\\\\n",
       "\t  60000 & 71.81932 & male   & 12 & 45 & white   \\\\\n",
       "\t  43000 & 74.77192 & male   & 17 & 40 & white   \\\\\n",
       "\t  31000 & 61.96560 & female & 14 & 39 & white   \\\\\n",
       "\t  50000 & 68.21042 & female & 17 & 39 & white   \\\\\n",
       "\t  27000 & 68.04935 & female & 14 & 29 & white   \\\\\n",
       "\t  30000 & 70.49075 & male   & 17 & 56 & white   \\\\\n",
       "\t  12000 & 73.38321 & male   & 13 & 21 & black   \\\\\n",
       "\t  20000 & 62.13713 & female & 17 & 30 & white   \\\\\n",
       "\t  15000 & 59.77629 & female & 12 & 76 & black   \\\\\n",
       "\t  25000 & 64.15965 & female & 16 & 37 & other   \\\\\n",
       "\t   2000 & 60.19710 & female &  6 & 67 & hispanic\\\\\n",
       "\t   3000 & 73.26521 & male   & 15 & 20 & hispanic\\\\\n",
       "\t 110000 & 66.31204 & female & 18 & 48 & other   \\\\\n",
       "\t  55000 & 68.99589 & male   & 18 & 71 & white   \\\\\n",
       "\t  58000 & 70.34337 & male   & 18 & 53 & white   \\\\\n",
       "\t  10000 & 70.05628 & female & 16 & 36 & white   \\\\\n",
       "\t  19000 & 72.16573 & male   & 12 & 29 & white   \\\\\n",
       "\t  15000 & 61.13580 & female & 18 & 82 & white   \\\\\n",
       "\t   8000 & 63.66416 & female & 12 & 33 & white   \\\\\n",
       "\t  60000 & 71.92584 & male   & 12 & 50 & white   \\\\\n",
       "\t   6000 & 68.36849 & male   & 12 & 27 & white   \\\\\n",
       "\\end{tabular}\n"
      ],
      "text/markdown": [
       "\n",
       "A spec_tbl_df: 1192 × 6\n",
       "\n",
       "| earn &lt;dbl&gt; | height &lt;dbl&gt; | sex &lt;chr&gt; | ed &lt;dbl&gt; | age &lt;dbl&gt; | race &lt;chr&gt; |\n",
       "|---|---|---|---|---|---|\n",
       "| 50000 | 74.42444 | male   | 16 | 45 | white    |\n",
       "| 60000 | 65.53754 | female | 16 | 58 | white    |\n",
       "| 30000 | 63.62920 | female | 16 | 29 | white    |\n",
       "| 50000 | 63.10856 | female | 16 | 91 | other    |\n",
       "| 51000 | 63.40248 | female | 17 | 39 | white    |\n",
       "|  9000 | 64.39951 | female | 15 | 26 | white    |\n",
       "| 29000 | 61.65633 | female | 12 | 49 | white    |\n",
       "| 32000 | 72.69854 | male   | 17 | 46 | white    |\n",
       "|  2000 | 72.03947 | male   | 15 | 21 | hispanic |\n",
       "| 27000 | 72.23493 | male   | 12 | 26 | white    |\n",
       "|  6530 | 69.51215 | male   | 16 | 65 | white    |\n",
       "| 30000 | 68.03161 | male   | 11 | 34 | white    |\n",
       "| 12000 | 67.55693 | male   | 12 | 27 | white    |\n",
       "| 12000 | 65.43059 | female | 12 | 51 | white    |\n",
       "| 22000 | 65.66285 | female | 16 | 35 | white    |\n",
       "| 17000 | 67.75877 | male   | 12 | 58 | white    |\n",
       "| 40000 | 68.35184 | female | 14 | 29 | white    |\n",
       "| 44000 | 69.60957 | male   | 13 | 44 | white    |\n",
       "|  7000 | 64.18457 | female | 12 | 55 | black    |\n",
       "| 53000 | 73.07461 | male   | 13 | 35 | black    |\n",
       "|  5000 | 62.37553 | female | 13 | 51 | white    |\n",
       "| 14000 | 63.02393 | female | 14 | 21 | white    |\n",
       "|  5500 | 67.22990 | male   | 14 | 22 | white    |\n",
       "| 40000 | 65.55111 | female | 12 | 41 | white    |\n",
       "| 34000 | 72.07965 | male   | 12 | 45 | white    |\n",
       "| 10000 | 63.09113 | female | 12 | 35 | black    |\n",
       "| 27000 | 64.32355 | female | 16 | 60 | white    |\n",
       "| 50000 | 71.64285 | male   | 16 | 38 | white    |\n",
       "| 41000 | 76.79309 | male   | 16 | 33 | white    |\n",
       "| 15000 | 63.89391 | female | 14 | 25 | white    |\n",
       "| ⋮ | ⋮ | ⋮ | ⋮ | ⋮ | ⋮ |\n",
       "|  20000 | 66.01494 | female | 14 | 43 | white    |\n",
       "|  40000 | 65.76547 | female | 16 | 59 | white    |\n",
       "|  10000 | 66.74771 | male   | 12 | 77 | white    |\n",
       "|  16000 | 66.14089 | male   | 12 | 37 | white    |\n",
       "|  11000 | 63.30037 | female |  9 | 51 | white    |\n",
       "|  16000 | 67.61928 | female | 13 | 43 | white    |\n",
       "|  18000 | 70.42987 | male   | 12 | 27 | white    |\n",
       "|  12000 | 62.62478 | female | 16 | 26 | white    |\n",
       "|   4000 | 69.98806 | male   | 14 | 21 | black    |\n",
       "|  60000 | 71.81932 | male   | 12 | 45 | white    |\n",
       "|  43000 | 74.77192 | male   | 17 | 40 | white    |\n",
       "|  31000 | 61.96560 | female | 14 | 39 | white    |\n",
       "|  50000 | 68.21042 | female | 17 | 39 | white    |\n",
       "|  27000 | 68.04935 | female | 14 | 29 | white    |\n",
       "|  30000 | 70.49075 | male   | 17 | 56 | white    |\n",
       "|  12000 | 73.38321 | male   | 13 | 21 | black    |\n",
       "|  20000 | 62.13713 | female | 17 | 30 | white    |\n",
       "|  15000 | 59.77629 | female | 12 | 76 | black    |\n",
       "|  25000 | 64.15965 | female | 16 | 37 | other    |\n",
       "|   2000 | 60.19710 | female |  6 | 67 | hispanic |\n",
       "|   3000 | 73.26521 | male   | 15 | 20 | hispanic |\n",
       "| 110000 | 66.31204 | female | 18 | 48 | other    |\n",
       "|  55000 | 68.99589 | male   | 18 | 71 | white    |\n",
       "|  58000 | 70.34337 | male   | 18 | 53 | white    |\n",
       "|  10000 | 70.05628 | female | 16 | 36 | white    |\n",
       "|  19000 | 72.16573 | male   | 12 | 29 | white    |\n",
       "|  15000 | 61.13580 | female | 18 | 82 | white    |\n",
       "|   8000 | 63.66416 | female | 12 | 33 | white    |\n",
       "|  60000 | 71.92584 | male   | 12 | 50 | white    |\n",
       "|   6000 | 68.36849 | male   | 12 | 27 | white    |\n",
       "\n"
      ],
      "text/plain": [
       "     earn   height   sex    ed age race    \n",
       "1    50000  74.42444 male   16 45  white   \n",
       "2    60000  65.53754 female 16 58  white   \n",
       "3    30000  63.62920 female 16 29  white   \n",
       "4    50000  63.10856 female 16 91  other   \n",
       "5    51000  63.40248 female 17 39  white   \n",
       "6     9000  64.39951 female 15 26  white   \n",
       "7    29000  61.65633 female 12 49  white   \n",
       "8    32000  72.69854 male   17 46  white   \n",
       "9     2000  72.03947 male   15 21  hispanic\n",
       "10   27000  72.23493 male   12 26  white   \n",
       "11    6530  69.51215 male   16 65  white   \n",
       "12   30000  68.03161 male   11 34  white   \n",
       "13   12000  67.55693 male   12 27  white   \n",
       "14   12000  65.43059 female 12 51  white   \n",
       "15   22000  65.66285 female 16 35  white   \n",
       "16   17000  67.75877 male   12 58  white   \n",
       "17   40000  68.35184 female 14 29  white   \n",
       "18   44000  69.60957 male   13 44  white   \n",
       "19    7000  64.18457 female 12 55  black   \n",
       "20   53000  73.07461 male   13 35  black   \n",
       "21    5000  62.37553 female 13 51  white   \n",
       "22   14000  63.02393 female 14 21  white   \n",
       "23    5500  67.22990 male   14 22  white   \n",
       "24   40000  65.55111 female 12 41  white   \n",
       "25   34000  72.07965 male   12 45  white   \n",
       "26   10000  63.09113 female 12 35  black   \n",
       "27   27000  64.32355 female 16 60  white   \n",
       "28   50000  71.64285 male   16 38  white   \n",
       "29   41000  76.79309 male   16 33  white   \n",
       "30   15000  63.89391 female 14 25  white   \n",
       "⋮    ⋮      ⋮        ⋮      ⋮  ⋮   ⋮       \n",
       "1163  20000 66.01494 female 14 43  white   \n",
       "1164  40000 65.76547 female 16 59  white   \n",
       "1165  10000 66.74771 male   12 77  white   \n",
       "1166  16000 66.14089 male   12 37  white   \n",
       "1167  11000 63.30037 female  9 51  white   \n",
       "1168  16000 67.61928 female 13 43  white   \n",
       "1169  18000 70.42987 male   12 27  white   \n",
       "1170  12000 62.62478 female 16 26  white   \n",
       "1171   4000 69.98806 male   14 21  black   \n",
       "1172  60000 71.81932 male   12 45  white   \n",
       "1173  43000 74.77192 male   17 40  white   \n",
       "1174  31000 61.96560 female 14 39  white   \n",
       "1175  50000 68.21042 female 17 39  white   \n",
       "1176  27000 68.04935 female 14 29  white   \n",
       "1177  30000 70.49075 male   17 56  white   \n",
       "1178  12000 73.38321 male   13 21  black   \n",
       "1179  20000 62.13713 female 17 30  white   \n",
       "1180  15000 59.77629 female 12 76  black   \n",
       "1181  25000 64.15965 female 16 37  other   \n",
       "1182   2000 60.19710 female  6 67  hispanic\n",
       "1183   3000 73.26521 male   15 20  hispanic\n",
       "1184 110000 66.31204 female 18 48  other   \n",
       "1185  55000 68.99589 male   18 71  white   \n",
       "1186  58000 70.34337 male   18 53  white   \n",
       "1187  10000 70.05628 female 16 36  white   \n",
       "1188  19000 72.16573 male   12 29  white   \n",
       "1189  15000 61.13580 female 18 82  white   \n",
       "1190   8000 63.66416 female 12 33  white   \n",
       "1191  60000 71.92584 male   12 50  white   \n",
       "1192   6000 68.36849 male   12 27  white   "
      ]
     },
     "metadata": {},
     "output_type": "display_data"
    }
   ],
   "source": [
    "(heights <- read_csv(\"https://raw.githubusercontent.com/ambujtewari/stats306-fall2017/master/data/heights.csv\"))"
   ]
  },
  {
   "cell_type": "markdown",
   "metadata": {},
   "source": [
    "To create short examples illustrating read_csv's behavior, we can specify the contents of a csv file inline."
   ]
  },
  {
   "cell_type": "code",
   "execution_count": 23,
   "metadata": {},
   "outputs": [
    {
     "data": {
      "text/html": [
       "<table>\n",
       "<caption>A spec_tbl_df: 2 × 3</caption>\n",
       "<thead>\n",
       "\t<tr><th scope=col>a</th><th scope=col>b</th><th scope=col>c</th></tr>\n",
       "\t<tr><th scope=col>&lt;dbl&gt;</th><th scope=col>&lt;dbl&gt;</th><th scope=col>&lt;dbl&gt;</th></tr>\n",
       "</thead>\n",
       "<tbody>\n",
       "\t<tr><td>1</td><td>2</td><td>3</td></tr>\n",
       "\t<tr><td>4</td><td>5</td><td>6</td></tr>\n",
       "</tbody>\n",
       "</table>\n"
      ],
      "text/latex": [
       "A spec\\_tbl\\_df: 2 × 3\n",
       "\\begin{tabular}{lll}\n",
       " a & b & c\\\\\n",
       " <dbl> & <dbl> & <dbl>\\\\\n",
       "\\hline\n",
       "\t 1 & 2 & 3\\\\\n",
       "\t 4 & 5 & 6\\\\\n",
       "\\end{tabular}\n"
      ],
      "text/markdown": [
       "\n",
       "A spec_tbl_df: 2 × 3\n",
       "\n",
       "| a &lt;dbl&gt; | b &lt;dbl&gt; | c &lt;dbl&gt; |\n",
       "|---|---|---|\n",
       "| 1 | 2 | 3 |\n",
       "| 4 | 5 | 6 |\n",
       "\n"
      ],
      "text/plain": [
       "  a b c\n",
       "1 1 2 3\n",
       "2 4 5 6"
      ]
     },
     "metadata": {},
     "output_type": "display_data"
    }
   ],
   "source": [
    "read_csv(\"a, b, c\n",
    "1, 2, 3\n",
    "4, 5, 6\n",
    "\")"
   ]
  },
  {
   "cell_type": "markdown",
   "metadata": {},
   "source": [
    "You might want to skip a few rows in the beginning that have metadata."
   ]
  },
  {
   "cell_type": "code",
   "execution_count": 24,
   "metadata": {},
   "outputs": [
    {
     "data": {
      "text/html": [
       "<table>\n",
       "<caption>A spec_tbl_df: 2 × 3</caption>\n",
       "<thead>\n",
       "\t<tr><th scope=col>a</th><th scope=col>b</th><th scope=col>c</th></tr>\n",
       "\t<tr><th scope=col>&lt;dbl&gt;</th><th scope=col>&lt;dbl&gt;</th><th scope=col>&lt;dbl&gt;</th></tr>\n",
       "</thead>\n",
       "<tbody>\n",
       "\t<tr><td>1</td><td>2</td><td>3</td></tr>\n",
       "\t<tr><td>4</td><td>5</td><td>6</td></tr>\n",
       "</tbody>\n",
       "</table>\n"
      ],
      "text/latex": [
       "A spec\\_tbl\\_df: 2 × 3\n",
       "\\begin{tabular}{lll}\n",
       " a & b & c\\\\\n",
       " <dbl> & <dbl> & <dbl>\\\\\n",
       "\\hline\n",
       "\t 1 & 2 & 3\\\\\n",
       "\t 4 & 5 & 6\\\\\n",
       "\\end{tabular}\n"
      ],
      "text/markdown": [
       "\n",
       "A spec_tbl_df: 2 × 3\n",
       "\n",
       "| a &lt;dbl&gt; | b &lt;dbl&gt; | c &lt;dbl&gt; |\n",
       "|---|---|---|\n",
       "| 1 | 2 | 3 |\n",
       "| 4 | 5 | 6 |\n",
       "\n"
      ],
      "text/plain": [
       "  a b c\n",
       "1 1 2 3\n",
       "2 4 5 6"
      ]
     },
     "metadata": {},
     "output_type": "display_data"
    }
   ],
   "source": [
    "read_csv(\"First row to skip\n",
    "Second row to skip\n",
    "Third row to skip\n",
    "a, b, c\n",
    "1, 2, 3\n",
    "4, 5, 6\n",
    "\", skip = 3)"
   ]
  },
  {
   "cell_type": "markdown",
   "metadata": {},
   "source": [
    "You can also skip comments line by specifying a comment character."
   ]
  },
  {
   "cell_type": "code",
   "execution_count": 25,
   "metadata": {},
   "outputs": [
    {
     "data": {
      "text/html": [
       "<table>\n",
       "<caption>A spec_tbl_df: 2 × 3</caption>\n",
       "<thead>\n",
       "\t<tr><th scope=col>a</th><th scope=col>b</th><th scope=col>c</th></tr>\n",
       "\t<tr><th scope=col>&lt;dbl&gt;</th><th scope=col>&lt;dbl&gt;</th><th scope=col>&lt;dbl&gt;</th></tr>\n",
       "</thead>\n",
       "<tbody>\n",
       "\t<tr><td>1</td><td>2</td><td>3</td></tr>\n",
       "\t<tr><td>4</td><td>5</td><td>6</td></tr>\n",
       "</tbody>\n",
       "</table>\n"
      ],
      "text/latex": [
       "A spec\\_tbl\\_df: 2 × 3\n",
       "\\begin{tabular}{lll}\n",
       " a & b & c\\\\\n",
       " <dbl> & <dbl> & <dbl>\\\\\n",
       "\\hline\n",
       "\t 1 & 2 & 3\\\\\n",
       "\t 4 & 5 & 6\\\\\n",
       "\\end{tabular}\n"
      ],
      "text/markdown": [
       "\n",
       "A spec_tbl_df: 2 × 3\n",
       "\n",
       "| a &lt;dbl&gt; | b &lt;dbl&gt; | c &lt;dbl&gt; |\n",
       "|---|---|---|\n",
       "| 1 | 2 | 3 |\n",
       "| 4 | 5 | 6 |\n",
       "\n"
      ],
      "text/plain": [
       "  a b c\n",
       "1 1 2 3\n",
       "2 4 5 6"
      ]
     },
     "metadata": {},
     "output_type": "display_data"
    }
   ],
   "source": [
    "read_csv(\"# First comment line\n",
    "a, b, c\n",
    "# This separate the header from the data\n",
    "1, 2, 3\n",
    "4, 5, 6\n",
    "# Another comment line\n",
    "\", comment = '#')"
   ]
  },
  {
   "cell_type": "markdown",
   "metadata": {},
   "source": [
    "Set `col_names = FALSE` when you don't have column names in the file. The column names are then set to X1, X2, ..."
   ]
  },
  {
   "cell_type": "code",
   "execution_count": 26,
   "metadata": {},
   "outputs": [
    {
     "data": {
      "text/html": [
       "<table>\n",
       "<caption>A spec_tbl_df: 2 × 3</caption>\n",
       "<thead>\n",
       "\t<tr><th scope=col>X1</th><th scope=col>X2</th><th scope=col>X3</th></tr>\n",
       "\t<tr><th scope=col>&lt;dbl&gt;</th><th scope=col>&lt;dbl&gt;</th><th scope=col>&lt;dbl&gt;</th></tr>\n",
       "</thead>\n",
       "<tbody>\n",
       "\t<tr><td>1</td><td>2</td><td>3</td></tr>\n",
       "\t<tr><td>4</td><td>5</td><td>6</td></tr>\n",
       "</tbody>\n",
       "</table>\n"
      ],
      "text/latex": [
       "A spec\\_tbl\\_df: 2 × 3\n",
       "\\begin{tabular}{lll}\n",
       " X1 & X2 & X3\\\\\n",
       " <dbl> & <dbl> & <dbl>\\\\\n",
       "\\hline\n",
       "\t 1 & 2 & 3\\\\\n",
       "\t 4 & 5 & 6\\\\\n",
       "\\end{tabular}\n"
      ],
      "text/markdown": [
       "\n",
       "A spec_tbl_df: 2 × 3\n",
       "\n",
       "| X1 &lt;dbl&gt; | X2 &lt;dbl&gt; | X3 &lt;dbl&gt; |\n",
       "|---|---|---|\n",
       "| 1 | 2 | 3 |\n",
       "| 4 | 5 | 6 |\n",
       "\n"
      ],
      "text/plain": [
       "  X1 X2 X3\n",
       "1 1  2  3 \n",
       "2 4  5  6 "
      ]
     },
     "metadata": {},
     "output_type": "display_data"
    }
   ],
   "source": [
    "read_csv(\"1, 2, 3\n",
    "4, 5, 6\n",
    "\", col_names = FALSE)"
   ]
  },
  {
   "cell_type": "markdown",
   "metadata": {},
   "source": [
    "You can specify your own column names."
   ]
  },
  {
   "cell_type": "code",
   "execution_count": 27,
   "metadata": {},
   "outputs": [
    {
     "data": {
      "text/html": [
       "<table>\n",
       "<caption>A spec_tbl_df: 2 × 3</caption>\n",
       "<thead>\n",
       "\t<tr><th scope=col>a</th><th scope=col>b</th><th scope=col>c</th></tr>\n",
       "\t<tr><th scope=col>&lt;dbl&gt;</th><th scope=col>&lt;dbl&gt;</th><th scope=col>&lt;dbl&gt;</th></tr>\n",
       "</thead>\n",
       "<tbody>\n",
       "\t<tr><td>1</td><td>2</td><td>3</td></tr>\n",
       "\t<tr><td>4</td><td>5</td><td>6</td></tr>\n",
       "</tbody>\n",
       "</table>\n"
      ],
      "text/latex": [
       "A spec\\_tbl\\_df: 2 × 3\n",
       "\\begin{tabular}{lll}\n",
       " a & b & c\\\\\n",
       " <dbl> & <dbl> & <dbl>\\\\\n",
       "\\hline\n",
       "\t 1 & 2 & 3\\\\\n",
       "\t 4 & 5 & 6\\\\\n",
       "\\end{tabular}\n"
      ],
      "text/markdown": [
       "\n",
       "A spec_tbl_df: 2 × 3\n",
       "\n",
       "| a &lt;dbl&gt; | b &lt;dbl&gt; | c &lt;dbl&gt; |\n",
       "|---|---|---|\n",
       "| 1 | 2 | 3 |\n",
       "| 4 | 5 | 6 |\n",
       "\n"
      ],
      "text/plain": [
       "  a b c\n",
       "1 1 2 3\n",
       "2 4 5 6"
      ]
     },
     "metadata": {},
     "output_type": "display_data"
    }
   ],
   "source": [
    "read_csv(\"1, 2, 3\n",
    "4, 5, 6\n",
    "\", col_names = c(\"a\", \"b\", \"c\"))"
   ]
  },
  {
   "cell_type": "markdown",
   "metadata": {},
   "source": [
    "You can specify how missing values are represented in the file."
   ]
  },
  {
   "cell_type": "code",
   "execution_count": 28,
   "metadata": {},
   "outputs": [
    {
     "data": {
      "text/html": [
       "<table>\n",
       "<caption>A spec_tbl_df: 2 × 3</caption>\n",
       "<thead>\n",
       "\t<tr><th scope=col>a</th><th scope=col>b</th><th scope=col>c</th></tr>\n",
       "\t<tr><th scope=col>&lt;dbl&gt;</th><th scope=col>&lt;dbl&gt;</th><th scope=col>&lt;dbl&gt;</th></tr>\n",
       "</thead>\n",
       "<tbody>\n",
       "\t<tr><td>1</td><td> 2</td><td>3</td></tr>\n",
       "\t<tr><td>4</td><td>NA</td><td>6</td></tr>\n",
       "</tbody>\n",
       "</table>\n"
      ],
      "text/latex": [
       "A spec\\_tbl\\_df: 2 × 3\n",
       "\\begin{tabular}{lll}\n",
       " a & b & c\\\\\n",
       " <dbl> & <dbl> & <dbl>\\\\\n",
       "\\hline\n",
       "\t 1 &  2 & 3\\\\\n",
       "\t 4 & NA & 6\\\\\n",
       "\\end{tabular}\n"
      ],
      "text/markdown": [
       "\n",
       "A spec_tbl_df: 2 × 3\n",
       "\n",
       "| a &lt;dbl&gt; | b &lt;dbl&gt; | c &lt;dbl&gt; |\n",
       "|---|---|---|\n",
       "| 1 |  2 | 3 |\n",
       "| 4 | NA | 6 |\n",
       "\n"
      ],
      "text/plain": [
       "  a b  c\n",
       "1 1  2 3\n",
       "2 4 NA 6"
      ]
     },
     "metadata": {},
     "output_type": "display_data"
    }
   ],
   "source": [
    "read_csv(\"a, b, c\n",
    "1, 2, 3\n",
    "4, ?, 6\n",
    "\", na = \"?\")"
   ]
  },
  {
   "cell_type": "markdown",
   "metadata": {},
   "source": [
    "You can write a tibble to a csv file using `write_csv()`."
   ]
  },
  {
   "cell_type": "code",
   "execution_count": 29,
   "metadata": {},
   "outputs": [],
   "source": [
    "write_csv(cubes, \"cubes.csv\")"
   ]
  },
  {
   "cell_type": "code",
   "execution_count": 30,
   "metadata": {},
   "outputs": [
    {
     "name": "stderr",
     "output_type": "stream",
     "text": [
      "Parsed with column specification:\n",
      "cols(\n",
      "  `1` = \u001b[32mcol_double()\u001b[39m,\n",
      "  `2` = \u001b[32mcol_double()\u001b[39m,\n",
      "  `3` = \u001b[32mcol_double()\u001b[39m\n",
      ")\n",
      "\n"
     ]
    }
   ],
   "source": [
    "cubes2 <- read_csv(\"cubes.csv\")"
   ]
  },
  {
   "cell_type": "code",
   "execution_count": 31,
   "metadata": {},
   "outputs": [
    {
     "data": {
      "text/html": [
       "<table>\n",
       "<caption>A spec_tbl_df: 10 × 3</caption>\n",
       "<thead>\n",
       "\t<tr><th scope=col>1</th><th scope=col>2</th><th scope=col>3</th></tr>\n",
       "\t<tr><th scope=col>&lt;dbl&gt;</th><th scope=col>&lt;dbl&gt;</th><th scope=col>&lt;dbl&gt;</th></tr>\n",
       "</thead>\n",
       "<tbody>\n",
       "\t<tr><td> 1</td><td>  1</td><td>   1</td></tr>\n",
       "\t<tr><td> 2</td><td>  4</td><td>   8</td></tr>\n",
       "\t<tr><td> 3</td><td>  9</td><td>  27</td></tr>\n",
       "\t<tr><td> 4</td><td> 16</td><td>  64</td></tr>\n",
       "\t<tr><td> 5</td><td> 25</td><td> 125</td></tr>\n",
       "\t<tr><td> 6</td><td> 36</td><td> 216</td></tr>\n",
       "\t<tr><td> 7</td><td> 49</td><td> 343</td></tr>\n",
       "\t<tr><td> 8</td><td> 64</td><td> 512</td></tr>\n",
       "\t<tr><td> 9</td><td> 81</td><td> 729</td></tr>\n",
       "\t<tr><td>10</td><td>100</td><td>1000</td></tr>\n",
       "</tbody>\n",
       "</table>\n"
      ],
      "text/latex": [
       "A spec\\_tbl\\_df: 10 × 3\n",
       "\\begin{tabular}{lll}\n",
       " 1 & 2 & 3\\\\\n",
       " <dbl> & <dbl> & <dbl>\\\\\n",
       "\\hline\n",
       "\t  1 &   1 &    1\\\\\n",
       "\t  2 &   4 &    8\\\\\n",
       "\t  3 &   9 &   27\\\\\n",
       "\t  4 &  16 &   64\\\\\n",
       "\t  5 &  25 &  125\\\\\n",
       "\t  6 &  36 &  216\\\\\n",
       "\t  7 &  49 &  343\\\\\n",
       "\t  8 &  64 &  512\\\\\n",
       "\t  9 &  81 &  729\\\\\n",
       "\t 10 & 100 & 1000\\\\\n",
       "\\end{tabular}\n"
      ],
      "text/markdown": [
       "\n",
       "A spec_tbl_df: 10 × 3\n",
       "\n",
       "| 1 &lt;dbl&gt; | 2 &lt;dbl&gt; | 3 &lt;dbl&gt; |\n",
       "|---|---|---|\n",
       "|  1 |   1 |    1 |\n",
       "|  2 |   4 |    8 |\n",
       "|  3 |   9 |   27 |\n",
       "|  4 |  16 |   64 |\n",
       "|  5 |  25 |  125 |\n",
       "|  6 |  36 |  216 |\n",
       "|  7 |  49 |  343 |\n",
       "|  8 |  64 |  512 |\n",
       "|  9 |  81 |  729 |\n",
       "| 10 | 100 | 1000 |\n",
       "\n"
      ],
      "text/plain": [
       "   1  2   3   \n",
       "1   1   1    1\n",
       "2   2   4    8\n",
       "3   3   9   27\n",
       "4   4  16   64\n",
       "5   5  25  125\n",
       "6   6  36  216\n",
       "7   7  49  343\n",
       "8   8  64  512\n",
       "9   9  81  729\n",
       "10 10 100 1000"
      ]
     },
     "metadata": {},
     "output_type": "display_data"
    }
   ],
   "source": [
    "cubes2"
   ]
  },
  {
   "cell_type": "code",
   "execution_count": 32,
   "metadata": {},
   "outputs": [
    {
     "data": {
      "text/html": [
       "TRUE"
      ],
      "text/latex": [
       "TRUE"
      ],
      "text/markdown": [
       "TRUE"
      ],
      "text/plain": [
       "[1] TRUE"
      ]
     },
     "metadata": {},
     "output_type": "display_data"
    }
   ],
   "source": [
    "file.remove(\"cubes.csv\")"
   ]
  }
 ],
 "metadata": {
  "kernelspec": {
   "display_name": "R",
   "language": "R",
   "name": "ir"
  },
  "language_info": {
   "codemirror_mode": "r",
   "file_extension": ".r",
   "mimetype": "text/x-r-source",
   "name": "R",
   "pygments_lexer": "r",
   "version": "3.6.2"
  }
 },
 "nbformat": 4,
 "nbformat_minor": 1
}
