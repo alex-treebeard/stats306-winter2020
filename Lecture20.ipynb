{
 "cells": [
  {
   "cell_type": "markdown",
   "metadata": {},
   "source": [
    "In this notebook, we will learn about loops and functional programming in R.\n",
    "\n",
    "* [For loops](#For-loops)\n",
    "* [While loops](#While-loops)\n",
    "* [The map functions](#The-map-functions)"
   ]
  },
  {
   "cell_type": "code",
   "execution_count": 1,
   "metadata": {},
   "outputs": [
    {
     "name": "stderr",
     "output_type": "stream",
     "text": [
      "Loading tidyverse: ggplot2\n",
      "Loading tidyverse: tibble\n",
      "Loading tidyverse: tidyr\n",
      "Loading tidyverse: readr\n",
      "Loading tidyverse: purrr\n",
      "Loading tidyverse: dplyr\n",
      "Conflicts with tidy packages ---------------------------------------------------\n",
      "filter(): dplyr, stats\n",
      "lag():    dplyr, stats\n"
     ]
    }
   ],
   "source": [
    "library(tidyverse) # we'll use the purrr package from tidyverse\n",
    "library(stringr)"
   ]
  },
  {
   "cell_type": "markdown",
   "metadata": {},
   "source": [
    "# For loops"
   ]
  },
  {
   "cell_type": "code",
   "execution_count": 2,
   "metadata": {},
   "outputs": [
    {
     "name": "stdout",
     "output_type": "stream",
     "text": [
      "                     mpg cyl  disp  hp drat    wt  qsec vs am gear carb\n",
      "Mazda RX4           21.0   6 160.0 110 3.90 2.620 16.46  0  1    4    4\n",
      "Mazda RX4 Wag       21.0   6 160.0 110 3.90 2.875 17.02  0  1    4    4\n",
      "Datsun 710          22.8   4 108.0  93 3.85 2.320 18.61  1  1    4    1\n",
      "Hornet 4 Drive      21.4   6 258.0 110 3.08 3.215 19.44  1  0    3    1\n",
      "Hornet Sportabout   18.7   8 360.0 175 3.15 3.440 17.02  0  0    3    2\n",
      "Valiant             18.1   6 225.0 105 2.76 3.460 20.22  1  0    3    1\n",
      "Duster 360          14.3   8 360.0 245 3.21 3.570 15.84  0  0    3    4\n",
      "Merc 240D           24.4   4 146.7  62 3.69 3.190 20.00  1  0    4    2\n",
      "Merc 230            22.8   4 140.8  95 3.92 3.150 22.90  1  0    4    2\n",
      "Merc 280            19.2   6 167.6 123 3.92 3.440 18.30  1  0    4    4\n",
      "Merc 280C           17.8   6 167.6 123 3.92 3.440 18.90  1  0    4    4\n",
      "Merc 450SE          16.4   8 275.8 180 3.07 4.070 17.40  0  0    3    3\n",
      "Merc 450SL          17.3   8 275.8 180 3.07 3.730 17.60  0  0    3    3\n",
      "Merc 450SLC         15.2   8 275.8 180 3.07 3.780 18.00  0  0    3    3\n",
      "Cadillac Fleetwood  10.4   8 472.0 205 2.93 5.250 17.98  0  0    3    4\n",
      "Lincoln Continental 10.4   8 460.0 215 3.00 5.424 17.82  0  0    3    4\n",
      "Chrysler Imperial   14.7   8 440.0 230 3.23 5.345 17.42  0  0    3    4\n",
      "Fiat 128            32.4   4  78.7  66 4.08 2.200 19.47  1  1    4    1\n",
      "Honda Civic         30.4   4  75.7  52 4.93 1.615 18.52  1  1    4    2\n",
      "Toyota Corolla      33.9   4  71.1  65 4.22 1.835 19.90  1  1    4    1\n",
      "Toyota Corona       21.5   4 120.1  97 3.70 2.465 20.01  1  0    3    1\n",
      "Dodge Challenger    15.5   8 318.0 150 2.76 3.520 16.87  0  0    3    2\n",
      "AMC Javelin         15.2   8 304.0 150 3.15 3.435 17.30  0  0    3    2\n",
      "Camaro Z28          13.3   8 350.0 245 3.73 3.840 15.41  0  0    3    4\n",
      "Pontiac Firebird    19.2   8 400.0 175 3.08 3.845 17.05  0  0    3    2\n",
      "Fiat X1-9           27.3   4  79.0  66 4.08 1.935 18.90  1  1    4    1\n",
      "Porsche 914-2       26.0   4 120.3  91 4.43 2.140 16.70  0  1    5    2\n",
      "Lotus Europa        30.4   4  95.1 113 3.77 1.513 16.90  1  1    5    2\n",
      "Ford Pantera L      15.8   8 351.0 264 4.22 3.170 14.50  0  1    5    4\n",
      "Ferrari Dino        19.7   6 145.0 175 3.62 2.770 15.50  0  1    5    6\n",
      "Maserati Bora       15.0   8 301.0 335 3.54 3.570 14.60  0  1    5    8\n",
      "Volvo 142E          21.4   4 121.0 109 4.11 2.780 18.60  1  1    4    2\n"
     ]
    }
   ],
   "source": [
    "print(mtcars)"
   ]
  },
  {
   "cell_type": "code",
   "execution_count": 3,
   "metadata": {},
   "outputs": [
    {
     "data": {
      "text/html": [
       "20.090625"
      ],
      "text/latex": [
       "20.090625"
      ],
      "text/markdown": [
       "20.090625"
      ],
      "text/plain": [
       "[1] 20.09062"
      ]
     },
     "metadata": {},
     "output_type": "display_data"
    }
   ],
   "source": [
    "mean(mtcars$mpg)"
   ]
  },
  {
   "cell_type": "code",
   "execution_count": 4,
   "metadata": {},
   "outputs": [
    {
     "data": {
      "text/html": [
       "6.1875"
      ],
      "text/latex": [
       "6.1875"
      ],
      "text/markdown": [
       "6.1875"
      ],
      "text/plain": [
       "[1] 6.1875"
      ]
     },
     "metadata": {},
     "output_type": "display_data"
    }
   ],
   "source": [
    "mean(mtcars$cyl)"
   ]
  },
  {
   "cell_type": "code",
   "execution_count": 5,
   "metadata": {},
   "outputs": [
    {
     "data": {
      "text/html": [
       "230.721875"
      ],
      "text/latex": [
       "230.721875"
      ],
      "text/markdown": [
       "230.721875"
      ],
      "text/plain": [
       "[1] 230.7219"
      ]
     },
     "metadata": {},
     "output_type": "display_data"
    }
   ],
   "source": [
    "mean(mtcars$disp)"
   ]
  },
  {
   "cell_type": "code",
   "execution_count": 6,
   "metadata": {},
   "outputs": [
    {
     "data": {
      "text/html": [
       "146.6875"
      ],
      "text/latex": [
       "146.6875"
      ],
      "text/markdown": [
       "146.6875"
      ],
      "text/plain": [
       "[1] 146.6875"
      ]
     },
     "metadata": {},
     "output_type": "display_data"
    }
   ],
   "source": [
    "mean(mtcars$hp)"
   ]
  },
  {
   "cell_type": "code",
   "execution_count": 7,
   "metadata": {},
   "outputs": [
    {
     "data": {
      "text/html": [
       "3.5965625"
      ],
      "text/latex": [
       "3.5965625"
      ],
      "text/markdown": [
       "3.5965625"
      ],
      "text/plain": [
       "[1] 3.596563"
      ]
     },
     "metadata": {},
     "output_type": "display_data"
    },
    {
     "data": {
      "text/html": [
       "3.21725"
      ],
      "text/latex": [
       "3.21725"
      ],
      "text/markdown": [
       "3.21725"
      ],
      "text/plain": [
       "[1] 3.21725"
      ]
     },
     "metadata": {},
     "output_type": "display_data"
    },
    {
     "data": {
      "text/html": [
       "17.84875"
      ],
      "text/latex": [
       "17.84875"
      ],
      "text/markdown": [
       "17.84875"
      ],
      "text/plain": [
       "[1] 17.84875"
      ]
     },
     "metadata": {},
     "output_type": "display_data"
    },
    {
     "data": {
      "text/html": [
       "0.4375"
      ],
      "text/latex": [
       "0.4375"
      ],
      "text/markdown": [
       "0.4375"
      ],
      "text/plain": [
       "[1] 0.4375"
      ]
     },
     "metadata": {},
     "output_type": "display_data"
    },
    {
     "data": {
      "text/html": [
       "0.40625"
      ],
      "text/latex": [
       "0.40625"
      ],
      "text/markdown": [
       "0.40625"
      ],
      "text/plain": [
       "[1] 0.40625"
      ]
     },
     "metadata": {},
     "output_type": "display_data"
    },
    {
     "data": {
      "text/html": [
       "3.6875"
      ],
      "text/latex": [
       "3.6875"
      ],
      "text/markdown": [
       "3.6875"
      ],
      "text/plain": [
       "[1] 3.6875"
      ]
     },
     "metadata": {},
     "output_type": "display_data"
    },
    {
     "data": {
      "text/html": [
       "2.8125"
      ],
      "text/latex": [
       "2.8125"
      ],
      "text/markdown": [
       "2.8125"
      ],
      "text/plain": [
       "[1] 2.8125"
      ]
     },
     "metadata": {},
     "output_type": "display_data"
    }
   ],
   "source": [
    "mean(mtcars$drat)\n",
    "mean(mtcars$wt)\n",
    "mean(mtcars$qsec)\n",
    "mean(mtcars$vs)\n",
    "mean(mtcars$am)\n",
    "mean(mtcars$gear)\n",
    "mean(mtcars$carb)"
   ]
  },
  {
   "cell_type": "code",
   "execution_count": 8,
   "metadata": {},
   "outputs": [
    {
     "data": {
      "text/html": [
       "11"
      ],
      "text/latex": [
       "11"
      ],
      "text/markdown": [
       "11"
      ],
      "text/plain": [
       "[1] 11"
      ]
     },
     "metadata": {},
     "output_type": "display_data"
    }
   ],
   "source": [
    "ncol(mtcars)"
   ]
  },
  {
   "cell_type": "code",
   "execution_count": 9,
   "metadata": {},
   "outputs": [
    {
     "name": "stdout",
     "output_type": "stream",
     "text": [
      "[1] 20.09062\n",
      "[1] 6.1875\n",
      "[1] 230.7219\n",
      "[1] 146.6875\n",
      "[1] 3.596563\n",
      "[1] 3.21725\n",
      "[1] 17.84875\n",
      "[1] 0.4375\n",
      "[1] 0.40625\n",
      "[1] 3.6875\n",
      "[1] 2.8125\n"
     ]
    }
   ],
   "source": [
    "for (i in 1:ncol(mtcars)) {\n",
    "    print(mean(mtcars[[i]]))\n",
    "}"
   ]
  },
  {
   "cell_type": "markdown",
   "metadata": {},
   "source": [
    "Instead of just printing the 11 column means, let us store them in a vector `output`."
   ]
  },
  {
   "cell_type": "code",
   "execution_count": 10,
   "metadata": {
    "collapsed": true
   },
   "outputs": [],
   "source": [
    "output <- vector(\"double\", ncol(mtcars)) # allocate enough space in the vector\n",
    "for (i in 1:ncol(mtcars)) {\n",
    "    output[[i]] <- mean(mtcars[[i]])\n",
    "}"
   ]
  },
  {
   "cell_type": "markdown",
   "metadata": {},
   "source": [
    "Let us examine `output` now."
   ]
  },
  {
   "cell_type": "code",
   "execution_count": 11,
   "metadata": {},
   "outputs": [
    {
     "data": {
      "text/html": [
       "<ol class=list-inline>\n",
       "\t<li>20.090625</li>\n",
       "\t<li>6.1875</li>\n",
       "\t<li>230.721875</li>\n",
       "\t<li>146.6875</li>\n",
       "\t<li>3.5965625</li>\n",
       "\t<li>3.21725</li>\n",
       "\t<li>17.84875</li>\n",
       "\t<li>0.4375</li>\n",
       "\t<li>0.40625</li>\n",
       "\t<li>3.6875</li>\n",
       "\t<li>2.8125</li>\n",
       "</ol>\n"
      ],
      "text/latex": [
       "\\begin{enumerate*}\n",
       "\\item 20.090625\n",
       "\\item 6.1875\n",
       "\\item 230.721875\n",
       "\\item 146.6875\n",
       "\\item 3.5965625\n",
       "\\item 3.21725\n",
       "\\item 17.84875\n",
       "\\item 0.4375\n",
       "\\item 0.40625\n",
       "\\item 3.6875\n",
       "\\item 2.8125\n",
       "\\end{enumerate*}\n"
      ],
      "text/markdown": [
       "1. 20.090625\n",
       "2. 6.1875\n",
       "3. 230.721875\n",
       "4. 146.6875\n",
       "5. 3.5965625\n",
       "6. 3.21725\n",
       "7. 17.84875\n",
       "8. 0.4375\n",
       "9. 0.40625\n",
       "10. 3.6875\n",
       "11. 2.8125\n",
       "\n",
       "\n"
      ],
      "text/plain": [
       " [1]  20.090625   6.187500 230.721875 146.687500   3.596563   3.217250\n",
       " [7]  17.848750   0.437500   0.406250   3.687500   2.812500"
      ]
     },
     "metadata": {},
     "output_type": "display_data"
    }
   ],
   "source": [
    "output"
   ]
  },
  {
   "cell_type": "code",
   "execution_count": 12,
   "metadata": {},
   "outputs": [
    {
     "data": {
      "text/html": [
       "'double'"
      ],
      "text/latex": [
       "'double'"
      ],
      "text/markdown": [
       "'double'"
      ],
      "text/plain": [
       "[1] \"double\""
      ]
     },
     "metadata": {},
     "output_type": "display_data"
    },
    {
     "data": {
      "text/html": [
       "11"
      ],
      "text/latex": [
       "11"
      ],
      "text/markdown": [
       "11"
      ],
      "text/plain": [
       "[1] 11"
      ]
     },
     "metadata": {},
     "output_type": "display_data"
    }
   ],
   "source": [
    "typeof(output)\n",
    "length(output)"
   ]
  },
  {
   "cell_type": "code",
   "execution_count": 13,
   "metadata": {},
   "outputs": [
    {
     "data": {
      "text/html": [
       "<ol class=list-inline>\n",
       "\t<li>'mpg'</li>\n",
       "\t<li>'cyl'</li>\n",
       "\t<li>'disp'</li>\n",
       "\t<li>'hp'</li>\n",
       "\t<li>'drat'</li>\n",
       "\t<li>'wt'</li>\n",
       "\t<li>'qsec'</li>\n",
       "\t<li>'vs'</li>\n",
       "\t<li>'am'</li>\n",
       "\t<li>'gear'</li>\n",
       "\t<li>'carb'</li>\n",
       "</ol>\n"
      ],
      "text/latex": [
       "\\begin{enumerate*}\n",
       "\\item 'mpg'\n",
       "\\item 'cyl'\n",
       "\\item 'disp'\n",
       "\\item 'hp'\n",
       "\\item 'drat'\n",
       "\\item 'wt'\n",
       "\\item 'qsec'\n",
       "\\item 'vs'\n",
       "\\item 'am'\n",
       "\\item 'gear'\n",
       "\\item 'carb'\n",
       "\\end{enumerate*}\n"
      ],
      "text/markdown": [
       "1. 'mpg'\n",
       "2. 'cyl'\n",
       "3. 'disp'\n",
       "4. 'hp'\n",
       "5. 'drat'\n",
       "6. 'wt'\n",
       "7. 'qsec'\n",
       "8. 'vs'\n",
       "9. 'am'\n",
       "10. 'gear'\n",
       "11. 'carb'\n",
       "\n",
       "\n"
      ],
      "text/plain": [
       " [1] \"mpg\"  \"cyl\"  \"disp\" \"hp\"   \"drat\" \"wt\"   \"qsec\" \"vs\"   \"am\"   \"gear\"\n",
       "[11] \"carb\""
      ]
     },
     "metadata": {},
     "output_type": "display_data"
    }
   ],
   "source": [
    "names(mtcars) # names of the columns"
   ]
  },
  {
   "cell_type": "code",
   "execution_count": 14,
   "metadata": {},
   "outputs": [
    {
     "name": "stdout",
     "output_type": "stream",
     "text": [
      "[1] \"The mean of column mpg is 20.090625\"\n",
      "[1] \"The mean of column cyl is 6.187500\"\n",
      "[1] \"The mean of column disp is 230.721875\"\n",
      "[1] \"The mean of column hp is 146.687500\"\n",
      "[1] \"The mean of column drat is 3.596563\"\n",
      "[1] \"The mean of column wt is 3.217250\"\n",
      "[1] \"The mean of column qsec is 17.848750\"\n",
      "[1] \"The mean of column vs is 0.437500\"\n",
      "[1] \"The mean of column am is 0.406250\"\n",
      "[1] \"The mean of column gear is 3.687500\"\n",
      "[1] \"The mean of column carb is 2.812500\"\n"
     ]
    }
   ],
   "source": [
    "for (name in names(mtcars)) {\n",
    "    print(sprintf(\"The mean of column %s is %f\", name, mean(mtcars[[name]])))\n",
    "}"
   ]
  },
  {
   "cell_type": "code",
   "execution_count": 15,
   "metadata": {},
   "outputs": [
    {
     "name": "stdout",
     "output_type": "stream",
     "text": [
      "[1] \"MAZDA RX4\"\n",
      "[1] \"MAZDA RX4 WAG\"\n",
      "[1] \"DATSUN 710\"\n",
      "[1] \"HORNET 4 DRIVE\"\n",
      "[1] \"HORNET SPORTABOUT\"\n",
      "[1] \"VALIANT\"\n",
      "[1] \"DUSTER 360\"\n",
      "[1] \"MERC 240D\"\n",
      "[1] \"MERC 230\"\n",
      "[1] \"MERC 280\"\n",
      "[1] \"MERC 280C\"\n",
      "[1] \"MERC 450SE\"\n",
      "[1] \"MERC 450SL\"\n",
      "[1] \"MERC 450SLC\"\n",
      "[1] \"CADILLAC FLEETWOOD\"\n",
      "[1] \"LINCOLN CONTINENTAL\"\n",
      "[1] \"CHRYSLER IMPERIAL\"\n",
      "[1] \"FIAT 128\"\n",
      "[1] \"HONDA CIVIC\"\n",
      "[1] \"TOYOTA COROLLA\"\n",
      "[1] \"TOYOTA CORONA\"\n",
      "[1] \"DODGE CHALLENGER\"\n",
      "[1] \"AMC JAVELIN\"\n",
      "[1] \"CAMARO Z28\"\n",
      "[1] \"PONTIAC FIREBIRD\"\n",
      "[1] \"FIAT X1-9\"\n",
      "[1] \"PORSCHE 914-2\"\n",
      "[1] \"LOTUS EUROPA\"\n",
      "[1] \"FORD PANTERA L\"\n",
      "[1] \"FERRARI DINO\"\n",
      "[1] \"MASERATI BORA\"\n",
      "[1] \"VOLVO 142E\"\n"
     ]
    }
   ],
   "source": [
    "for (row_name in row.names(mtcars)) {\n",
    "    print(str_to_upper(row_name))\n",
    "}"
   ]
  },
  {
   "cell_type": "markdown",
   "metadata": {},
   "source": [
    "# While loops"
   ]
  },
  {
   "cell_type": "code",
   "execution_count": 16,
   "metadata": {
    "collapsed": true
   },
   "outputs": [],
   "source": [
    "roll_dice <- function() sample(1:6, 1)"
   ]
  },
  {
   "cell_type": "code",
   "execution_count": 17,
   "metadata": {},
   "outputs": [
    {
     "data": {
      "text/html": [
       "5"
      ],
      "text/latex": [
       "5"
      ],
      "text/markdown": [
       "5"
      ],
      "text/plain": [
       "[1] 5"
      ]
     },
     "metadata": {},
     "output_type": "display_data"
    }
   ],
   "source": [
    "roll_dice()"
   ]
  },
  {
   "cell_type": "code",
   "execution_count": 18,
   "metadata": {},
   "outputs": [
    {
     "name": "stdout",
     "output_type": "stream",
     "text": [
      "[1] \"It took 103 rolls to get two sixes in a row\"\n"
     ]
    }
   ],
   "source": [
    "num_sixes <- 0\n",
    "roll_count <- 0\n",
    "while (num_sixes < 2) {\n",
    "    if (roll_dice() == 6) {\n",
    "        num_sixes <- num_sixes + 1\n",
    "    } else {\n",
    "        num_sixes <- 0\n",
    "    }\n",
    "    roll_count <- roll_count + 1\n",
    "}\n",
    "print(sprintf(\"It took %d rolls to get two sixes in a row\", roll_count))"
   ]
  },
  {
   "cell_type": "markdown",
   "metadata": {},
   "source": [
    "# The map functions"
   ]
  },
  {
   "cell_type": "markdown",
   "metadata": {},
   "source": [
    "The function `map` takes two arguments: a vector and a function. It then returns a vector of the same length by applying the function to each element of the input vector. There are variants that determine the type of the output vector:\n",
    "\n",
    "* `map()`: returns a list\n",
    "* `map_lgl()`: returns a logical vector\n",
    "* `map_int()`: returns an integer vector\n",
    "* `map_dbl(`: returns a double vector\n",
    "* `map_chr()`: returns a character vector."
   ]
  },
  {
   "cell_type": "code",
   "execution_count": 19,
   "metadata": {},
   "outputs": [
    {
     "data": {
      "text/html": [
       "<ol>\n",
       "\t<li>'MAZDA RX4'</li>\n",
       "\t<li>'MAZDA RX4 WAG'</li>\n",
       "\t<li>'DATSUN 710'</li>\n",
       "\t<li>'HORNET 4 DRIVE'</li>\n",
       "\t<li>'HORNET SPORTABOUT'</li>\n",
       "\t<li>'VALIANT'</li>\n",
       "\t<li>'DUSTER 360'</li>\n",
       "\t<li>'MERC 240D'</li>\n",
       "\t<li>'MERC 230'</li>\n",
       "\t<li>'MERC 280'</li>\n",
       "\t<li>'MERC 280C'</li>\n",
       "\t<li>'MERC 450SE'</li>\n",
       "\t<li>'MERC 450SL'</li>\n",
       "\t<li>'MERC 450SLC'</li>\n",
       "\t<li>'CADILLAC FLEETWOOD'</li>\n",
       "\t<li>'LINCOLN CONTINENTAL'</li>\n",
       "\t<li>'CHRYSLER IMPERIAL'</li>\n",
       "\t<li>'FIAT 128'</li>\n",
       "\t<li>'HONDA CIVIC'</li>\n",
       "\t<li>'TOYOTA COROLLA'</li>\n",
       "\t<li>'TOYOTA CORONA'</li>\n",
       "\t<li>'DODGE CHALLENGER'</li>\n",
       "\t<li>'AMC JAVELIN'</li>\n",
       "\t<li>'CAMARO Z28'</li>\n",
       "\t<li>'PONTIAC FIREBIRD'</li>\n",
       "\t<li>'FIAT X1-9'</li>\n",
       "\t<li>'PORSCHE 914-2'</li>\n",
       "\t<li>'LOTUS EUROPA'</li>\n",
       "\t<li>'FORD PANTERA L'</li>\n",
       "\t<li>'FERRARI DINO'</li>\n",
       "\t<li>'MASERATI BORA'</li>\n",
       "\t<li>'VOLVO 142E'</li>\n",
       "</ol>\n"
      ],
      "text/latex": [
       "\\begin{enumerate}\n",
       "\\item 'MAZDA RX4'\n",
       "\\item 'MAZDA RX4 WAG'\n",
       "\\item 'DATSUN 710'\n",
       "\\item 'HORNET 4 DRIVE'\n",
       "\\item 'HORNET SPORTABOUT'\n",
       "\\item 'VALIANT'\n",
       "\\item 'DUSTER 360'\n",
       "\\item 'MERC 240D'\n",
       "\\item 'MERC 230'\n",
       "\\item 'MERC 280'\n",
       "\\item 'MERC 280C'\n",
       "\\item 'MERC 450SE'\n",
       "\\item 'MERC 450SL'\n",
       "\\item 'MERC 450SLC'\n",
       "\\item 'CADILLAC FLEETWOOD'\n",
       "\\item 'LINCOLN CONTINENTAL'\n",
       "\\item 'CHRYSLER IMPERIAL'\n",
       "\\item 'FIAT 128'\n",
       "\\item 'HONDA CIVIC'\n",
       "\\item 'TOYOTA COROLLA'\n",
       "\\item 'TOYOTA CORONA'\n",
       "\\item 'DODGE CHALLENGER'\n",
       "\\item 'AMC JAVELIN'\n",
       "\\item 'CAMARO Z28'\n",
       "\\item 'PONTIAC FIREBIRD'\n",
       "\\item 'FIAT X1-9'\n",
       "\\item 'PORSCHE 914-2'\n",
       "\\item 'LOTUS EUROPA'\n",
       "\\item 'FORD PANTERA L'\n",
       "\\item 'FERRARI DINO'\n",
       "\\item 'MASERATI BORA'\n",
       "\\item 'VOLVO 142E'\n",
       "\\end{enumerate}\n"
      ],
      "text/markdown": [
       "1. 'MAZDA RX4'\n",
       "2. 'MAZDA RX4 WAG'\n",
       "3. 'DATSUN 710'\n",
       "4. 'HORNET 4 DRIVE'\n",
       "5. 'HORNET SPORTABOUT'\n",
       "6. 'VALIANT'\n",
       "7. 'DUSTER 360'\n",
       "8. 'MERC 240D'\n",
       "9. 'MERC 230'\n",
       "10. 'MERC 280'\n",
       "11. 'MERC 280C'\n",
       "12. 'MERC 450SE'\n",
       "13. 'MERC 450SL'\n",
       "14. 'MERC 450SLC'\n",
       "15. 'CADILLAC FLEETWOOD'\n",
       "16. 'LINCOLN CONTINENTAL'\n",
       "17. 'CHRYSLER IMPERIAL'\n",
       "18. 'FIAT 128'\n",
       "19. 'HONDA CIVIC'\n",
       "20. 'TOYOTA COROLLA'\n",
       "21. 'TOYOTA CORONA'\n",
       "22. 'DODGE CHALLENGER'\n",
       "23. 'AMC JAVELIN'\n",
       "24. 'CAMARO Z28'\n",
       "25. 'PONTIAC FIREBIRD'\n",
       "26. 'FIAT X1-9'\n",
       "27. 'PORSCHE 914-2'\n",
       "28. 'LOTUS EUROPA'\n",
       "29. 'FORD PANTERA L'\n",
       "30. 'FERRARI DINO'\n",
       "31. 'MASERATI BORA'\n",
       "32. 'VOLVO 142E'\n",
       "\n",
       "\n"
      ],
      "text/plain": [
       "[[1]]\n",
       "[1] \"MAZDA RX4\"\n",
       "\n",
       "[[2]]\n",
       "[1] \"MAZDA RX4 WAG\"\n",
       "\n",
       "[[3]]\n",
       "[1] \"DATSUN 710\"\n",
       "\n",
       "[[4]]\n",
       "[1] \"HORNET 4 DRIVE\"\n",
       "\n",
       "[[5]]\n",
       "[1] \"HORNET SPORTABOUT\"\n",
       "\n",
       "[[6]]\n",
       "[1] \"VALIANT\"\n",
       "\n",
       "[[7]]\n",
       "[1] \"DUSTER 360\"\n",
       "\n",
       "[[8]]\n",
       "[1] \"MERC 240D\"\n",
       "\n",
       "[[9]]\n",
       "[1] \"MERC 230\"\n",
       "\n",
       "[[10]]\n",
       "[1] \"MERC 280\"\n",
       "\n",
       "[[11]]\n",
       "[1] \"MERC 280C\"\n",
       "\n",
       "[[12]]\n",
       "[1] \"MERC 450SE\"\n",
       "\n",
       "[[13]]\n",
       "[1] \"MERC 450SL\"\n",
       "\n",
       "[[14]]\n",
       "[1] \"MERC 450SLC\"\n",
       "\n",
       "[[15]]\n",
       "[1] \"CADILLAC FLEETWOOD\"\n",
       "\n",
       "[[16]]\n",
       "[1] \"LINCOLN CONTINENTAL\"\n",
       "\n",
       "[[17]]\n",
       "[1] \"CHRYSLER IMPERIAL\"\n",
       "\n",
       "[[18]]\n",
       "[1] \"FIAT 128\"\n",
       "\n",
       "[[19]]\n",
       "[1] \"HONDA CIVIC\"\n",
       "\n",
       "[[20]]\n",
       "[1] \"TOYOTA COROLLA\"\n",
       "\n",
       "[[21]]\n",
       "[1] \"TOYOTA CORONA\"\n",
       "\n",
       "[[22]]\n",
       "[1] \"DODGE CHALLENGER\"\n",
       "\n",
       "[[23]]\n",
       "[1] \"AMC JAVELIN\"\n",
       "\n",
       "[[24]]\n",
       "[1] \"CAMARO Z28\"\n",
       "\n",
       "[[25]]\n",
       "[1] \"PONTIAC FIREBIRD\"\n",
       "\n",
       "[[26]]\n",
       "[1] \"FIAT X1-9\"\n",
       "\n",
       "[[27]]\n",
       "[1] \"PORSCHE 914-2\"\n",
       "\n",
       "[[28]]\n",
       "[1] \"LOTUS EUROPA\"\n",
       "\n",
       "[[29]]\n",
       "[1] \"FORD PANTERA L\"\n",
       "\n",
       "[[30]]\n",
       "[1] \"FERRARI DINO\"\n",
       "\n",
       "[[31]]\n",
       "[1] \"MASERATI BORA\"\n",
       "\n",
       "[[32]]\n",
       "[1] \"VOLVO 142E\"\n"
      ]
     },
     "metadata": {},
     "output_type": "display_data"
    }
   ],
   "source": [
    "map(row.names(mtcars), str_to_upper)"
   ]
  },
  {
   "cell_type": "code",
   "execution_count": 20,
   "metadata": {},
   "outputs": [
    {
     "data": {
      "text/html": [
       "<ol class=list-inline>\n",
       "\t<li>'MAZDA RX4'</li>\n",
       "\t<li>'MAZDA RX4 WAG'</li>\n",
       "\t<li>'DATSUN 710'</li>\n",
       "\t<li>'HORNET 4 DRIVE'</li>\n",
       "\t<li>'HORNET SPORTABOUT'</li>\n",
       "\t<li>'VALIANT'</li>\n",
       "\t<li>'DUSTER 360'</li>\n",
       "\t<li>'MERC 240D'</li>\n",
       "\t<li>'MERC 230'</li>\n",
       "\t<li>'MERC 280'</li>\n",
       "\t<li>'MERC 280C'</li>\n",
       "\t<li>'MERC 450SE'</li>\n",
       "\t<li>'MERC 450SL'</li>\n",
       "\t<li>'MERC 450SLC'</li>\n",
       "\t<li>'CADILLAC FLEETWOOD'</li>\n",
       "\t<li>'LINCOLN CONTINENTAL'</li>\n",
       "\t<li>'CHRYSLER IMPERIAL'</li>\n",
       "\t<li>'FIAT 128'</li>\n",
       "\t<li>'HONDA CIVIC'</li>\n",
       "\t<li>'TOYOTA COROLLA'</li>\n",
       "\t<li>'TOYOTA CORONA'</li>\n",
       "\t<li>'DODGE CHALLENGER'</li>\n",
       "\t<li>'AMC JAVELIN'</li>\n",
       "\t<li>'CAMARO Z28'</li>\n",
       "\t<li>'PONTIAC FIREBIRD'</li>\n",
       "\t<li>'FIAT X1-9'</li>\n",
       "\t<li>'PORSCHE 914-2'</li>\n",
       "\t<li>'LOTUS EUROPA'</li>\n",
       "\t<li>'FORD PANTERA L'</li>\n",
       "\t<li>'FERRARI DINO'</li>\n",
       "\t<li>'MASERATI BORA'</li>\n",
       "\t<li>'VOLVO 142E'</li>\n",
       "</ol>\n"
      ],
      "text/latex": [
       "\\begin{enumerate*}\n",
       "\\item 'MAZDA RX4'\n",
       "\\item 'MAZDA RX4 WAG'\n",
       "\\item 'DATSUN 710'\n",
       "\\item 'HORNET 4 DRIVE'\n",
       "\\item 'HORNET SPORTABOUT'\n",
       "\\item 'VALIANT'\n",
       "\\item 'DUSTER 360'\n",
       "\\item 'MERC 240D'\n",
       "\\item 'MERC 230'\n",
       "\\item 'MERC 280'\n",
       "\\item 'MERC 280C'\n",
       "\\item 'MERC 450SE'\n",
       "\\item 'MERC 450SL'\n",
       "\\item 'MERC 450SLC'\n",
       "\\item 'CADILLAC FLEETWOOD'\n",
       "\\item 'LINCOLN CONTINENTAL'\n",
       "\\item 'CHRYSLER IMPERIAL'\n",
       "\\item 'FIAT 128'\n",
       "\\item 'HONDA CIVIC'\n",
       "\\item 'TOYOTA COROLLA'\n",
       "\\item 'TOYOTA CORONA'\n",
       "\\item 'DODGE CHALLENGER'\n",
       "\\item 'AMC JAVELIN'\n",
       "\\item 'CAMARO Z28'\n",
       "\\item 'PONTIAC FIREBIRD'\n",
       "\\item 'FIAT X1-9'\n",
       "\\item 'PORSCHE 914-2'\n",
       "\\item 'LOTUS EUROPA'\n",
       "\\item 'FORD PANTERA L'\n",
       "\\item 'FERRARI DINO'\n",
       "\\item 'MASERATI BORA'\n",
       "\\item 'VOLVO 142E'\n",
       "\\end{enumerate*}\n"
      ],
      "text/markdown": [
       "1. 'MAZDA RX4'\n",
       "2. 'MAZDA RX4 WAG'\n",
       "3. 'DATSUN 710'\n",
       "4. 'HORNET 4 DRIVE'\n",
       "5. 'HORNET SPORTABOUT'\n",
       "6. 'VALIANT'\n",
       "7. 'DUSTER 360'\n",
       "8. 'MERC 240D'\n",
       "9. 'MERC 230'\n",
       "10. 'MERC 280'\n",
       "11. 'MERC 280C'\n",
       "12. 'MERC 450SE'\n",
       "13. 'MERC 450SL'\n",
       "14. 'MERC 450SLC'\n",
       "15. 'CADILLAC FLEETWOOD'\n",
       "16. 'LINCOLN CONTINENTAL'\n",
       "17. 'CHRYSLER IMPERIAL'\n",
       "18. 'FIAT 128'\n",
       "19. 'HONDA CIVIC'\n",
       "20. 'TOYOTA COROLLA'\n",
       "21. 'TOYOTA CORONA'\n",
       "22. 'DODGE CHALLENGER'\n",
       "23. 'AMC JAVELIN'\n",
       "24. 'CAMARO Z28'\n",
       "25. 'PONTIAC FIREBIRD'\n",
       "26. 'FIAT X1-9'\n",
       "27. 'PORSCHE 914-2'\n",
       "28. 'LOTUS EUROPA'\n",
       "29. 'FORD PANTERA L'\n",
       "30. 'FERRARI DINO'\n",
       "31. 'MASERATI BORA'\n",
       "32. 'VOLVO 142E'\n",
       "\n",
       "\n"
      ],
      "text/plain": [
       " [1] \"MAZDA RX4\"           \"MAZDA RX4 WAG\"       \"DATSUN 710\"         \n",
       " [4] \"HORNET 4 DRIVE\"      \"HORNET SPORTABOUT\"   \"VALIANT\"            \n",
       " [7] \"DUSTER 360\"          \"MERC 240D\"           \"MERC 230\"           \n",
       "[10] \"MERC 280\"            \"MERC 280C\"           \"MERC 450SE\"         \n",
       "[13] \"MERC 450SL\"          \"MERC 450SLC\"         \"CADILLAC FLEETWOOD\" \n",
       "[16] \"LINCOLN CONTINENTAL\" \"CHRYSLER IMPERIAL\"   \"FIAT 128\"           \n",
       "[19] \"HONDA CIVIC\"         \"TOYOTA COROLLA\"      \"TOYOTA CORONA\"      \n",
       "[22] \"DODGE CHALLENGER\"    \"AMC JAVELIN\"         \"CAMARO Z28\"         \n",
       "[25] \"PONTIAC FIREBIRD\"    \"FIAT X1-9\"           \"PORSCHE 914-2\"      \n",
       "[28] \"LOTUS EUROPA\"        \"FORD PANTERA L\"      \"FERRARI DINO\"       \n",
       "[31] \"MASERATI BORA\"       \"VOLVO 142E\"         "
      ]
     },
     "metadata": {},
     "output_type": "display_data"
    }
   ],
   "source": [
    "map_chr(row.names(mtcars), str_to_upper)"
   ]
  },
  {
   "cell_type": "code",
   "execution_count": 21,
   "metadata": {},
   "outputs": [
    {
     "name": "stdout",
     "output_type": "stream",
     "text": [
      "List of 3\n",
      " $ nums    : int [1:10] 1 2 3 4 5 6 7 8 9 10\n",
      " $ logicals: logi [1:2] TRUE FALSE\n",
      " $ chars   : chr [1:26] \"a\" \"b\" \"c\" \"d\" ...\n"
     ]
    }
   ],
   "source": [
    "mylist <- list(nums = 1:10, logicals = c(TRUE, FALSE), chars = letters)\n",
    "str(mylist)"
   ]
  },
  {
   "cell_type": "code",
   "execution_count": 22,
   "metadata": {},
   "outputs": [
    {
     "data": {
      "text/html": [
       "<dl class=dl-horizontal>\n",
       "\t<dt>nums</dt>\n",
       "\t\t<dd>10</dd>\n",
       "\t<dt>logicals</dt>\n",
       "\t\t<dd>2</dd>\n",
       "\t<dt>chars</dt>\n",
       "\t\t<dd>26</dd>\n",
       "</dl>\n"
      ],
      "text/latex": [
       "\\begin{description*}\n",
       "\\item[nums] 10\n",
       "\\item[logicals] 2\n",
       "\\item[chars] 26\n",
       "\\end{description*}\n"
      ],
      "text/markdown": [
       "nums\n",
       ":   10logicals\n",
       ":   2chars\n",
       ":   26\n",
       "\n"
      ],
      "text/plain": [
       "    nums logicals    chars \n",
       "      10        2       26 "
      ]
     },
     "metadata": {},
     "output_type": "display_data"
    }
   ],
   "source": [
    "map_int(mylist, length)"
   ]
  },
  {
   "cell_type": "code",
   "execution_count": 23,
   "metadata": {},
   "outputs": [
    {
     "data": {
      "text/html": [
       "<dl class=dl-horizontal>\n",
       "\t<dt>nums</dt>\n",
       "\t\t<dd>'integer'</dd>\n",
       "\t<dt>logicals</dt>\n",
       "\t\t<dd>'logical'</dd>\n",
       "\t<dt>chars</dt>\n",
       "\t\t<dd>'character'</dd>\n",
       "</dl>\n"
      ],
      "text/latex": [
       "\\begin{description*}\n",
       "\\item[nums] 'integer'\n",
       "\\item[logicals] 'logical'\n",
       "\\item[chars] 'character'\n",
       "\\end{description*}\n"
      ],
      "text/markdown": [
       "nums\n",
       ":   'integer'logicals\n",
       ":   'logical'chars\n",
       ":   'character'\n",
       "\n"
      ],
      "text/plain": [
       "       nums    logicals       chars \n",
       "  \"integer\"   \"logical\" \"character\" "
      ]
     },
     "metadata": {},
     "output_type": "display_data"
    }
   ],
   "source": [
    "map_chr(mylist, typeof)"
   ]
  },
  {
   "cell_type": "code",
   "execution_count": 24,
   "metadata": {},
   "outputs": [
    {
     "data": {
      "text/html": [
       "<dl class=dl-horizontal>\n",
       "\t<dt>mpg</dt>\n",
       "\t\t<dd>20.090625</dd>\n",
       "\t<dt>cyl</dt>\n",
       "\t\t<dd>6.1875</dd>\n",
       "\t<dt>disp</dt>\n",
       "\t\t<dd>230.721875</dd>\n",
       "\t<dt>hp</dt>\n",
       "\t\t<dd>146.6875</dd>\n",
       "\t<dt>drat</dt>\n",
       "\t\t<dd>3.5965625</dd>\n",
       "\t<dt>wt</dt>\n",
       "\t\t<dd>3.21725</dd>\n",
       "\t<dt>qsec</dt>\n",
       "\t\t<dd>17.84875</dd>\n",
       "\t<dt>vs</dt>\n",
       "\t\t<dd>0.4375</dd>\n",
       "\t<dt>am</dt>\n",
       "\t\t<dd>0.40625</dd>\n",
       "\t<dt>gear</dt>\n",
       "\t\t<dd>3.6875</dd>\n",
       "\t<dt>carb</dt>\n",
       "\t\t<dd>2.8125</dd>\n",
       "</dl>\n"
      ],
      "text/latex": [
       "\\begin{description*}\n",
       "\\item[mpg] 20.090625\n",
       "\\item[cyl] 6.1875\n",
       "\\item[disp] 230.721875\n",
       "\\item[hp] 146.6875\n",
       "\\item[drat] 3.5965625\n",
       "\\item[wt] 3.21725\n",
       "\\item[qsec] 17.84875\n",
       "\\item[vs] 0.4375\n",
       "\\item[am] 0.40625\n",
       "\\item[gear] 3.6875\n",
       "\\item[carb] 2.8125\n",
       "\\end{description*}\n"
      ],
      "text/markdown": [
       "mpg\n",
       ":   20.090625cyl\n",
       ":   6.1875disp\n",
       ":   230.721875hp\n",
       ":   146.6875drat\n",
       ":   3.5965625wt\n",
       ":   3.21725qsec\n",
       ":   17.84875vs\n",
       ":   0.4375am\n",
       ":   0.40625gear\n",
       ":   3.6875carb\n",
       ":   2.8125\n",
       "\n"
      ],
      "text/plain": [
       "       mpg        cyl       disp         hp       drat         wt       qsec \n",
       " 20.090625   6.187500 230.721875 146.687500   3.596563   3.217250  17.848750 \n",
       "        vs         am       gear       carb \n",
       "  0.437500   0.406250   3.687500   2.812500 "
      ]
     },
     "metadata": {},
     "output_type": "display_data"
    }
   ],
   "source": [
    "map_dbl(mtcars, mean)"
   ]
  },
  {
   "cell_type": "code",
   "execution_count": 25,
   "metadata": {
    "collapsed": true
   },
   "outputs": [],
   "source": [
    "library(nycflights13)"
   ]
  },
  {
   "cell_type": "code",
   "execution_count": 26,
   "metadata": {},
   "outputs": [
    {
     "data": {
      "text/html": [
       "<dl class=dl-horizontal>\n",
       "\t<dt>year</dt>\n",
       "\t\t<dd>'integer'</dd>\n",
       "\t<dt>month</dt>\n",
       "\t\t<dd>'integer'</dd>\n",
       "\t<dt>day</dt>\n",
       "\t\t<dd>'integer'</dd>\n",
       "\t<dt>dep_time</dt>\n",
       "\t\t<dd>'integer'</dd>\n",
       "\t<dt>sched_dep_time</dt>\n",
       "\t\t<dd>'integer'</dd>\n",
       "\t<dt>dep_delay</dt>\n",
       "\t\t<dd>'double'</dd>\n",
       "\t<dt>arr_time</dt>\n",
       "\t\t<dd>'integer'</dd>\n",
       "\t<dt>sched_arr_time</dt>\n",
       "\t\t<dd>'integer'</dd>\n",
       "\t<dt>arr_delay</dt>\n",
       "\t\t<dd>'double'</dd>\n",
       "\t<dt>carrier</dt>\n",
       "\t\t<dd>'character'</dd>\n",
       "\t<dt>flight</dt>\n",
       "\t\t<dd>'integer'</dd>\n",
       "\t<dt>tailnum</dt>\n",
       "\t\t<dd>'character'</dd>\n",
       "\t<dt>origin</dt>\n",
       "\t\t<dd>'character'</dd>\n",
       "\t<dt>dest</dt>\n",
       "\t\t<dd>'character'</dd>\n",
       "\t<dt>air_time</dt>\n",
       "\t\t<dd>'double'</dd>\n",
       "\t<dt>distance</dt>\n",
       "\t\t<dd>'double'</dd>\n",
       "\t<dt>hour</dt>\n",
       "\t\t<dd>'double'</dd>\n",
       "\t<dt>minute</dt>\n",
       "\t\t<dd>'double'</dd>\n",
       "\t<dt>time_hour</dt>\n",
       "\t\t<dd>'double'</dd>\n",
       "</dl>\n"
      ],
      "text/latex": [
       "\\begin{description*}\n",
       "\\item[year] 'integer'\n",
       "\\item[month] 'integer'\n",
       "\\item[day] 'integer'\n",
       "\\item[dep\\textbackslash{}\\_time] 'integer'\n",
       "\\item[sched\\textbackslash{}\\_dep\\textbackslash{}\\_time] 'integer'\n",
       "\\item[dep\\textbackslash{}\\_delay] 'double'\n",
       "\\item[arr\\textbackslash{}\\_time] 'integer'\n",
       "\\item[sched\\textbackslash{}\\_arr\\textbackslash{}\\_time] 'integer'\n",
       "\\item[arr\\textbackslash{}\\_delay] 'double'\n",
       "\\item[carrier] 'character'\n",
       "\\item[flight] 'integer'\n",
       "\\item[tailnum] 'character'\n",
       "\\item[origin] 'character'\n",
       "\\item[dest] 'character'\n",
       "\\item[air\\textbackslash{}\\_time] 'double'\n",
       "\\item[distance] 'double'\n",
       "\\item[hour] 'double'\n",
       "\\item[minute] 'double'\n",
       "\\item[time\\textbackslash{}\\_hour] 'double'\n",
       "\\end{description*}\n"
      ],
      "text/markdown": [
       "year\n",
       ":   'integer'month\n",
       ":   'integer'day\n",
       ":   'integer'dep_time\n",
       ":   'integer'sched_dep_time\n",
       ":   'integer'dep_delay\n",
       ":   'double'arr_time\n",
       ":   'integer'sched_arr_time\n",
       ":   'integer'arr_delay\n",
       ":   'double'carrier\n",
       ":   'character'flight\n",
       ":   'integer'tailnum\n",
       ":   'character'origin\n",
       ":   'character'dest\n",
       ":   'character'air_time\n",
       ":   'double'distance\n",
       ":   'double'hour\n",
       ":   'double'minute\n",
       ":   'double'time_hour\n",
       ":   'double'\n",
       "\n"
      ],
      "text/plain": [
       "          year          month            day       dep_time sched_dep_time \n",
       "     \"integer\"      \"integer\"      \"integer\"      \"integer\"      \"integer\" \n",
       "     dep_delay       arr_time sched_arr_time      arr_delay        carrier \n",
       "      \"double\"      \"integer\"      \"integer\"       \"double\"    \"character\" \n",
       "        flight        tailnum         origin           dest       air_time \n",
       "     \"integer\"    \"character\"    \"character\"    \"character\"       \"double\" \n",
       "      distance           hour         minute      time_hour \n",
       "      \"double\"       \"double\"       \"double\"       \"double\" "
      ]
     },
     "metadata": {},
     "output_type": "display_data"
    }
   ],
   "source": [
    "map_chr(flights, typeof)"
   ]
  },
  {
   "cell_type": "code",
   "execution_count": 27,
   "metadata": {},
   "outputs": [
    {
     "data": {
      "text/html": [
       "<dl>\n",
       "\t<dt>$Sepal.Length</dt>\n",
       "\t\t<dd>35</dd>\n",
       "\t<dt>$Sepal.Width</dt>\n",
       "\t\t<dd>23</dd>\n",
       "\t<dt>$Petal.Length</dt>\n",
       "\t\t<dd>43</dd>\n",
       "\t<dt>$Petal.Width</dt>\n",
       "\t\t<dd>22</dd>\n",
       "\t<dt>$Species</dt>\n",
       "\t\t<dd>3</dd>\n",
       "</dl>\n"
      ],
      "text/latex": [
       "\\begin{description}\n",
       "\\item[\\$Sepal.Length] 35\n",
       "\\item[\\$Sepal.Width] 23\n",
       "\\item[\\$Petal.Length] 43\n",
       "\\item[\\$Petal.Width] 22\n",
       "\\item[\\$Species] 3\n",
       "\\end{description}\n"
      ],
      "text/markdown": [
       "$Sepal.Length\n",
       ":   35\n",
       "$Sepal.Width\n",
       ":   23\n",
       "$Petal.Length\n",
       ":   43\n",
       "$Petal.Width\n",
       ":   22\n",
       "$Species\n",
       ":   3\n",
       "\n",
       "\n"
      ],
      "text/plain": [
       "$Sepal.Length\n",
       "[1] 35\n",
       "\n",
       "$Sepal.Width\n",
       "[1] 23\n",
       "\n",
       "$Petal.Length\n",
       "[1] 43\n",
       "\n",
       "$Petal.Width\n",
       "[1] 22\n",
       "\n",
       "$Species\n",
       "[1] 3\n"
      ]
     },
     "metadata": {},
     "output_type": "display_data"
    }
   ],
   "source": [
    "map(iris, function(col) length(unique(col))) # number of unique values in each column"
   ]
  },
  {
   "cell_type": "code",
   "execution_count": 28,
   "metadata": {},
   "outputs": [
    {
     "data": {
      "text/html": [
       "<dl class=dl-horizontal>\n",
       "\t<dt>Sepal.Length</dt>\n",
       "\t\t<dd>35</dd>\n",
       "\t<dt>Sepal.Width</dt>\n",
       "\t\t<dd>23</dd>\n",
       "\t<dt>Petal.Length</dt>\n",
       "\t\t<dd>43</dd>\n",
       "\t<dt>Petal.Width</dt>\n",
       "\t\t<dd>22</dd>\n",
       "\t<dt>Species</dt>\n",
       "\t\t<dd>3</dd>\n",
       "</dl>\n"
      ],
      "text/latex": [
       "\\begin{description*}\n",
       "\\item[Sepal.Length] 35\n",
       "\\item[Sepal.Width] 23\n",
       "\\item[Petal.Length] 43\n",
       "\\item[Petal.Width] 22\n",
       "\\item[Species] 3\n",
       "\\end{description*}\n"
      ],
      "text/markdown": [
       "Sepal.Length\n",
       ":   35Sepal.Width\n",
       ":   23Petal.Length\n",
       ":   43Petal.Width\n",
       ":   22Species\n",
       ":   3\n",
       "\n"
      ],
      "text/plain": [
       "Sepal.Length  Sepal.Width Petal.Length  Petal.Width      Species \n",
       "          35           23           43           22            3 "
      ]
     },
     "metadata": {},
     "output_type": "display_data"
    }
   ],
   "source": [
    "map_int(iris, function(col) length(unique(col)))"
   ]
  }
 ],
 "metadata": {
  "kernelspec": {
   "display_name": "R",
   "language": "R",
   "name": "ir"
  },
  "language_info": {
   "codemirror_mode": "r",
   "file_extension": ".r",
   "mimetype": "text/x-r-source",
   "name": "R",
   "pygments_lexer": "r",
   "version": "3.4.1"
  }
 },
 "nbformat": 4,
 "nbformat_minor": 2
}
